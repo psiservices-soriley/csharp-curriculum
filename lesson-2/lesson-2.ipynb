{
  "cells": [
    {
      "cell_type": "markdown",
      "metadata": {},
      "source": [
        "# Conditionals"
      ]
    },
    {
      "cell_type": "markdown",
      "metadata": {},
      "source": [
        "We've looked at the `boolean` datatype, as well as some operators that allow us to compare two values by returning a `boolean`:"
      ]
    },
    {
      "cell_type": "code",
      "execution_count": 1,
      "metadata": {
        "dotnet_interactive": {
          "language": "csharp"
        }
      },
      "source": [
        "var age = 22;\n",
        "display(age < 18);\n",
        "display(age >= 18);"
      ],
      "outputs": [
        {
          "output_type": "execute_result",
          "data": {
            "text/html": "<div class=\"dni-plaintext\">False</div>"
          },
          "execution_count": 1,
          "metadata": {}
        },
        {
          "output_type": "execute_result",
          "data": {
            "text/html": "<div class=\"dni-plaintext\">True</div>"
          },
          "execution_count": 1,
          "metadata": {}
        }
      ]
    },
    {
      "cell_type": "markdown",
      "metadata": {},
      "source": [
        "The `boolean` datatype can be compared to the answers `Yes` and `No` when different questions are asked about some data. For example, we could rewrite the comparison between `age` and `18` in the above examples as the following questions:\n",
        "\n",
        "* Is Steven under the age of 18? => `No`\n",
        "* Is Steven over the age of 18? => `Yes`"
      ]
    },
    {
      "cell_type": "markdown",
      "metadata": {},
      "source": [
        "In a lot of scenarios where questions are being asked, it is desirable to execute code in the case that the answer to the question is yes or no. A quick tool we can use to do this is known as the `if` statement:\n",
        "\n",
        "```csharp\n",
        "if (/* a boolean expression that returns true or false */) {\n",
        "    /* code to execute in the event that the boolean expression returns true */\n",
        "}\n",
        "```"
      ]
    },
    {
      "cell_type": "code",
      "execution_count": 1,
      "metadata": {
        "dotnet_interactive": {
          "language": "csharp"
        }
      },
      "source": [
        "var age = 22;\n",
        "if (age < 21) {\n",
        "    display(\"You are not allowed into the bar.\");\n",
        "}\n",
        "\n",
        "if (age >= 21) {\n",
        "    display(\"Come on in!\");\n",
        "}"
      ],
      "outputs": [
        {
          "output_type": "execute_result",
          "data": {
            "text/plain": "Come on in!"
          },
          "execution_count": 1,
          "metadata": {}
        }
      ]
    },
    {
      "cell_type": "markdown",
      "metadata": {},
      "source": [
        "To quickly execute code in the event that the boolean expression returns `false`, a similar syntax beginning with the word `else` can be used after the first set of curly braces:\n",
        "\n",
        "```csharp\n",
        "if (/* a boolean expression that returns true or false */) {\n",
        "    /* code to execute in the event that the boolean expression returns true */\n",
        "} else {\n",
        "    /* code to execute if the boolean expression returns false */\n",
        "}\n",
        "```"
      ]
    },
    {
      "cell_type": "code",
      "execution_count": 1,
      "metadata": {
        "dotnet_interactive": {
          "language": "csharp"
        }
      },
      "source": [
        "var age = 22;\n",
        "if (age < 21) {\n",
        "    display(\"You are not allowed into the bar.\");\n",
        "} else {\n",
        "    display(\"Come on in!\");\n",
        "}"
      ],
      "outputs": [
        {
          "output_type": "execute_result",
          "data": {
            "text/plain": "Come on in!"
          },
          "execution_count": 1,
          "metadata": {}
        }
      ]
    },
    {
      "cell_type": "markdown",
      "metadata": {},
      "source": [
        "You can also use `else if` in the event that the previous expression returned false, but you want to check if another condition is true:\n",
        "\n",
        "```csharp\n",
        "if (/* a boolean expression that returns true or false */) {\n",
        "    /* code to execute in the event that the boolean expression returns true */\n",
        "} else if (/* another boolean expression that returns true or false */) {\n",
        "    /* code to execute in the event that the boolean expression returns true */\n",
        "} else {\n",
        "    /* code to execute if all expressions return false */\n",
        "}\n",
        "```\n",
        "\n",
        "And, you can chain as many `else if`s as you want, for as many conditions as you want to check:\n",
        "\n",
        "```csharp\n",
        "if (/* ... */) {\n",
        "    /* ... */\n",
        "} else if (/* ... */) {\n",
        "    /* ... */\n",
        "} else if (/* ... */) {\n",
        "    /* ... */\n",
        "} /* ... */\n",
        "```"
      ]
    },
    {
      "cell_type": "code",
      "execution_count": 1,
      "metadata": {
        "dotnet_interactive": {
          "language": "csharp"
        }
      },
      "source": [
        "var age = 19;\n",
        "if (age < 18) {\n",
        "    display(\"You are not allowed into the restaurant.\");\n",
        "} else if (age < 21) {\n",
        "    display(\"You can dine, but there will be no wine for you.\");\n",
        "} else {\n",
        "    display(\"Come on in!\");\n",
        "}"
      ],
      "outputs": [
        {
          "output_type": "execute_result",
          "data": {
            "text/plain": "You can dine, but there will be no wine for you."
          },
          "execution_count": 1,
          "metadata": {}
        }
      ]
    },
    {
      "cell_type": "markdown",
      "metadata": {},
      "source": [
        "The syntax of `if`, `else if`, and `else` is a family of syntax known as **conditionals**. This word simply refers to a keyword that allows you to execute different code based on whether or not certain expressions return `true` or `false`."
      ]
    },
    {
      "cell_type": "markdown",
      "metadata": {},
      "source": [
        "Bringing this back to the idea of programming languages as tools that allow us to write down and execute our thoughts, conditionals can simply be thought of as a way to model scenarios where different events occur based on the answer to a question. For example, *\"do I live in the northern hemisphere?\"*."
      ]
    },
    {
      "cell_type": "markdown",
      "metadata": {},
      "source": [
        "# Methods"
      ]
    },
    {
      "cell_type": "markdown",
      "metadata": {},
      "source": [
        "So far most of the programs we have seen have been pretty \"flat\". That is to say, if we wanted to reuse the functionality provided by them, we would have to rewrite out the entirety of the code.\n",
        "\n",
        "This is not ideal. In the real world, we'd like to be able to solve a problem once, and then reuse the solution for a later problem.\n",
        "\n",
        "Hence there exists the concept of a `method` in C#, which represents a single reusable piece of code:"
      ]
    },
    {
      "cell_type": "code",
      "execution_count": 1,
      "metadata": {
        "dotnet_interactive": {
          "language": "csharp"
        }
      },
      "source": [
        "// A method that returns a random number.\n",
        "// The first keyword here is the type of the value that the method\n",
        "// will produce. This is followed by the name of the method and a few braces:\n",
        "int randomNumber() {\n",
        "    // To produce a value as the result of calling this method,\n",
        "    // we can use the 'return' keyword.\n",
        "    return 7;\n",
        "}\n",
        "\n",
        "// We can call the method by typing the method name, followed by the\n",
        "// same double parentheses we saw when creating it. This will evaluate\n",
        "// the code within the method body and give back the result that comes\n",
        "// after the 'return' keyword.\n",
        "display(randomNumber());"
      ],
      "outputs": [
        {
          "output_type": "execute_result",
          "data": {
            "text/html": "<div class=\"dni-plaintext\">7</div>"
          },
          "execution_count": 1,
          "metadata": {}
        }
      ]
    },
    {
      "cell_type": "markdown",
      "metadata": {},
      "source": [
        "## Input Parameters"
      ]
    },
    {
      "cell_type": "markdown",
      "metadata": {},
      "source": [
        "The double parentheses might look suspiciously verbose, and this is because we are actually leaving something out of the code.\n",
        "\n",
        "In the majority of cases in which a method is being created, it must be designed in a way that allows it to operate on different data. For example, if you imagine implementing a method called `multiply`, a different value should be returned based on the values we would like to multiply.\n",
        "\n",
        "For this reason, when implementing a method we can specify **input parameters** that the method can take in. This term refers to variables which will be passed into the method whenever it gets called."
      ]
    },
    {
      "cell_type": "markdown",
      "metadata": {},
      "source": [
        "**input parameters** can be specified between the open and close parentheses when defining a method, using the same syntax as when creating a variable with an explicit type. To specify more than one which can be passed into the method, you can separate each parameter definition by a comma:"
      ]
    },
    {
      "cell_type": "code",
      "execution_count": 1,
      "metadata": {
        "dotnet_interactive": {
          "language": "csharp"
        }
      },
      "source": [
        "// Create a method named 'multiply' that takes in two integers\n",
        "// that we will call 'a' and 'b'.\n",
        "// The method will return the result of calling a * b\n",
        "int multiply(int a, int b) {\n",
        "    return a * b;\n",
        "}\n",
        "\n",
        "// To call the method, we can use a similar syntax as when\n",
        "// a method is called that doesn't take in any arguments,\n",
        "// supplying the values which will be stored in 'a' and 'b'\n",
        "// from left to right between the two parentheses that\n",
        "// follow the name of the method:\n",
        "display(multiply(3, 4));"
      ],
      "outputs": [
        {
          "output_type": "execute_result",
          "data": {
            "text/html": "<div class=\"dni-plaintext\">12</div>"
          },
          "execution_count": 1,
          "metadata": {}
        }
      ]
    },
    {
      "cell_type": "markdown",
      "metadata": {},
      "source": [
        "## Let's Try It Ourselves"
      ]
    },
    {
      "cell_type": "code",
      "execution_count": 1,
      "metadata": {
        "dotnet_interactive": {
          "language": "csharp"
        }
      },
      "source": [
        "// Implement a method named 'greet' which takes in a string representing\n",
        "// the name of a person, and returns a string containing a\n",
        "// greeting that uses the name of the person."
      ],
      "outputs": []
    },
    {
      "cell_type": "markdown",
      "metadata": {},
      "source": [
        "## Methods With No Return Argument"
      ]
    },
    {
      "cell_type": "markdown",
      "metadata": {},
      "source": [
        "It is possible to create methods which have no return argument. To do this we can simply use `void` as the return type of the method:"
      ]
    },
    {
      "cell_type": "code",
      "execution_count": 1,
      "metadata": {
        "dotnet_interactive": {
          "language": "csharp"
        }
      },
      "source": [
        "// This method has no return type, so 'void' is used as the return type\n",
        "void greet(string name) {\n",
        "    display(\"Hello \" + name + \"!\");\n",
        "}\n",
        "\n",
        "greet(\"Steven\");"
      ],
      "outputs": [
        {
          "output_type": "execute_result",
          "data": {
            "text/plain": "Hello Steven!"
          },
          "execution_count": 1,
          "metadata": {}
        }
      ]
    },
    {
      "cell_type": "markdown",
      "metadata": {},
      "source": [
        "# Classes and Object Oriented Programming (OOP)"
      ]
    },
    {
      "cell_type": "markdown",
      "metadata": {},
      "source": [
        "With the tools that have been presented thus far alone, modeling real-world data with a program can get pretty tedious and ugly:"
      ]
    },
    {
      "cell_type": "code",
      "execution_count": 1,
      "metadata": {
        "dotnet_interactive": {
          "language": "csharp"
        }
      },
      "source": [
        "var person1FirstName = \"Alice\";\n",
        "var person1LastName = \"Marice\";\n",
        "var person1Age = 19;\n",
        "\n",
        "var person2FirstName = \"Bob\";\n",
        "var person2LastName = \"Linton\";\n",
        "var person2Age = 36;\n",
        "\n",
        "var person3FirstName = \"Chris\";\n",
        "// ..."
      ],
      "outputs": []
    },
    {
      "cell_type": "markdown",
      "metadata": {},
      "source": [
        "Not really that pretty. Our variables which illustrate a pattern of describing different people are left sitting out amongst each other, each with an indistinguishable scope from the other. This pattern makes the code hard to read and maintain.\n",
        "\n",
        "To fix this garbage pile verbosity we can use a `class`, which is the syntax used to describe a single recreatable object containing a set of attributes:"
      ]
    },
    {
      "cell_type": "code",
      "execution_count": 1,
      "metadata": {
        "dotnet_interactive": {
          "language": "csharp"
        }
      },
      "source": [
        "class Person {\n",
        "    public string FirstName;\n",
        "    public string LastName;\n",
        "    public uint Age;\n",
        "}"
      ],
      "outputs": []
    },
    {
      "cell_type": "markdown",
      "metadata": {},
      "source": [
        "Here we are creating a class called `Person` that contains three attributes: `FirstName`, `LastName`, and `Age`. `FirstName` and `LastName` are both `string`s, and `Age` is an `unsigned integer` (a nonnegative integer).\n",
        "\n",
        "The `public` keyword that comes before each of these attributes is called an `access modifier`. This specifies where each attribute can be accessed from. We will talk more about this later, but for now just know that `public` means that the attribute can be modified anywhere from within the class itself, and anywhere from outside of the class.\n",
        "\n",
        "Also, just to formalize the name of these variables since I keep calling them attributes, they are actually called `instance variables`. This is because they are variables that get created with each new instance of the class."
      ]
    },
    {
      "cell_type": "markdown",
      "metadata": {},
      "source": [
        "## Creating a New Instance of a Class"
      ]
    },
    {
      "cell_type": "markdown",
      "metadata": {},
      "source": [
        "To create an instance of the class, we can use the `new` keyword:"
      ]
    },
    {
      "cell_type": "code",
      "execution_count": 1,
      "metadata": {
        "dotnet_interactive": {
          "language": "csharp"
        }
      },
      "source": [
        "var person1 = new Person();"
      ],
      "outputs": []
    },
    {
      "cell_type": "markdown",
      "metadata": {},
      "source": [
        "The line `var person1 = new Person()` creates a new variable called `person1`, and assigns a new instance of the `Person` class to it. This instance object contains accessible fields called `FirstName`, `LastName`, and `Age` which can be accessed using the dot (`.`) operator:"
      ]
    },
    {
      "cell_type": "code",
      "execution_count": 1,
      "metadata": {
        "dotnet_interactive": {
          "language": "csharp"
        }
      },
      "source": [
        "var alice = new Person();\n",
        "alice.FirstName = \"Alice\";\n",
        "alice.LastName = \"Marice\";\n",
        "alice.Age = 19;\n",
        "\n",
        "display(alice.FirstName);\n",
        "display(alice.LastName);\n",
        "display(alice.Age);"
      ],
      "outputs": [
        {
          "output_type": "execute_result",
          "data": {
            "text/plain": "Alice"
          },
          "execution_count": 1,
          "metadata": {}
        },
        {
          "output_type": "execute_result",
          "data": {
            "text/plain": "Marice"
          },
          "execution_count": 1,
          "metadata": {}
        },
        {
          "output_type": "execute_result",
          "data": {
            "text/html": "<div class=\"dni-plaintext\">19</div>"
          },
          "execution_count": 1,
          "metadata": {}
        }
      ]
    },
    {
      "cell_type": "markdown",
      "metadata": {},
      "source": [
        "One interesting question we can ask here is, *\"what is the type of 'person1'?\"*. The answer to this question is simply `Person`. Whenever we create an instance of a class, the type of the instance is simply the class itself. This means we can rewrite the creation of `person1` in the above example as:\n",
        "\n",
        "```csharp\n",
        "Person person1 = new Person();\n",
        "```"
      ]
    },
    {
      "cell_type": "markdown",
      "metadata": {},
      "source": [
        "This is important because it allows us to create methods that take in class instances as parameters, like this:"
      ]
    },
    {
      "cell_type": "code",
      "execution_count": 1,
      "metadata": {
        "dotnet_interactive": {
          "language": "csharp"
        }
      },
      "source": [
        "// Creating a method that takes in a variable of type `Person`\n",
        "// and returns the full name of the person:\n",
        "string GetFullName(Person person) {\n",
        "    return person.FirstName + \" \" + person.LastName;\n",
        "}\n",
        "\n",
        "var alice = new Person();\n",
        "alice.FirstName = \"Alice\";\n",
        "alice.LastName = \"Marice\";\n",
        "alice.Age = 19;\n",
        "\n",
        "display(GetFullName(alice));"
      ],
      "outputs": [
        {
          "output_type": "execute_result",
          "data": {
            "text/plain": "Alice Marice"
          },
          "execution_count": 1,
          "metadata": {}
        }
      ]
    },
    {
      "cell_type": "markdown",
      "metadata": {},
      "source": [
        "## Instance Methods"
      ]
    },
    {
      "cell_type": "markdown",
      "metadata": {},
      "source": [
        "Classes can contain much more than instance variables. They can have methods too, which can operate on the data within the class, or return new data:"
      ]
    },
    {
      "cell_type": "code",
      "execution_count": 1,
      "metadata": {
        "dotnet_interactive": {
          "language": "csharp"
        }
      },
      "source": [
        "class Person {\n",
        "    public string FirstName;\n",
        "    public string LastName;\n",
        "    public uint Age;\n",
        "    \n",
        "    // Every instance variable and method should also\n",
        "    // have an access modifier, i.e. the 'public'\n",
        "    // keyword that prefixes the method definition here:\n",
        "    public string FullName() {\n",
        "        // We can use the 'this' keyword to reference\n",
        "        // the instance of the class which is being\n",
        "        // used to call this method.\n",
        "        // i.e. if alice.FullName() is called,\n",
        "        // 'this' will represent the same object as 'alice'\n",
        "        return this.FirstName + \" \" + this.LastName;\n",
        "    }\n",
        "    // ^ Notice that no semicolon is placed after the second curly brace\n",
        "}\n",
        "\n",
        "var alice = new Person();\n",
        "alice.FirstName = \"Alice\";\n",
        "alice.LastName = \"Marice\";\n",
        "alice.Age = 19;\n",
        "\n",
        "display(alice.FullName());"
      ],
      "outputs": [
        {
          "output_type": "execute_result",
          "data": {
            "text/plain": "Alice Marice"
          },
          "execution_count": 1,
          "metadata": {}
        }
      ]
    },
    {
      "cell_type": "markdown",
      "metadata": {},
      "source": [
        "Instance methods can also change the data stored within the class:"
      ]
    },
    {
      "cell_type": "code",
      "execution_count": 1,
      "metadata": {
        "dotnet_interactive": {
          "language": "csharp"
        }
      },
      "source": [
        "class Person {\n",
        "    public string FirstName;\n",
        "    public string LastName;\n",
        "    public uint Age;\n",
        "    \n",
        "    // A method which can be called to indicate that this person\n",
        "    // has become married to another person, named 'spouse'\n",
        "    public void Marry(Person spouse) {\n",
        "        // Change this person's last name to be the last name of their spouse\n",
        "        this.LastName = spouse.LastName;\n",
        "    }\n",
        "    \n",
        "    public string FullName() {\n",
        "        return this.FirstName + \" \" + this.LastName;\n",
        "    }\n",
        "}\n",
        "\n",
        "// Create two people who will marry each other\n",
        "var alice = new Person();\n",
        "alice.FirstName = \"Alice\";\n",
        "alice.LastName = \"Marice\";\n",
        "alice.Age = 26;\n",
        "\n",
        "var bob = new Person();\n",
        "bob.FirstName = \"Bob\";\n",
        "bob.LastName = \"Linton\";\n",
        "bob.Age = 25;\n",
        "\n",
        "// Signify that Alice has married Bob\n",
        "person1.Marry(person2);\n",
        "\n",
        "display(person1.FullName());\n",
        "display(person2.FullName());"
      ],
      "outputs": [
        {
          "output_type": "execute_result",
          "data": {
            "text/plain": "Alice Linton"
          },
          "execution_count": 1,
          "metadata": {}
        },
        {
          "output_type": "execute_result",
          "data": {
            "text/plain": "Bob Linton"
          },
          "execution_count": 1,
          "metadata": {}
        }
      ]
    },
    {
      "cell_type": "markdown",
      "metadata": {},
      "source": [
        "## The Constructor"
      ]
    },
    {
      "cell_type": "markdown",
      "metadata": {},
      "source": [
        "The initialization we are doing for each object that we create where we set the first name, last name, and age of each person is a little ugly. Thankfully, this is why **constructors** were invented. **Constructors** are special methods in the class which allow parameters to be passed in when a new object is created:"
      ]
    },
    {
      "cell_type": "code",
      "execution_count": 1,
      "metadata": {
        "dotnet_interactive": {
          "language": "csharp"
        }
      },
      "source": [
        "class Person {\n",
        "    public string FirstName;\n",
        "    public string LastName;\n",
        "    public uint Age;\n",
        "    \n",
        "    // This is the constructor. It is a method with the same name as\n",
        "    // the class itself, and does not specify a return type. The\n",
        "    // constructor is usually only used for initialization of\n",
        "    // instance variables.\n",
        "    public Person(string FirstName, string LastName, uint Age) {\n",
        "        this.FirstName = FirstName;\n",
        "        this.LastName = LastName;\n",
        "        this.Age = Age;\n",
        "    }\n",
        "    \n",
        "    public string FullName() {\n",
        "        return this.FirstName + \" \" + this.LastName;\n",
        "    }\n",
        "}\n",
        "\n",
        "// Now when we create a new Person, we have to include the\n",
        "// arguments required by our constructor within the two\n",
        "// parentheses after the class name.\n",
        "var alice = new Person(\"Alice\", \"Marice\", 26);\n",
        "var bob = new Person(\"Bob\", \"Linton\", 25);\n",
        "\n",
        "display(alice.FullName());\n",
        "display(bob.FullName());"
      ],
      "outputs": [
        {
          "output_type": "execute_result",
          "data": {
            "text/plain": "Alice Maurice"
          },
          "execution_count": 1,
          "metadata": {}
        },
        {
          "output_type": "execute_result",
          "data": {
            "text/plain": "Bob Linton"
          },
          "execution_count": 1,
          "metadata": {}
        }
      ]
    },
    {
      "cell_type": "markdown",
      "metadata": {},
      "source": [
        "Although the notion of `class`es and objects (instances of classes) may at first appear complicated and foreign, they are actually designed to create a more intuitive way of translating your thoughts into a program.\n",
        "\n",
        "Almost any situation can be broken down into a set of `class`es that build off of and interact with each other. For example, we could extend this `Person` example to describe the events that occur within the lifetime of an individual. We could use a program to tell a story:\n",
        "\n",
        "```csharp\n",
        "var alice = new Person();\n",
        "// ...\n",
        "\n",
        "var bob = new Person();\n",
        "// ...\n",
        "\n",
        "// Alice, the prodigy\n",
        "alice.GraduatedKindergartenAtAge(4);\n",
        "alice.GraduatedElementarySchoolAtAge(10);\n",
        "alice.GraduatedHighSchoolAtAge(16);\n",
        "alice.GraduatedCollegeAtAge(19);\n",
        "alice.BecameMarriedTo(bob, 26); // Alice became married to Bob at age 26\n",
        "```"
      ]
    },
    {
      "cell_type": "markdown",
      "metadata": {},
      "source": [
        "The point here is not to tell you how to use the `Person` class, or any class. It's to give you the tools necessary for you to be able to create your own classes for your own purposes. These tools are created so that you are able to better represent whatever situation or problem you are trying to model.\n",
        "\n",
        "In a lot of cases, it's easier to represent a situation (especially a complex one) by referring to the macroscopic components that we think about when we run through the situation in our own heads, rather than referring to them by the raw microscopic details of what those thoughts reflect. It's more natural to say *\"it's our anniversary\"* rather than *\"the number of days since we have gotten married minus the number of days created by leap years modulo 365 is 0.\"* And even then the abstraction of a `day` must be defined in terms of the system clock on our machine. A `class` is the main tool that allows this gap to be bridged.\n",
        "\n",
        "Within a class we can expose the high level attributes that we think about when we refer to a concept in our own heads, while providing the translation needed for the concept to make sense to our machines. We call it `FullName`, and our machines reply *Ah so you mean **this.FirstName + \" \" + this.LastName***\n",
        "\n",
        "The idea of breaking situations down into simple, reusable classes in this way is known as **Object Oriented Programming** (commonly referred to as OOP)."
      ]
    },
    {
      "cell_type": "markdown",
      "metadata": {},
      "source": [
        "## Inheritance"
      ]
    },
    {
      "cell_type": "markdown",
      "metadata": {},
      "source": [
        "There's one last main thing to cover regarding classes, and it's called **inheritance**. To illustrate what exactly inheritance is, I'm going to first illustrate a simple example where it comes into play."
      ]
    },
    {
      "cell_type": "markdown",
      "metadata": {},
      "source": [
        "Picture a situation where we want to create two objects, `cat` and `dog`. Since a cat and a dog are both animals, we'd like to have similar methods for both of them. So initially it appears as though we should create a single class called `Animal` which contains the methods shared by both animals we would like to represent:"
      ]
    },
    {
      "cell_type": "code",
      "execution_count": 1,
      "metadata": {
        "dotnet_interactive": {
          "language": "csharp"
        }
      },
      "source": [
        "class Animal {\n",
        "    public string Name;\n",
        "    public Animal(string Name) {\n",
        "        this.Name = Name;\n",
        "    }\n",
        "    public void Speak() {\n",
        "        // ...but what do we put here?\n",
        "    }\n",
        "}"
      ],
      "outputs": []
    },
    {
      "cell_type": "markdown",
      "metadata": {},
      "source": [
        "But we've come across a problem. The method `Speak` will be different depending on the type of animal that we are talking about. That is to say, **there are some attributes that are common to all animals and others which are specific to the type of animal**. This is where inheritance comes into play.\n",
        "\n",
        "We can keep our `Animal` class, but create two additional classes: `Cat` and `Dog`. An additional piece of syntax called `inheritance` can be used to specify that all of the attributes and methods that exist in `Animal` should also exist in our `Cat` and `Dog` classes.\n",
        "\n",
        "```csharp\n",
        "class Animal {\n",
        "    public string Name;\n",
        "    public Animal(string Name) {\n",
        "        this.Name = Name;\n",
        "    }\n",
        "}\n",
        "\n",
        "class Cat : Animal {\n",
        "    public void Speak() {\n",
        "        display(\"Meow\");\n",
        "    }\n",
        "}\n",
        "\n",
        "class Dog : Animal {\n",
        "    public void Speak() {\n",
        "        display(\"Woof Woof\");\n",
        "    }\n",
        "}\n",
        "```"
      ]
    },
    {
      "cell_type": "markdown",
      "metadata": {},
      "source": [
        "If we just execute the code as it is presented above, however, an error will be thrown twice:\n",
        "\n",
        "```\n",
        "error CS7036: There is no argument given that corresponds to the required formal parameter 'Name' of 'Animal.Animal(string)'\n",
        "```\n",
        "\n",
        "What is going on here? Well, inheritance is not just a tool that copies instance variables and methods from one class to another. It actually extends a class so that it can be classified as the type of more objects.\n",
        "\n",
        "If we have two objects, `cat` of type `Cat` and `dog` of type `Dog`, if `Cat` and `Dog` both inherit the class `Animal`, then `cat` and `dog` are also both of type `Animal`. This is what makes inheritance so powerful.\n",
        "\n",
        "Getting back to the error that is preventing us from executing this code, we can note that in the current form of the code, `Cat` and `Dog` provide no constructor definition, implying for example that we should be able to create a new cat like this:\n",
        "\n",
        "```csharp\n",
        "var cat = new Cat();\n",
        "```\n",
        "\n",
        "However, from the definition of the class `Animal`, which both `Cat` and `Dog` inherit, the constructor specifies that creating a new object of type `Animal` requires one parameter of type 'string':\n",
        "\n",
        "```csharp\n",
        "public Animal(string Name)\n",
        "```\n",
        "\n",
        "This contradiction is the reason we are seeing this error."
      ]
    },
    {
      "cell_type": "markdown",
      "metadata": {},
      "source": [
        "But, does that mean we have to execute the exact same code in the constructors of our inherited classes as in our parent class? That seems like it would defeat one of the main purposes of inheritance, which is to prevent code duplication.\n",
        "\n",
        "Well, no. Again, thankfully there is a tool built into the language that allows us to call the constructor of the class our class is being inherited from:"
      ]
    },
    {
      "cell_type": "code",
      "execution_count": 1,
      "metadata": {
        "dotnet_interactive": {
          "language": "csharp"
        }
      },
      "source": [
        "class Animal {\n",
        "    public string Name;\n",
        "    public Animal(string Name) {\n",
        "        this.Name = Name;\n",
        "    }\n",
        "}\n",
        "\n",
        "class Cat : Animal {\n",
        "    // This line calls the base constructor (the constructor of the class\n",
        "    // this class is inheriting) with the string argument passed into\n",
        "    // this constructor when it is called.\n",
        "    // \n",
        "    // a.k.a., When you eventually have code that says `var cat = new Cat(\"Mr Meow\");`,\n",
        "    // \"Mr Meow\" is passed into the variable we have defined in this constructor\n",
        "    // called 'Name', which is then passed into the constructor of the 'Animal' class.\n",
        "    // that constructor sets 'this.Name = Name' which will set the name of this animal\n",
        "    // to \"Mr Meow\"\n",
        "    public Cat(string Name) : base(Name)\n",
        "    {\n",
        "    }\n",
        "    \n",
        "    public void Speak() {\n",
        "        display(\"Meow\");\n",
        "    }\n",
        "}\n",
        "\n",
        "class Dog : Animal {\n",
        "    public Dog(string Name) : base(Name)\n",
        "    {\n",
        "    }\n",
        "    \n",
        "    public void Speak() {\n",
        "        display(\"Woof Woof\");\n",
        "    }\n",
        "}"
      ],
      "outputs": []
    },
    {
      "cell_type": "markdown",
      "metadata": {},
      "source": [
        "Now we can create a new cat and dog using our two new classes:"
      ]
    },
    {
      "cell_type": "code",
      "execution_count": 1,
      "metadata": {
        "dotnet_interactive": {
          "language": "csharp"
        }
      },
      "source": [
        "var cat = new Cat(\"Mr Meow\");\n",
        "var dog = new Dog(\"Peter\");\n",
        "\n",
        "cat.Speak();\n",
        "dog.Speak();"
      ],
      "outputs": [
        {
          "output_type": "execute_result",
          "data": {
            "text/plain": "Meow"
          },
          "execution_count": 1,
          "metadata": {}
        },
        {
          "output_type": "execute_result",
          "data": {
            "text/plain": "Woof Woof"
          },
          "execution_count": 1,
          "metadata": {}
        }
      ]
    },
    {
      "cell_type": "markdown",
      "metadata": {},
      "source": [
        "# Exercises"
      ]
    },
    {
      "cell_type": "code",
      "execution_count": 1,
      "metadata": {
        "dotnet_interactive": {
          "language": "csharp"
        }
      },
      "source": [
        "// Implement two classes, 'Account' and 'Bank' to represent a situation in\n",
        "// which a bank which has access to an account is able to perform deposits,\n",
        "// withdrawals, and transfers\n",
        ""
      ],
      "outputs": []
    }
  ],
  "metadata": {
    "kernelspec": {
      "display_name": ".NET (C#)",
      "language": "C#",
      "name": ".net-csharp"
    },
    "language_info": {
      "file_extension": ".cs",
      "mimetype": "text/x-csharp",
      "name": "C#",
      "pygments_lexer": "csharp",
      "version": "8.0"
    }
  },
  "nbformat": 4,
  "nbformat_minor": 4
}