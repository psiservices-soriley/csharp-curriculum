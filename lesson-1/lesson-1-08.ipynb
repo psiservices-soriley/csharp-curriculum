{
  "cells": [
    {
      "cell_type": "markdown",
      "metadata": {},
      "source": [
        "# Without further ado, let's dive into the syntax of the **C#** programming language."
      ]
    },
    {
      "cell_type": "markdown",
      "metadata": {},
      "source": [
        "## First of all, to clarify, the **syntax** of a programming language is the \"vocabulary\" that we are able to use in order to represent a thought process."
      ]
    },
    {
      "cell_type": "markdown",
      "metadata": {},
      "source": [
        "## Some of the most fundamental pieces of syntax **C#** gives us are the **fundamental data types**. These include:"
      ]
    },
    {
      "cell_type": "markdown",
      "metadata": {},
      "source": [
        "### **Strings**\r\n",
        "\r\n",
        "Strings can be used to store an arbitrary amount of text. In the following snippet, `\"Hello World\"` is a string.\r\n",
        "\r\n",
        "```csharp\r\n",
        "Console.WriteLine(\"Hello World\");\r\n",
        "```\r\n",
        "\r\n",
        "To create a string, surround the text you would like to store in double quotes (\"\"). If there exists a double quote within the text you would like to store, simply put a back slash (\\\\) in front of it:\r\n",
        "\r\n",
        "```csharp\r\n",
        "Console.WriteLine(\"Hello\\\"World\");\r\n",
        "```\r\n",
        "\r\n",
        "A back slash is a special character which can be combined with certain characters to create special behavior. If instead you would like to place a literal backslash within your string, simply prefix it with another back slash:\r\n",
        "\r\n",
        "```csharp\r\n",
        "Console.WriteLine(\"Hello\\\\World\");\r\n",
        "```\r\n",
        "\r\n",
        "The above code outputs the text Hello\\\\World, with a single backslash."
      ]
    },
    {
      "cell_type": "markdown",
      "metadata": {},
      "source": [
        "### **Integers**\r\n",
        "\r\n",
        "Integers are numbers which can be negative, positive, or zero; and which do not contain a decimal value (i.e. 3 is an integer, 3.14 is not). To create them you can just write them out like so:\r\n",
        "\r\n",
        "```csharp\r\n",
        "Console.WriteLine(3);\r\n",
        "Console.WriteLine(-7);\r\n",
        "```\r\n",
        "\r\n",
        "There are other types of numbers which can contain decimals, but we will discuss them after we talk about **variables**."
      ]
    },
    {
      "cell_type": "markdown",
      "metadata": {},
      "source": [
        "### **Booleans**\r\n",
        "\r\n",
        "A boolean is a value that is either true or false. Like numbers, to create them you can just simply write out their values:\r\n",
        "\r\n",
        "```csharp\r\n",
        "Console.WriteLine(true);\r\n",
        "Console.WriteLine(false);\r\n",
        "```"
      ]
    }
  ],
  "metadata": {
    "kernelspec": {
      "display_name": ".NET (C#)",
      "language": "C#",
      "name": ".net-csharp"
    },
    "language_info": {
      "name": "C#",
      "version": ""
    }
  },
  "nbformat": 4,
  "nbformat_minor": 4
}