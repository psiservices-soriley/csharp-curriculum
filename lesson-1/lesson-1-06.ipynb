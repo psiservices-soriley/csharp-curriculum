{
 "cells": [
  {
   "cell_type": "markdown",
   "metadata": {
    "dotnet_interactive": {
     "language": "csharp"
    }
   },
   "source": [
    "To reiterate, here is the formula we ended up with in order to calculate the span of winter:"
   ]
  },
  {
   "cell_type": "markdown",
   "metadata": {
    "dotnet_interactive": {
     "language": "csharp"
    }
   },
   "source": [
    "* *(a) Use a fancy equation to calculate whether or not I'm above the equator*\n",
    "* *If (a) indicates that I am above the equator, then*\n",
    "    * *winter starts at month 12 (December) and lasts for 3 months*\n",
    "* *otherwise*\n",
    "    * *winter starts at month 6 (June) and lasts for 3 months*"
   ]
  },
  {
   "cell_type": "markdown",
   "metadata": {
    "dotnet_interactive": {
     "language": "csharp"
    }
   },
   "source": [
    "And in fact, our computer speaks a language which is very close to our broken down version of this calculation, and it's called **C#** (or Java, or Python, etc.) Programming languages yay!"
   ]
  },
  {
   "cell_type": "markdown",
   "metadata": {
    "dotnet_interactive": {
     "language": "csharp"
    }
   },
   "source": [
    "Below I've written what the same formula might look like in the **C#** programming language:"
   ]
  },
  {
   "cell_type": "markdown",
   "metadata": {
    "dotnet_interactive": {
     "language": "csharp"
    }
   },
   "source": [
    "```csharp\n",
    "// Include additional code that allows us to fancily calculate\n",
    "// which hemisphere we're in\n",
    "using FancyHemisphereCalculationLibrary;\n",
    "\n",
    "// A function that calculates the span of winter and returns the span in the format \n",
    "// ([index of the month in which winter begins], [number of months winter lasts])\n",
    "(int, int) CalculateSpanOfWinter()\n",
    "{\n",
    "    if (IAmAboveTheEquator())\n",
    "    {\n",
    "        // I am above the equator, so winter starts in december (month 12) and\n",
    "        // ends in february (3 months later)\n",
    "        return (12, 3);\n",
    "    }\n",
    "    else\n",
    "    {\n",
    "        // I am not above the equator, so winter starts in June (month 6) and\n",
    "        // ends in August (3 months later)\n",
    "        return (6, 3);\n",
    "    }\n",
    "}\n",
    "```"
   ]
  },
  {
   "cell_type": "markdown",
   "metadata": {
    "dotnet_interactive": {
     "language": "csharp"
    }
   },
   "source": [
    "Hopefully my comments are able to illustrate what the code is doing, given that we haven't actually gone over the specifics of the programming language syntax."
   ]
  }
 ],
 "metadata": {
  "kernelspec": {
   "display_name": ".NET (C#)",
   "language": "C#",
   "name": ".net-csharp"
  },
  "language_info": {
   "file_extension": ".cs",
   "mimetype": "text/x-csharp",
   "name": "csharp",
   "pygments_lexer": "csharp",
   "version": "8.0"
  }
 },
 "nbformat": 4,
 "nbformat_minor": 4
}