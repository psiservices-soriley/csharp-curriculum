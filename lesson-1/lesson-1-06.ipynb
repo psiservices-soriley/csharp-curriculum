{
  "cells": [
    {
      "cell_type": "markdown",
      "metadata": {},
      "source": [
        "## To reiterate, here is the formula we ended up with in order to calculate the span of winter:"
      ]
    },
    {
      "cell_type": "markdown",
      "metadata": {},
      "source": [
        "* ### (a) Use a fancy equation to calculate whether or not I'm above the equator\n",
        "* ### If (a) indicates that I am above the equator, then\n",
        "    * ### winter starts at month 12 (December) and lasts for 3 months\n",
        "* ### otherwise\n",
        "    * ### winter starts at month 6 (June) and lasts for 3 months"
      ]
    },
    {
      "cell_type": "markdown",
      "metadata": {},
      "source": [
        "## And in fact, our computer speaks a language which is very close to our broken down version of this calculation, and it's called C# (or Java, or Python, etc.) Programming languages yay!"
      ]
    },
    {
      "cell_type": "markdown",
      "metadata": {},
      "source": [
        "## To reiterate, here is the formula we ended up with in order to calculate the span of winter:"
      ]
    },
    {
      "cell_type": "markdown",
      "metadata": {},
      "source": [
        "* ### (a) Use a fancy equation to calculate whether or not I'm above the equator\n",
        "* ### If (a) indicates that I am above the equator, then\n",
        "    * ### winter starts at month 12 (December) and lasts for 3 months\n",
        "* ### otherwise\n",
        "    * ### winter starts at month 6 (June) and lasts for 3 months"
      ]
    },
    {
      "cell_type": "markdown",
      "metadata": {},
      "source": [
        "## Below I've written what the same formula might look like in the **C#** programming language:"
      ]
    },
    {
      "cell_type": "markdown",
      "metadata": {},
      "source": [
        "```csharp\r\n",
        "// Include additional code that allows us to fancily calculate\r\n",
        "// which hemisphere we're in\r\n",
        "using FancyHemisphereCalculationLibrary;\r\n",
        "\r\n",
        "// A function that calculates the span of winter and returns the span in the format \r\n",
        "// ([index of the month in which winter begins], [number of months winter lasts])\r\n",
        "(int, int) CalculateSpanOfWinter()\r\n",
        "{\r\n",
        "    if (IAmAboveTheEquator())\r\n",
        "    {\r\n",
        "        // I am above the equator, so winter starts in december (month 12) and\r\n",
        "        // ends in february (3 months later)\r\n",
        "        return (12, 3);\r\n",
        "    }\r\n",
        "    else\r\n",
        "    {\r\n",
        "        // I am not above the equator, so winter starts in June (month 6) and\r\n",
        "        // ends in August (3 months later)\r\n",
        "        return (6, 3);\r\n",
        "    }\r\n",
        "}\r\n",
        "```"
      ]
    },
    {
      "cell_type": "markdown",
      "metadata": {},
      "source": [
        "## Hopefully my comments are able to illustrate what the code is doing, given that we haven't actually gone over the specifics of the programming language syntax."
      ]
    }
  ],
  "metadata": {
    "kernelspec": {
      "display_name": ".NET (C#)",
      "language": "C#",
      "name": ".net-csharp"
    },
    "language_info": {
      "file_extension": ".cs",
      "mimetype": "text/x-csharp",
      "name": "C#",
      "pygments_lexer": "csharp",
      "version": "8.0"
    }
  },
  "nbformat": 4,
  "nbformat_minor": 4
}