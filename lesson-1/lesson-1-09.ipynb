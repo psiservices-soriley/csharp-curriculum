{
  "cells": [
    {
      "cell_type": "markdown",
      "metadata": {
        "dotnet_interactive": {
          "language": "csharp"
        }
      },
      "source": [
        "# Variables"
      ]
    },
    {
      "cell_type": "markdown",
      "metadata": {
        "dotnet_interactive": {
          "language": "csharp"
        }
      },
      "source": [
        "## Variables in a programming language are just like variables in mathematics. They are **named storage containers which can be used to store, modify, and reuse values**. A variable can be created using code like the following:"
      ]
    },
    {
      "cell_type": "code",
      "execution_count": null,
      "metadata": {
        "dotnet_interactive": {
          "language": "csharp"
        }
      },
      "outputs": [
        {
          "data": {
            "text/plain": "3\r\n"
          },
          "output_type": "unknown"
        }
      ],
      "source": [
        "var a = 2;\r\n",
        "a = 3;\r\n",
        "\r\n",
        "Console.WriteLine(a);"
      ]
    },
    {
      "cell_type": "markdown",
      "metadata": {
        "dotnet_interactive": {
          "language": "csharp"
        }
      },
      "source": [
        "## You can initialize a variable using the keyword `\"var\"`, followed by the name of the variable you want to create. Here I've used the name `a`, but you can use any alphanumeric string you want that doesn't begin with a number. From here you can append an equals sign followed by the value you would like to assign to the variable."
      ]
    },
    {
      "cell_type": "markdown",
      "metadata": {
        "dotnet_interactive": {
          "language": "csharp"
        }
      },
      "source": [
        "## Once a variable has been assigned a value, a new value can be assigned to the variable using nearly the same syntax, except without the `var` keyword."
      ]
    }
  ],
  "metadata": {
    "kernelspec": {
      "display_name": ".NET (C#)",
      "language": "C#",
      "name": ".net-csharp"
    },
    "language_info": {
      "name": "C#",
      "version": ""
    }
  },
  "nbformat": 4,
  "nbformat_minor": 4
}