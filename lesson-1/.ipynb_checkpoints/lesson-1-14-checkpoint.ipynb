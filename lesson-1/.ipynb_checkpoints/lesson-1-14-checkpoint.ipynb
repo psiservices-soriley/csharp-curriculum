{
 "cells": [
  {
   "cell_type": "markdown",
   "metadata": {
    "dotnet_interactive": {
     "language": "csharp"
    }
   },
   "source": [
    "# Problem: Implement the Quadratic Formula"
   ]
  },
  {
   "cell_type": "markdown",
   "metadata": {
    "dotnet_interactive": {
     "language": "csharp"
    }
   },
   "source": [
    "Using the knowledge we've developed thus far, let's implement a program to solve the quadratic formula."
   ]
  },
  {
   "cell_type": "code",
   "execution_count": 2,
   "metadata": {
    "dotnet_interactive": {
     "language": "csharp"
    }
   },
   "outputs": [
    {
     "data": {
      "text/html": [
       "-1"
      ]
     },
     "metadata": {},
     "output_type": "display_data"
    }
   ],
   "source": [
    "double a = 1;\n",
    "double b = 2;\n",
    "double c = 1;\n",
    "\n",
    "// Math Library => Math.Sqrt\n",
    "\n",
    "// Reminder: The quadratic formula is (-b plus or minus sqrt(b^2 - 4 * a * c)) / (2 * a)\n",
    "var discriminant = (b * b) - (4 * a * c);\n",
    "\n",
    "if (discriminant < 0) {\n",
    "    display(\"No real solutions\");\n",
    "} else if (discriminant == 0) {\n",
    "    var solution1 = (-b + Math.Sqrt(discriminant)) / (2 * a);\n",
    "    display(solution1);\n",
    "} else {\n",
    "    var solution1 = (-b + Math.Sqrt(discriminant)) / (2 * a);\n",
    "    var solution2 = (-b - Math.Sqrt(discriminant)) / (2 * a);\n",
    "\n",
    "    display(solution1 + \", \" + solution2);\n",
    "}"
   ]
  }
 ],
 "metadata": {
  "kernelspec": {
   "display_name": ".NET (C#)",
   "language": "C#",
   "name": ".net-csharp"
  },
  "language_info": {
   "file_extension": ".cs",
   "mimetype": "text/x-csharp",
   "name": "C#",
   "pygments_lexer": "csharp",
   "version": "8.0"
  }
 },
 "nbformat": 4,
 "nbformat_minor": 4
}
