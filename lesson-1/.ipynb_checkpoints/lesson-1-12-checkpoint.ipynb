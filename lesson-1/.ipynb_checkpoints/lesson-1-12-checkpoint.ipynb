{
 "cells": [
  {
   "cell_type": "markdown",
   "metadata": {
    "dotnet_interactive": {
     "language": "csharp"
    }
   },
   "source": [
    "# Mathematical Unary and Binary Operators"
   ]
  },
  {
   "cell_type": "markdown",
   "metadata": {
    "dotnet_interactive": {
     "language": "csharp"
    }
   },
   "source": [
    "This section contains an explanation of some of the unary and binary mathematical operators. Unary operators take in a single value and binary operators take in two values."
   ]
  },
  {
   "cell_type": "code",
   "execution_count": 2,
   "metadata": {
    "dotnet_interactive": {
     "language": "csharp"
    }
   },
   "outputs": [
    {
     "data": {
      "text/html": [
       "6"
      ]
     },
     "metadata": {},
     "output_type": "display_data"
    },
    {
     "data": {
      "text/plain": [
       "a + b = 6"
      ]
     },
     "metadata": {},
     "output_type": "display_data"
    },
    {
     "data": {
      "text/plain": [
       "a - b = -4"
      ]
     },
     "metadata": {},
     "output_type": "display_data"
    },
    {
     "data": {
      "text/plain": [
       "a * b = 5"
      ]
     },
     "metadata": {},
     "output_type": "display_data"
    },
    {
     "data": {
      "text/plain": [
       "a / b = 0.2"
      ]
     },
     "metadata": {},
     "output_type": "display_data"
    },
    {
     "data": {
      "text/plain": [
       "a % b = 1"
      ]
     },
     "metadata": {},
     "output_type": "display_data"
    },
    {
     "data": {
      "text/plain": [
       "-a = -1"
      ]
     },
     "metadata": {},
     "output_type": "display_data"
    },
    {
     "data": {
      "text/plain": [
       "!(a == b) = True"
      ]
     },
     "metadata": {},
     "output_type": "display_data"
    }
   ],
   "source": [
    "float a = 1f;\n",
    "float b = 5f;\n",
    "\n",
    "/** Binary operators */\n",
    "\n",
    "// The + binary operator can be used to add two values\n",
    "display(a + b);\n",
    "\n",
    "// For strings, the + operator can be used to append a value to the end of the string\n",
    "display(\"a + b = \" + (a + b));\n",
    "\n",
    "// The - binary operator can be used to add two values\n",
    "display(\"a - b = \" + (a - b));\n",
    "\n",
    "// The * binary operator can be used to multiply two values\n",
    "display(\"a * b = \" + (a * b));\n",
    "\n",
    "// The / binary operator can be used to divide two values\n",
    "// You might be surprised by the value that gets returned here\n",
    "display(\"a / b = \" + (a / b));\n",
    "\n",
    "// The % binary operator can be used to find the remainder when\n",
    "// dividing the first value by the second. It is known as the\n",
    "// modulo operator.\n",
    "display(\"a % b = \" + (a % b));\n",
    "\n",
    "/** Unary operators */\n",
    "\n",
    "// The - unary operator can be used to negate a value\n",
    "display(\"-a = \" + -a);\n",
    "\n",
    "// The ! unary operator can be used to flip a boolean value\n",
    "display(\"!(a == b) = \" + !(a == b));   // We can use parentheses to change the order of expression evaluation\n",
    "\n",
    "// Note the difference between the above line and the following code:\n",
    "// display(!a == b);"
   ]
  }
 ],
 "metadata": {
  "kernelspec": {
   "display_name": ".NET (C#)",
   "language": "C#",
   "name": ".net-csharp"
  },
  "language_info": {
   "file_extension": ".cs",
   "mimetype": "text/x-csharp",
   "name": "C#",
   "pygments_lexer": "csharp",
   "version": "8.0"
  }
 },
 "nbformat": 4,
 "nbformat_minor": 4
}
