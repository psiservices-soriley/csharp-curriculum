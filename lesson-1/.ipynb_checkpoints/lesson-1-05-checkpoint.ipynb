{
 "cells": [
  {
   "cell_type": "markdown",
   "metadata": {},
   "source": [
    "By continuously breaking down the definitions that underly the vocabulary we use to describe a thought process, we can continuously gain more verbosity.\n",
    "\n",
    "For example, the vocabulary terms we could break down next are **\"Northern Hemisphere\"** and **\"Southern Hemisphere\"**"
   ]
  },
  {
   "cell_type": "markdown",
   "metadata": {},
   "source": [
    "What exactly is the northern hemisphere of the Earth? Well, if we were to **take our position on earth and calculate whether or not we are above the equator**, we would have the answer to whether or not we are in the northern hemisphere. And if we aren't in the northern hemisphere, we must be in the southern hemisphere. This allows us to break down two more terms in our thought process:"
   ]
  },
  {
   "cell_type": "markdown",
   "metadata": {},
   "source": [
    "* *(a) Use a fancy equation to calculate whether or not I'm above the equator*\n",
    "* *If (a) indicates that I am above the equator, then*\n",
    "    * *winter starts at month 12 (December) and lasts for 3 months*\n",
    "* *otherwise*\n",
    "    * *winter starts at month 6 (June) and lasts for 3 months*"
   ]
  },
  {
   "cell_type": "markdown",
   "metadata": {},
   "source": [
    "If you **deconstruct your vocabulary to the point where you are able to represent most of your thought process using numbers and calculations with them**, you've essentially arrived at the point where you can represent your idea using a program.\n",
    "\n",
    "At first this seems difficult. But when you think about it, the concept of hemispheres, intervals, and months are things that you already know. All that we did to reach this formula was continuously break down our definitions to the point where we could describe how to calculate the span of winter to someone who had no idea what any of those words meant.\n",
    "\n",
    "What you might realize from this is that **what we're actually doing here is translating a language that we as humans speak to illustrate our thoughts into a language that our computers speak**."
   ]
  }
 ],
 "metadata": {
  "kernelspec": {
   "display_name": ".NET (C#)",
   "language": "C#",
   "name": ".net-csharp"
  },
  "language_info": {
   "file_extension": ".cs",
   "mimetype": "text/x-csharp",
   "name": "C#",
   "pygments_lexer": "csharp",
   "version": "8.0"
  }
 },
 "nbformat": 4,
 "nbformat_minor": 4
}
