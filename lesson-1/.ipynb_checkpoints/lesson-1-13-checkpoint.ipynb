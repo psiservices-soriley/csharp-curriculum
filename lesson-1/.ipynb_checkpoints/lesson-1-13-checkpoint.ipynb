{
 "cells": [
  {
   "cell_type": "markdown",
   "metadata": {
    "dotnet_interactive": {
     "language": "csharp"
    }
   },
   "source": [
    "# Other Number Types"
   ]
  },
  {
   "cell_type": "markdown",
   "metadata": {
    "dotnet_interactive": {
     "language": "csharp"
    }
   },
   "source": [
    "The integer is not the only number type in town. Here's a few others:"
   ]
  },
  {
   "cell_type": "code",
   "execution_count": 1,
   "metadata": {
    "dotnet_interactive": {
     "language": "csharp"
    }
   },
   "outputs": [
    {
     "data": {
      "text/plain": [
       "Current time (ticks) = 637527064739226291"
      ]
     },
     "metadata": {},
     "output_type": "display_data"
    },
    {
     "data": {
      "text/plain": [
       "PI ~~ 3.1415927"
      ]
     },
     "metadata": {},
     "output_type": "display_data"
    },
    {
     "data": {
      "text/plain": [
       "PI ~= 3.141592653589793"
      ]
     },
     "metadata": {},
     "output_type": "display_data"
    },
    {
     "data": {
      "text/plain": [
       "largerThanExpected = 3000000000"
      ]
     },
     "metadata": {},
     "output_type": "display_data"
    },
    {
     "data": {
      "text/plain": [
       "Current time (unsigned ticks) = 637527064739316172"
      ]
     },
     "metadata": {},
     "output_type": "display_data"
    }
   ],
   "source": [
    "// The default integer type only allows you to store values between -2147483648 and 2147483647.\n",
    "// A long can be used to store values between -9223372036854775808 and 9223372036854775807\n",
    "long currentTime = DateTime.Now.Ticks;  // Get the current time in ticks\n",
    "display(\"Current time (ticks) = \" + currentTime);\n",
    "\n",
    "// A float can be used to store decimal values with accuracy up to 8 digits after the decimal place\n",
    "// To create a float be sure to place an 'f' after the number:\n",
    "float PI = 3.14159265f;\n",
    "display(\"PI ~~ \" + PI);\n",
    "\n",
    "// A double can be used to store decimal values with double the accuracy of a float. That is, it can accurately maintain\n",
    "// up to 16 digits past the decimal point. Doubles are assumed by default in C# when a decimal value is created, but to\n",
    "// be explicit you can place a 'd' after the number:\n",
    "double PI_accurate = 3.1415926535897932d;\n",
    "display(\"PI ~= \" + PI_accurate);\n",
    "\n",
    "// A uint (unsigned integer) can be used to store values from 0 to 4294967295\n",
    "// This data type combines the normal range of positive/negative values for an integer into solely positive values.\n",
    "uint largerThanExpected = 3_000_000_000;\n",
    "display(\"largerThanExpected = \" + largerThanExpected);\n",
    "\n",
    "// A uint (unsigned integer) can be used to store values from 0 to 18446744073709551615\n",
    "ulong currentTime_unsigned = (ulong)DateTime.Now.Ticks;\n",
    "display(\"Current time (unsigned ticks) = \" + currentTime_unsigned);"
   ]
  }
 ],
 "metadata": {
  "kernelspec": {
   "display_name": ".NET (C#)",
   "language": "C#",
   "name": ".net-csharp"
  },
  "language_info": {
   "file_extension": ".cs",
   "mimetype": "text/x-csharp",
   "name": "C#",
   "pygments_lexer": "csharp",
   "version": "8.0"
  }
 },
 "nbformat": 4,
 "nbformat_minor": 4
}
