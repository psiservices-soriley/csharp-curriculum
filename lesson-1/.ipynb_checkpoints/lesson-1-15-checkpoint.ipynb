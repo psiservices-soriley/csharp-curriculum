{
 "cells": [
  {
   "cell_type": "markdown",
   "metadata": {
    "dotnet_interactive": {
     "language": "csharp"
    }
   },
   "source": [
    "# Problem: Determine if a Number is Divisible by Another Number"
   ]
  },
  {
   "cell_type": "code",
   "execution_count": 1,
   "metadata": {
    "dotnet_interactive": {
     "language": "csharp"
    }
   },
   "outputs": [
    {
     "data": {
      "text/plain": [
       "b divides a 7 times"
      ]
     },
     "metadata": {},
     "output_type": "display_data"
    }
   ],
   "source": [
    "/**\n",
    " * Implement a program that determines if a is divisible by b\n",
    " */\n",
    "\n",
    "int a = 119;\n",
    "int b = 17;\n",
    "\n",
    "if (a % b == 0) {\n",
    "    display(\"b divides a \" + (a / b) + \" times\");\n",
    "} else {\n",
    "    display(\"b doesn't divide a\");\n",
    "}"
   ]
  }
 ],
 "metadata": {
  "kernelspec": {
   "display_name": ".NET (C#)",
   "language": "C#",
   "name": ".net-csharp"
  },
  "language_info": {
   "file_extension": ".cs",
   "mimetype": "text/x-csharp",
   "name": "C#",
   "pygments_lexer": "csharp",
   "version": "8.0"
  }
 },
 "nbformat": 4,
 "nbformat_minor": 4
}
