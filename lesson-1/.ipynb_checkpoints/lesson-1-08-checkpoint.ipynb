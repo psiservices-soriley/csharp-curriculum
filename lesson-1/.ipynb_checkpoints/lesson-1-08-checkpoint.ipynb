{
 "cells": [
  {
   "cell_type": "markdown",
   "metadata": {},
   "source": [
    "Without further ado, let's dive into the syntax of the **C#** programming language."
   ]
  },
  {
   "cell_type": "markdown",
   "metadata": {},
   "source": [
    "First of all, to clarify, the **syntax** of a programming language is the \"vocabulary\" that we are able to use in order to represent a thought process.\n",
    "\n",
    "Some of the most fundamental pieces of syntax **C#** gives us are the **fundamental data types**. These include:"
   ]
  },
  {
   "cell_type": "markdown",
   "metadata": {},
   "source": [
    "### **Strings**\n",
    "\n",
    "Strings can be used to store an arbitrary amount of text. In the following snippet, `\"Hello World\"` is a string.\n",
    "\n",
    "```csharp\n",
    "Console.WriteLine(\"Hello World\");\n",
    "```\n",
    "\n",
    "To create a string, surround the text you would like to store in double quotes (\"\"). If there exists a double quote within the text you would like to store, simply put a back slash (\\\\) in front of it:\n",
    "\n",
    "```csharp\n",
    "Console.WriteLine(\"Hello\\\"World\");\n",
    "```\n",
    "\n",
    "A back slash is a special character which can be combined with certain characters to create special behavior. If instead you would like to place a literal backslash within your string, simply prefix it with another back slash:\n",
    "\n",
    "```csharp\n",
    "Console.WriteLine(\"Hello\\\\World\");\n",
    "```\n",
    "\n",
    "The above code outputs the text Hello\\\\World, with a single backslash."
   ]
  },
  {
   "cell_type": "markdown",
   "metadata": {},
   "source": [
    "### **Integers**\n",
    "\n",
    "Integers are numbers which can be negative, positive, or zero; and which do not contain a decimal value (i.e. 3 is an integer, 3.14 is not). To create them you can just write them out like so:\n",
    "\n",
    "```csharp\n",
    "Console.WriteLine(3);\n",
    "Console.WriteLine(-7);\n",
    "```\n",
    "\n",
    "There are other types of numbers which can contain decimals, but we will discuss them after we talk about **variables**."
   ]
  },
  {
   "cell_type": "markdown",
   "metadata": {},
   "source": [
    "### **Booleans**\n",
    "\n",
    "A boolean is a value that is either true or false. Like numbers, to create them you can just simply write out their values:\n",
    "\n",
    "```csharp\n",
    "Console.WriteLine(true);\n",
    "Console.WriteLine(false);\n",
    "```"
   ]
  }
 ],
 "metadata": {
  "kernelspec": {
   "display_name": ".NET (C#)",
   "language": "C#",
   "name": ".net-csharp"
  },
  "language_info": {
   "file_extension": ".cs",
   "mimetype": "text/x-csharp",
   "name": "C#",
   "pygments_lexer": "csharp",
   "version": "8.0"
  }
 },
 "nbformat": 4,
 "nbformat_minor": 4
}
