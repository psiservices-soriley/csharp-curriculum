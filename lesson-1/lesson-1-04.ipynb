{
 "cells": [
  {
   "cell_type": "markdown",
   "metadata": {
    "dotnet_interactive": {
     "language": "csharp"
    }
   },
   "source": [
    "**Any describable thought process can be implemented as a program.** The corresponding program will just be a very verbose way of describing the thought process."
   ]
  },
  {
   "cell_type": "markdown",
   "metadata": {
    "dotnet_interactive": {
     "language": "csharp"
    }
   },
   "source": [
    "For example, I'm going to take the following statement and turn it into a set of verbose instructions which will have a 1:1 relation with a program that inhabits the same thought:"
   ]
  },
  {
   "cell_type": "markdown",
   "metadata": {
    "dotnet_interactive": {
     "language": "csharp"
    }
   },
   "source": [
    "**\"Winter lasts from December to February in the Northern Hemisphere and lasts from June to August in the Southern Hemisphere.\"**\n",
    "\n",
    "If we were to describe the process by which we can obtain the interval of months that winter spans, we would word the above statement slightly differently, i.e."
   ]
  },
  {
   "cell_type": "markdown",
   "metadata": {
    "dotnet_interactive": {
     "language": "csharp"
    }
   },
   "source": [
    "* *if I live in the northern hemisphere, then*\n",
    "    * *winter spans the months December to February*\n",
    "* *otherwise*\n",
    "    * *winter spans the months June to August*"
   ]
  },
  {
   "cell_type": "markdown",
   "metadata": {
    "dotnet_interactive": {
     "language": "csharp"
    }
   },
   "source": [
    "When we refer to the intervals between months, we're specifically talking about **at what index the first month in the interval occurs**, as well as **how many months the interval lasts**. This observation allows us to gain a bit more verbosity in the statement:"
   ]
  },
  {
   "cell_type": "markdown",
   "metadata": {
    "dotnet_interactive": {
     "language": "csharp"
    }
   },
   "source": [
    "* *if I live in the northern hemisphere, then*\n",
    "    * *winter starts at month 12 (December) and lasts for 3 months*\n",
    "* *otherwise*\n",
    "    * *winter starts at month 6 (June) and lasts for 3 months*"
   ]
  },
  {
   "cell_type": "markdown",
   "metadata": {
    "dotnet_interactive": {
     "language": "csharp"
    }
   },
   "source": [
    "By continuously breaking down the definitions that underly the vocabulary we use to describe the thought process, we can continuously gain more verbosity."
   ]
  }
 ],
 "metadata": {
  "kernelspec": {
   "display_name": ".NET (C#)",
   "language": "C#",
   "name": ".net-csharp"
  },
  "language_info": {
   "file_extension": ".cs",
   "mimetype": "text/x-csharp",
   "name": "csharp",
   "pygments_lexer": "csharp",
   "version": "8.0"
  }
 },
 "nbformat": 4,
 "nbformat_minor": 4
}