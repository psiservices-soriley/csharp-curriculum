{
 "cells": [
  {
   "cell_type": "markdown",
   "metadata": {
    "dotnet_interactive": {
     "language": "csharp"
    }
   },
   "source": [
    "Hopefully this example where we calculated the span of winter is able to clarify to you what exactly a programming language is and what it's used for. **If you can think it, you can program it** (given enough time and breakdown of the vocabulary you're using to represent the problem you're trying to solve)."
   ]
  },
  {
   "cell_type": "markdown",
   "metadata": {
    "dotnet_interactive": {
     "language": "csharp"
    }
   },
   "source": [
    "More importantly what this means is that in thinking through the problems you might encounter in your everyday life, **not only are you able to transform the context of the problem into a program, but also the solution to the problem as well** (if you come up with one) from the language that your thoughts are written in."
   ]
  },
  {
   "cell_type": "markdown",
   "metadata": {
    "dotnet_interactive": {
     "language": "csharp"
    }
   },
   "source": [
    "This is what people refer to as the **\"programming mindset\"**. It's the process of breaking down a thought to the point where it is able to be written in a programming language of your choice."
   ]
  }
 ],
 "metadata": {
  "kernelspec": {
   "display_name": ".NET (C#)",
   "language": "C#",
   "name": ".net-csharp"
  },
  "language_info": {
   "file_extension": ".cs",
   "mimetype": "text/x-csharp",
   "name": "csharp",
   "pygments_lexer": "csharp",
   "version": "8.0"
  }
 },
 "nbformat": 4,
 "nbformat_minor": 4
}