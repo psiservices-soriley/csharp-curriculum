{
  "cells": [
    {
      "cell_type": "markdown",
      "metadata": {
        "dotnet_interactive": {
          "language": "csharp"
        }
      },
      "source": [
        "# Comparison Between Values"
      ]
    },
    {
      "cell_type": "markdown",
      "metadata": {
        "dotnet_interactive": {
          "language": "csharp"
        }
      },
      "source": [
        "## You can check the relationship between two values/variables in several different ways. This section covers some of the syntax used to form these comparisons."
      ]
    },
    {
      "cell_type": "markdown",
      "metadata": {
        "dotnet_interactive": {
          "language": "csharp"
        }
      },
      "source": [
        "## Before we talk about varible comparisons, I'd like to first formally introduce the idea of comments."
      ]
    },
    {
      "cell_type": "code",
      "execution_count": null,
      "metadata": {
        "dotnet_interactive": {
          "language": "csharp"
        }
      },
      "outputs": [
        {
          "output_type": "unknown"
        }
      ],
      "source": [
        "// Comments contain text used to explain and clarify different portions of code.\r\n",
        "// To create a comment, add two forward slashes (//) followed by any text which\r\n",
        "// will not attempt to be parsed by the compiler.\r\n",
        "\r\n",
        "/**\r\n",
        " You can also create comments that span multiplie lines by adding a forward slash\r\n",
        " followed by two asterisks (/**) and end the multiline comment at any time by adding\r\n",
        " an asterisk followed by a forward slash:\r\n",
        " */\r\n",
        "\r\n",
        "string s = \"Any string\";    // A string variable created for demonstration purposes\r\n",
        "Console.WriteLine(s);       // Write the value of s to the console"
      ]
    },
    {
      "cell_type": "markdown",
      "metadata": {
        "dotnet_interactive": {
          "language": "csharp"
        }
      },
      "source": [
        "## Now that we have an understanding of how to add comments to our code, we can proceed with learning some of the operators used to compare values:"
      ]
    },
    {
      "cell_type": "code",
      "execution_count": null,
      "metadata": {
        "dotnet_interactive": {
          "language": "csharp"
        }
      },
      "outputs": [
        {
          "data": {
            "text/plain": "True\r\n"
          },
          "output_type": "unknown"
        },
        {
          "data": {
            "text/plain": "True\r\n"
          },
          "output_type": "unknown"
        },
        {
          "data": {
            "text/plain": "False\r\n"
          },
          "output_type": "unknown"
        },
        {
          "data": {
            "text/plain": "False\r\n"
          },
          "output_type": "unknown"
        },
        {
          "data": {
            "text/plain": "5\r\n"
          },
          "output_type": "unknown"
        },
        {
          "data": {
            "text/plain": "False\r\n"
          },
          "output_type": "unknown"
        }
      ],
      "source": [
        "int a = 1;\r\n",
        "int b = 5;\r\n",
        "\r\n",
        "// The < operator can be used to see if one value is less than another\r\n",
        "Console.WriteLine(a < b);\r\n",
        "\r\n",
        "// The <= operator can be used to see if one value is less than or equal to another\r\n",
        "Console.WriteLine(a <= b);\r\n",
        "\r\n",
        "// The > operator can be used to see if one value is greater than another\r\n",
        "Console.WriteLine(a > b);\r\n",
        "\r\n",
        "// The >= operator can be used to see if one value is greater than or equal to another\r\n",
        "Console.WriteLine(a >= b);\r\n",
        "\r\n",
        "// The == operator can be used to see if two values are equal\r\n",
        "Console.WriteLine(a == b);\r\n",
        "\r\n",
        "// The != operator can be used to see if two values are not equal\r\n",
        "Console.WriteLine(a != b);"
      ]
    }
  ],
  "metadata": {
    "kernelspec": {
      "display_name": ".NET (C#)",
      "language": "C#",
      "name": ".net-csharp"
    },
    "language_info": {
      "name": "csharp",
      "version": ""
    }
  },
  "nbformat": 4,
  "nbformat_minor": 4
}