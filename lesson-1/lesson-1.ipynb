{
  "cells": [
    {
      "cell_type": "markdown",
      "metadata": {},
      "source": [
        "# C# Programming! Lesson 1\r\n",
        "\r\n",
        "A C# Course By Steven O'Riley"
      ]
    },
    {
      "cell_type": "markdown",
      "metadata": {},
      "source": [
        "A **program** is a sequence of instructions that specify how a set of data should be manipulated.\n",
        "\n",
        "Your program only has to be as complicated as the thoughts that go through your head when writing it.\n",
        "\n",
        "![Not Scary](https://user-images.githubusercontent.com/54543848/113030028-2690b000-915b-11eb-9f63-252920ae5fd7.png)\n",
        "\n",
        "This might seem obvious, but it is to say that if you can understand the problem you're trying to solve, and how to solve it, then you already know what the program to solve your problem will look like. It will just contain very verbose instructions."
      ]
    },
    {
      "cell_type": "markdown",
      "metadata": {},
      "source": [
        "# Let's Try It Out Ourselves"
      ]
    },
    {
      "cell_type": "code",
      "execution_count": null,
      "metadata": {
        "dotnet_interactive": {
          "language": "csharp"
        }
      },
      "outputs": [
        {
          "data": {
            "text/plain": "'Hello World!'"
          },
          "execution_count": 1,
          "metadata": {},
          "output_type": "execute_result"
        }
      ],
      "source": [
        "display(\"Hello World!\");"
      ]
    },
    {
      "cell_type": "markdown",
      "metadata": {},
      "source": [
        "The process that a program takes to go from start to finish can be described using an English sentence. For example, **\"the above program writes 'Hello World!' to the console\"**"
      ]
    },
    {
      "cell_type": "markdown",
      "metadata": {},
      "source": [
        "**Any describable thought process can be implemented as a program.** The corresponding program will just be a very verbose way of describing the thought process."
      ]
    },
    {
      "cell_type": "markdown",
      "metadata": {},
      "source": [
        "For example, I'm going to take the following statement and turn it into a set of verbose instructions which will have a 1:1 relation with a program that inhabits the same thought:"
      ]
    },
    {
      "cell_type": "markdown",
      "metadata": {},
      "source": [
        "**\"Winter lasts from December to February in the Northern Hemisphere and lasts from June to August in the Southern Hemisphere.\"**\n",
        "\n",
        "If we were to describe the process by which we can obtain the interval of months that winter spans, we would word the above statement slightly differently, i.e."
      ]
    },
    {
      "cell_type": "markdown",
      "metadata": {},
      "source": [
        "* *if I live in the northern hemisphere, then*\n",
        "    * *winter spans the months December to February*\n",
        "* *otherwise*\n",
        "    * *winter spans the months June to August*"
      ]
    },
    {
      "cell_type": "markdown",
      "metadata": {},
      "source": [
        "When we refer to the intervals between months, we're specifically talking about **at what index the first month in the interval occurs**, as well as **how many months the interval lasts**. This observation allows us to gain a bit more verbosity in the statement:"
      ]
    },
    {
      "cell_type": "markdown",
      "metadata": {},
      "source": [
        "* *if I live in the northern hemisphere, then*\n",
        "    * *winter starts at month 12 (December) and lasts for 3 months*\n",
        "* *otherwise*\n",
        "    * *winter starts at month 6 (June) and lasts for 3 months*"
      ]
    },
    {
      "cell_type": "markdown",
      "metadata": {},
      "source": [
        "By continuously breaking down the definitions that underly the vocabulary we use to describe a thought process, we can continuously gain more verbosity.\n",
        "\n",
        "For example, the vocabulary terms we could break down next are **\"Northern Hemisphere\"** and **\"Southern Hemisphere\"**"
      ]
    },
    {
      "cell_type": "markdown",
      "metadata": {},
      "source": [
        "What exactly is the northern hemisphere of the Earth? Well, if we were to **take our position on earth and calculate whether or not we are above the equator**, we would have the answer to whether or not we are in the northern hemisphere. And if we aren't in the northern hemisphere, we must be in the southern hemisphere. This allows us to break down two more terms in our thought process:"
      ]
    },
    {
      "cell_type": "markdown",
      "metadata": {},
      "source": [
        "* *(a) Use a fancy equation to calculate whether or not I'm above the equator*\n",
        "* *If (a) indicates that I am above the equator, then*\n",
        "    * *winter starts at month 12 (December) and lasts for 3 months*\n",
        "* *otherwise*\n",
        "    * *winter starts at month 6 (June) and lasts for 3 months*"
      ]
    },
    {
      "cell_type": "markdown",
      "metadata": {},
      "source": [
        "If you **deconstruct your vocabulary to the point where you are able to represent most of your thought process using numbers and calculations with them**, you've essentially arrived at the point where you can represent your idea using a program.\n",
        "\n",
        "At first this seems difficult. But when you think about it, the concept of hemispheres, intervals, and months are things that you already know. All that we did to reach this formula was continuously break down our definitions to the point where we could describe how to calculate the span of winter to someone who had no idea what any of those words meant.\n",
        "\n",
        "What you might realize from this is that **what we're actually doing here is translating a language that we as humans speak to illustrate our thoughts into a language that our computers speak**."
      ]
    },
    {
      "cell_type": "markdown",
      "metadata": {},
      "source": [
        "To reiterate, here is the formula we ended up with in order to calculate the span of winter:"
      ]
    },
    {
      "cell_type": "markdown",
      "metadata": {},
      "source": [
        "* *(a) Use a fancy equation to calculate whether or not I'm above the equator*\n",
        "* *If (a) indicates that I am above the equator, then*\n",
        "    * *winter starts at month 12 (December) and lasts for 3 months*\n",
        "* *otherwise*\n",
        "    * *winter starts at month 6 (June) and lasts for 3 months*"
      ]
    },
    {
      "cell_type": "markdown",
      "metadata": {},
      "source": [
        "And in fact, our computer speaks a language which is very close to our broken down version of this calculation, and it's called **C#** (or Java, or Python, etc.) Programming languages yay!"
      ]
    },
    {
      "cell_type": "markdown",
      "metadata": {},
      "source": [
        "Below I've written what the same formula might look like in the **C#** programming language:"
      ]
    },
    {
      "cell_type": "markdown",
      "metadata": {},
      "source": [
        "```csharp\n",
        "// Include additional code that allows us to fancily calculate\n",
        "// which hemisphere we're in\n",
        "using FancyHemisphereCalculationLibrary;\n",
        "\n",
        "// A function that calculates the span of winter and returns the span in the format \n",
        "// ([index of the month in which winter begins], [number of months winter lasts])\n",
        "(int, int) CalculateSpanOfWinter()\n",
        "{\n",
        "    if (IAmAboveTheEquator())\n",
        "    {\n",
        "        // I am above the equator, so winter starts in december (month 12) and\n",
        "        // ends in february (3 months later)\n",
        "        return (12, 3);\n",
        "    }\n",
        "    else\n",
        "    {\n",
        "        // I am not above the equator, so winter starts in June (month 6) and\n",
        "        // ends in August (3 months later)\n",
        "        return (6, 3);\n",
        "    }\n",
        "}\n",
        "```"
      ]
    },
    {
      "cell_type": "markdown",
      "metadata": {},
      "source": [
        "Hopefully this example where we calculated the span of winter is able to clarify to you what exactly a programming language is and what it's used for. **If you can think it, you can program it** (given enough time and breakdown of the vocabulary you're using to represent the problem you're trying to solve)."
      ]
    },
    {
      "cell_type": "markdown",
      "metadata": {},
      "source": [
        "More importantly what this means is that in thinking through the problems you might encounter in your everyday life, **not only are you able to transform the context of the problem into a program, but also the solution to the problem as well** (if you come up with one) from the language that your thoughts are written in."
      ]
    },
    {
      "cell_type": "markdown",
      "metadata": {},
      "source": [
        "This is what people refer to as the **\"programming mindset\"**. It's the process of breaking down a thought to the point where it is able to be written in a programming language of your choice."
      ]
    },
    {
      "cell_type": "markdown",
      "metadata": {},
      "source": [
        "# Syntax"
      ]
    },
    {
      "cell_type": "markdown",
      "metadata": {},
      "source": [
        "## Fundamental Data Types"
      ]
    },
    {
      "cell_type": "markdown",
      "metadata": {},
      "source": [
        "Without further ado, let's dive into the syntax of the **C#** programming language."
      ]
    },
    {
      "cell_type": "markdown",
      "metadata": {},
      "source": [
        "First of all, to clarify, the **syntax** of a programming language is the \"vocabulary\" that we are able to use in order to represent a thought process.\n",
        "\n",
        "Some of the most fundamental pieces of syntax **C#** gives us are the **fundamental data types**. These include:"
      ]
    },
    {
      "cell_type": "markdown",
      "metadata": {},
      "source": [
        "### **Strings**\n",
        "\n",
        "Strings can be used to store an arbitrary amount of text. In the following snippet, `\"Hello World\"` is a string.\n",
        "\n",
        "```csharp\n",
        "Console.WriteLine(\"Hello World\");\n",
        "```\n",
        "\n",
        "To create a string, surround the text you would like to store in double quotes (\"\"). If there exists a double quote within the text you would like to store, simply put a back slash (\\\\) in front of it:\n",
        "\n",
        "```csharp\n",
        "Console.WriteLine(\"Hello\\\"World\");\n",
        "```\n",
        "\n",
        "A back slash is a special character which can be combined with certain characters to create special behavior. If instead you would like to place a literal backslash within your string, simply prefix it with another back slash:\n",
        "\n",
        "```csharp\n",
        "Console.WriteLine(\"Hello\\\\World\");\n",
        "```\n",
        "\n",
        "The above code outputs the text Hello\\\\World, with a single backslash."
      ]
    },
    {
      "cell_type": "markdown",
      "metadata": {},
      "source": [
        "### **Integers**\n",
        "\n",
        "Integers are numbers which can be negative, positive, or zero; and which do not contain a decimal value (i.e. 3 is an integer, 3.14 is not). To create them you can just write them out like so:\n",
        "\n",
        "```csharp\n",
        "Console.WriteLine(3);\n",
        "Console.WriteLine(-7);\n",
        "```\n",
        "\n",
        "There are other types of numbers which can contain decimals, but we will discuss them after we talk about **variables**."
      ]
    },
    {
      "cell_type": "markdown",
      "metadata": {},
      "source": [
        "### **Booleans**\n",
        "\n",
        "A boolean is a value that is either true or false. Like numbers, to create them you can just simply write out their values:\n",
        "\n",
        "```csharp\n",
        "Console.WriteLine(true);\n",
        "Console.WriteLine(false);\n",
        "```"
      ]
    },
    {
      "cell_type": "markdown",
      "metadata": {},
      "source": [
        "## Variables"
      ]
    },
    {
      "cell_type": "markdown",
      "metadata": {},
      "source": [
        "Variables in a programming language are just like variables in mathematics. They are **named storage containers which can be used to store, modify, and reuse values**. A variable can be created using code like the following:"
      ]
    },
    {
      "cell_type": "code",
      "execution_count": null,
      "metadata": {
        "dotnet_interactive": {
          "language": "csharp"
        }
      },
      "outputs": [
        {
          "ename": "Error",
          "evalue": "[object Object]",
          "output_type": "error",
          "traceback": []
        }
      ],
      "source": [
        "var a = 2;\n",
        "a = 3;\n",
        "\n",
        "display(a);"
      ]
    },
    {
      "cell_type": "markdown",
      "metadata": {},
      "source": [
        "You can initialize a variable using the keyword `var`, followed by the name of the variable you want to create. Here I've used the name `a`, but you can use any alphanumeric string you want that doesn't begin with a number. From here you can append an equals sign followed by the value you would like to assign to the variable."
      ]
    },
    {
      "cell_type": "markdown",
      "metadata": {},
      "source": [
        "Once a variable has been assigned a value, a new value can be assigned to the variable using nearly the same syntax, except without the `var` keyword."
      ]
    },
    {
      "cell_type": "markdown",
      "metadata": {},
      "source": [
        "You can initialize a variable without assigning it to an initial value by placing the type of the variable in front of the variable name instead of the keyword `\"var\"`:"
      ]
    },
    {
      "cell_type": "code",
      "execution_count": null,
      "metadata": {
        "dotnet_interactive": {
          "language": "csharp"
        }
      },
      "outputs": [
        {
          "data": {
            "text/plain": [
              "Any string"
            ]
          },
          "execution_count": 1,
          "metadata": {},
          "output_type": "execute_result"
        }
      ],
      "source": [
        "string s;\n",
        "s = \"Any string\";\n",
        "\n",
        "display(s);"
      ]
    },
    {
      "cell_type": "markdown",
      "metadata": {},
      "source": [
        "And if you would like, you can also initialize and assign the variable using the type name instead of `\"var\"` to make the type of the variable more explicit:"
      ]
    },
    {
      "cell_type": "code",
      "execution_count": null,
      "metadata": {
        "dotnet_interactive": {
          "language": "csharp"
        }
      },
      "outputs": [
        {
          "data": {
            "text/plain": [
              "Any string"
            ]
          },
          "execution_count": 1,
          "metadata": {},
          "output_type": "execute_result"
        },
        {
          "data": {
            "text/html": [
              "True"
            ]
          },
          "execution_count": 1,
          "metadata": {},
          "output_type": "execute_result"
        },
        {
          "data": {
            "text/html": [
              "50"
            ]
          },
          "execution_count": 1,
          "metadata": {},
          "output_type": "execute_result"
        }
      ],
      "source": [
        "string s = \"Any string\";\n",
        "bool b = true;\n",
        "int v = 50;\n",
        "\n",
        "display(s);\n",
        "display(b);\n",
        "display(v);"
      ]
    },
    {
      "cell_type": "markdown",
      "metadata": {},
      "source": [
        "## Value Comparison"
      ]
    },
    {
      "cell_type": "markdown",
      "metadata": {},
      "source": [
        "You can check the relationship between two values/variables in several different ways. This section covers some of the syntax used to form these comparisons."
      ]
    },
    {
      "cell_type": "markdown",
      "metadata": {},
      "source": [
        "Before we talk about varible comparisons, I'd like to first formally introduce the idea of comments."
      ]
    },
    {
      "cell_type": "code",
      "execution_count": null,
      "metadata": {
        "dotnet_interactive": {
          "language": "csharp"
        }
      },
      "outputs": [],
      "source": [
        "// Comments contain text used to explain and clarify different portions of code.\n",
        "// To create a comment, add two forward slashes (//) followed by any text which\n",
        "// will not attempt to be parsed by the compiler.\n",
        "\n",
        "/**\n",
        " You can also create comments that span multiplie lines by adding a forward slash\n",
        " followed by two asterisks (/**) and end the multiline comment at any time by adding\n",
        " an asterisk followed by a forward slash:\n",
        " */\n",
        "\n",
        "string s = \"Any string\";    // A string variable created for demonstration purposes\n",
        "display(s);                 // Write the value of s to the console"
      ]
    },
    {
      "cell_type": "markdown",
      "metadata": {},
      "source": [
        "Now that we have an understanding of how to add comments to our code, we can proceed with learning some of the operators used to compare values:"
      ]
    },
    {
      "cell_type": "code",
      "execution_count": null,
      "metadata": {
        "dotnet_interactive": {
          "language": "csharp"
        }
      },
      "outputs": [],
      "source": [
        "int a = 1;\n",
        "int b = 5;\n",
        "\n",
        "// The < operator can be used to see if one value is less than another\n",
        "display(a < b);\n",
        "\n",
        "// The <= operator can be used to see if one value is less than or equal to another\n",
        "display(a <= b);\n",
        "\n",
        "// The > operator can be used to see if one value is greater than another\n",
        "display(a > b);\n",
        "\n",
        "// The >= operator can be used to see if one value is greater than or equal to another\n",
        "display(a >= b);\n",
        "\n",
        "// The == operator can be used to see if two values are equal\n",
        "display(a == b);\n",
        "\n",
        "// The != operator can be used to see if two values are not equal\n",
        "display(a != b);"
      ]
    },
    {
      "cell_type": "markdown",
      "metadata": {},
      "source": [
        "## Common Mathematical Unary and Binary Operators"
      ]
    },
    {
      "cell_type": "markdown",
      "metadata": {},
      "source": [
        "This section contains an explanation of some of the unary and binary mathematical operators. Unary operators take in a single value and binary operators take in two values."
      ]
    },
    {
      "cell_type": "code",
      "execution_count": null,
      "metadata": {
        "dotnet_interactive": {
          "language": "csharp"
        }
      },
      "outputs": [],
      "source": [
        "float a = 1f;\n",
        "float b = 5f;\n",
        "\n",
        "/** Binary operators */\n",
        "\n",
        "// The + binary operator can be used to add two values\n",
        "display(a + b);\n",
        "\n",
        "// For strings, the + operator can be used to append a value to the end of the string\n",
        "display(\"a + b = \" + (a + b));\n",
        "\n",
        "// The - binary operator can be used to add two values\n",
        "display(\"a - b = \" + (a - b));\n",
        "\n",
        "// The * binary operator can be used to multiply two values\n",
        "display(\"a * b = \" + (a * b));\n",
        "\n",
        "// The / binary operator can be used to divide two values\n",
        "// You might be surprised by the value that gets returned here\n",
        "display(\"a / b = \" + (a / b));\n",
        "\n",
        "// The % binary operator can be used to find the remainder when\n",
        "// dividing the first value by the second. It is known as the\n",
        "// modulo operator.\n",
        "display(\"a % b = \" + (a % b));\n",
        "\n",
        "/** Unary operators */\n",
        "\n",
        "// The - unary operator can be used to negate a value\n",
        "display(\"-a = \" + -a);\n",
        "\n",
        "// The ! unary operator can be used to flip a boolean value\n",
        "display(\"!(a == b) = \" + !(a == b));   // We can use parentheses to change the order of expression evaluation\n",
        "\n",
        "// Note the difference between the above line and the following code:\n",
        "// display(!a == b);"
      ]
    },
    {
      "cell_type": "markdown",
      "metadata": {},
      "source": [
        "## Other Number Data Types"
      ]
    },
    {
      "cell_type": "markdown",
      "metadata": {},
      "source": [
        "The integer is not the only number type in town. Here's a few others:"
      ]
    },
    {
      "cell_type": "code",
      "execution_count": null,
      "metadata": {
        "dotnet_interactive": {
          "language": "csharp"
        }
      },
      "outputs": [
        {
          "data": {
            "text/plain": [
              "Current time (ticks) = 637527099802451331"
            ]
          },
          "execution_count": 1,
          "metadata": {},
          "output_type": "execute_result"
        },
        {
          "data": {
            "text/plain": [
              "PI ~~ 3.1415927"
            ]
          },
          "execution_count": 1,
          "metadata": {},
          "output_type": "execute_result"
        },
        {
          "data": {
            "text/plain": [
              "PI ~= 3.141592653589793"
            ]
          },
          "execution_count": 1,
          "metadata": {},
          "output_type": "execute_result"
        },
        {
          "data": {
            "text/plain": [
              "largerThanExpected = 3000000000"
            ]
          },
          "execution_count": 1,
          "metadata": {},
          "output_type": "execute_result"
        },
        {
          "data": {
            "text/plain": [
              "Current time (unsigned ticks) = 637527099802458454"
            ]
          },
          "execution_count": 1,
          "metadata": {},
          "output_type": "execute_result"
        }
      ],
      "source": [
        "// The default integer type only allows you to store values between -2147483648 and 2147483647.\n",
        "// A long can be used to store values between -9223372036854775808 and 9223372036854775807\n",
        "long currentTime = DateTime.Now.Ticks;  // Get the current time in ticks\n",
        "display(\"Current time (ticks) = \" + currentTime);\n",
        "\n",
        "// A float can be used to store decimal values with accuracy up to 8 digits after the decimal place\n",
        "// To create a float be sure to place an 'f' after the number:\n",
        "float PI = 3.14159265f;\n",
        "display(\"PI ~~ \" + PI);\n",
        "\n",
        "// A double can be used to store decimal values with double the accuracy of a float. That is, it can accurately maintain\n",
        "// up to 16 digits past the decimal point. Doubles are assumed by default in C# when a decimal value is created, but to\n",
        "// be explicit you can place a 'd' after the number:\n",
        "double PI_accurate = 3.1415926535897932d;\n",
        "display(\"PI ~= \" + PI_accurate);\n",
        "\n",
        "// A uint (unsigned integer) can be used to store values from 0 to 4294967295\n",
        "// This data type combines the normal range of positive/negative values for an integer into solely positive values.\n",
        "uint largerThanExpected = 3_000_000_000;\n",
        "display(\"largerThanExpected = \" + largerThanExpected);\n",
        "\n",
        "// A uint (unsigned integer) can be used to store values from 0 to 18446744073709551615\n",
        "ulong currentTime_unsigned = (ulong)DateTime.Now.Ticks;\n",
        "display(\"Current time (unsigned ticks) = \" + currentTime_unsigned);"
      ]
    },
    {
      "cell_type": "markdown",
      "metadata": {},
      "source": [
        "# Problem: Determine if a Number is Divisible by Another Number"
      ]
    },
    {
      "cell_type": "code",
      "execution_count": null,
      "metadata": {
        "dotnet_interactive": {
          "language": "csharp"
        }
      },
      "outputs": [
        {
          "data": {
            "text/plain": [
              "b divides a 7 times"
            ]
          },
          "execution_count": 1,
          "metadata": {},
          "output_type": "execute_result"
        }
      ],
      "source": [
        "/**\r\n",
        " * Implement a program that determines if a is divisible by b\r\n",
        " */\r\n",
        "\r\n",
        "int a = 119;\r\n",
        "int b = 17;\r\n"
      ]
    },
    {
      "cell_type": "markdown",
      "metadata": {},
      "source": [
        "# Problem: Implement the Quadratic Formula"
      ]
    },
    {
      "cell_type": "markdown",
      "metadata": {},
      "source": [
        "Using the knowledge we've developed thus far, let's implement a program to solve the quadratic formula."
      ]
    },
    {
      "cell_type": "code",
      "execution_count": null,
      "metadata": {
        "dotnet_interactive": {
          "language": "csharp"
        }
      },
      "outputs": [
        {
          "data": {
            "text/plain": "-1, -1"
          },
          "output_type": "unknown"
        }
      ],
      "source": [
        "double a = 1;\r\n",
        "double b = 2;\r\n",
        "double c = 1;\r\n",
        "\r\n",
        "// Math Library => Math.Sqrt\r\n",
        "\r\n",
        "// Reminder: The quadratic formula is (-b plus or minus sqrt(b^2 - 4 * a * c)) / (2 * a)\r\n",
        "var discriminant = (b * b) - (4 * a * c);\r\n",
        "\r\n",
        "if (discriminant < 0) {\r\n",
        "    display(\"No real solutions\");\r\n",
        "} else {\r\n",
        "    var solution1 = (-b + Math.Sqrt(discriminant)) / (2 * a);\r\n",
        "    var solution2 = (-b - Math.Sqrt(discriminant)) / (2 * a);\r\n",
        "\r\n",
        "    display(solution1 + \", \" + solution2);\r\n",
        "}"
      ]
    }
  ],
  "metadata": {
    "kernelspec": {
      "display_name": ".NET (C#)",
      "language": "C#",
      "name": ".net-csharp"
    },
    "language_info": {
      "name": "C#",
      "version": ""
    }
  },
  "nbformat": 4,
  "nbformat_minor": 4
}