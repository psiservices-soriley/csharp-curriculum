{
 "cells": [
  {
   "cell_type": "markdown",
   "metadata": {
    "dotnet_interactive": {
     "language": "csharp"
    }
   },
   "source": [
    "# C# Programming! Lesson 1\n",
    "\n",
    "A C# Course By Steven O'Riley\n",
    "\n",
    "\"*No need to be scared, a program is a reflection of **you**!*\""
   ]
  },
  {
   "cell_type": "markdown",
   "metadata": {
    "dotnet_interactive": {
     "language": "csharp"
    }
   },
   "source": [
    "<div style=\"page-break-after: always;\"></div>"
   ]
  },
  {
   "cell_type": "markdown",
   "metadata": {
    "dotnet_interactive": {
     "language": "csharp"
    }
   },
   "source": [
    "A **program** is a sequence of instructions that specify how a set of data should be manipulated.\r\n",
    "\r\n",
    "Your program only has to be as complicated as the thoughts that go through your head when writing it.\r\n",
    "\r\n",
    "![Not Scary](https://user-images.githubusercontent.com/54543848/113030028-2690b000-915b-11eb-9f63-252920ae5fd7.png)\r\n",
    "\r\n",
    "This might seem obvious, but it is to say that if you can understand the problem you're trying to solve, and how to solve it, then you already know what the program to solve your problem will look like. It will just contain very verbose instructions."
   ]
  },
  {
   "cell_type": "markdown",
   "metadata": {
    "dotnet_interactive": {
     "language": "csharp"
    }
   },
   "source": [
    "<div style=\"page-break-after: always;\"></div>"
   ]
  },
  {
   "cell_type": "markdown",
   "metadata": {
    "dotnet_interactive": {
     "language": "csharp"
    }
   },
   "source": [
    "# Let's Try It Out Ourselves"
   ]
  },
  {
   "cell_type": "code",
   "execution_count": null,
   "metadata": {
    "dotnet_interactive": {
     "language": "csharp"
    }
   },
   "outputs": [
    {
     "output_type": "unknown"
    }
   ],
   "source": [
    "Console.WriteLine(\"Hello World!\");"
   ]
  },
  {
   "cell_type": "markdown",
   "metadata": {
    "dotnet_interactive": {
     "language": "csharp"
    }
   },
   "source": [
    "The process that a program takes to go from start to finish can be described using an English sentence. For example, **\"the above program writes 'Hello World!' to the console\"**"
   ]
  },
  {
   "cell_type": "markdown",
   "metadata": {
    "dotnet_interactive": {
     "language": "csharp"
    }
   },
   "source": [
    "<div style=\"page-break-after: always;\"></div>"
   ]
  },
  {
   "cell_type": "markdown",
   "metadata": {
    "dotnet_interactive": {
     "language": "csharp"
    }
   },
   "source": [
    "**Any describable thought process can be implemented as a program.** The corresponding program will just be a very verbose way of describing the thought process."
   ]
  },
  {
   "cell_type": "markdown",
   "metadata": {
    "dotnet_interactive": {
     "language": "csharp"
    }
   },
   "source": [
    "For example, I'm going to take the following statement and turn it into a set of verbose instructions which will have a 1:1 relation with a program that inhabits the same thought:"
   ]
  },
  {
   "cell_type": "markdown",
   "metadata": {
    "dotnet_interactive": {
     "language": "csharp"
    }
   },
   "source": [
    "**\"Winter lasts from December to February in the Northern Hemisphere and lasts from June to August in the Southern Hemisphere.\"**\n",
    "\n",
    "If we were to describe the process by which we can obtain the interval of months that winter spans, we would word the above statement slightly differently, i.e."
   ]
  },
  {
   "cell_type": "markdown",
   "metadata": {
    "dotnet_interactive": {
     "language": "csharp"
    }
   },
   "source": [
    "* *if I live in the northern hemisphere, then*\n",
    "    * *winter spans the months December to February*\n",
    "* *otherwise*\n",
    "    * *winter spans the months June to August*"
   ]
  },
  {
   "cell_type": "markdown",
   "metadata": {
    "dotnet_interactive": {
     "language": "csharp"
    }
   },
   "source": [
    "When we refer to the intervals between months, we're specifically talking about **at what index the first month in the interval occurs**, as well as **how many months the interval lasts**. This observation allows us to gain a bit more verbosity in the statement:"
   ]
  },
  {
   "cell_type": "markdown",
   "metadata": {
    "dotnet_interactive": {
     "language": "csharp"
    }
   },
   "source": [
    "* *if I live in the northern hemisphere, then*\n",
    "    * *winter starts at month 12 (December) and lasts for 3 months*\n",
    "* *otherwise*\n",
    "    * *winter starts at month 6 (June) and lasts for 3 months*"
   ]
  },
  {
   "cell_type": "markdown",
   "metadata": {
    "dotnet_interactive": {
     "language": "csharp"
    }
   },
   "source": [
    "<div style=\"page-break-after: always;\"></div>"
   ]
  },
  {
   "cell_type": "markdown",
   "metadata": {
    "dotnet_interactive": {
     "language": "csharp"
    }
   },
   "source": [
    "By continuously breaking down the definitions that underly the vocabulary we use to describe a thought process, we can continuously gain more verbosity.\n",
    "\n",
    "For example, the vocabulary terms we could break down next are **\"Northern Hemisphere\"** and **\"Southern Hemisphere\"**"
   ]
  },
  {
   "cell_type": "markdown",
   "metadata": {
    "dotnet_interactive": {
     "language": "csharp"
    }
   },
   "source": [
    "What exactly is the northern hemisphere of the Earth? Well, if we were to **take our position on earth and calculate whether or not we are above the equator**, we would have the answer to whether or not we are in the northern hemisphere. And if we aren't in the northern hemisphere, we must be in the southern hemisphere. This allows us to break down two more terms in our thought process:"
   ]
  },
  {
   "cell_type": "markdown",
   "metadata": {
    "dotnet_interactive": {
     "language": "csharp"
    }
   },
   "source": [
    "* *(a) Use a fancy equation to calculate whether or not I'm above the equator*\n",
    "* *If (a) indicates that I am above the equator, then*\n",
    "    * *winter starts at month 12 (December) and lasts for 3 months*\n",
    "* *otherwise*\n",
    "    * *winter starts at month 6 (June) and lasts for 3 months*"
   ]
  },
  {
   "cell_type": "markdown",
   "metadata": {
    "dotnet_interactive": {
     "language": "csharp"
    }
   },
   "source": [
    "If you **deconstruct your vocabulary to the point where you are able to represent most of your thought process using numbers and calculations with them**, you've essentially arrived at the point where you can represent your idea using a program.\n",
    "\n",
    "At first this seems difficult. But when you think about it, the concept of hemispheres, intervals, and months are things that you already know. All that we did to reach this formula was continuously break down our definitions to the point where we could describe how to calculate the span of winter to someone who had no idea what any of those words meant.\n",
    "\n",
    "What you might realize from this is that **what we're actually doing here is translating a language that we as humans speak to illustrate our thoughts into a language that our computers speak**."
   ]
  },
  {
   "cell_type": "markdown",
   "metadata": {
    "dotnet_interactive": {
     "language": "csharp"
    }
   },
   "source": [
    "<div style=\"page-break-after: always;\"></div>"
   ]
  },
  {
   "cell_type": "markdown",
   "metadata": {
    "dotnet_interactive": {
     "language": "csharp"
    }
   },
   "source": [
    "To reiterate, here is the formula we ended up with in order to calculate the span of winter:"
   ]
  },
  {
   "cell_type": "markdown",
   "metadata": {
    "dotnet_interactive": {
     "language": "csharp"
    }
   },
   "source": [
    "* *(a) Use a fancy equation to calculate whether or not I'm above the equator*\n",
    "* *If (a) indicates that I am above the equator, then*\n",
    "    * *winter starts at month 12 (December) and lasts for 3 months*\n",
    "* *otherwise*\n",
    "    * *winter starts at month 6 (June) and lasts for 3 months*"
   ]
  },
  {
   "cell_type": "markdown",
   "metadata": {
    "dotnet_interactive": {
     "language": "csharp"
    }
   },
   "source": [
    "And in fact, our computer speaks a language which is very close to our broken down version of this calculation, and it's called **C#** (or Java, or Python, etc.) Programming languages yay!"
   ]
  },
  {
   "cell_type": "markdown",
   "metadata": {
    "dotnet_interactive": {
     "language": "csharp"
    }
   },
   "source": [
    "Below I've written what the same formula might look like in the **C#** programming language:"
   ]
  },
  {
   "cell_type": "markdown",
   "metadata": {
    "dotnet_interactive": {
     "language": "csharp"
    }
   },
   "source": [
    "```csharp\n",
    "// Include additional code that allows us to fancily calculate\n",
    "// which hemisphere we're in\n",
    "using FancyHemisphereCalculationLibrary;\n",
    "\n",
    "// A function that calculates the span of winter and returns the span in the format \n",
    "// ([index of the month in which winter begins], [number of months winter lasts])\n",
    "(int, int) CalculateSpanOfWinter()\n",
    "{\n",
    "    if (IAmAboveTheEquator())\n",
    "    {\n",
    "        // I am above the equator, so winter starts in december (month 12) and\n",
    "        // ends in february (3 months later)\n",
    "        return (12, 3);\n",
    "    }\n",
    "    else\n",
    "    {\n",
    "        // I am not above the equator, so winter starts in June (month 6) and\n",
    "        // ends in August (3 months later)\n",
    "        return (6, 3);\n",
    "    }\n",
    "}\n",
    "```"
   ]
  },
  {
   "cell_type": "markdown",
   "metadata": {
    "dotnet_interactive": {
     "language": "csharp"
    }
   },
   "source": [
    "Hopefully this example where we calculated the span of winter is able to clarify to you what exactly a programming language is and what it's used for. **If you can think it, you can program it** (given enough time and breakdown of the vocabulary you're using to represent the problem you're trying to solve)."
   ]
  },
  {
   "cell_type": "markdown",
   "metadata": {
    "dotnet_interactive": {
     "language": "csharp"
    }
   },
   "source": [
    "More importantly what this means is that in thinking through the problems you might encounter in your everyday life, **not only are you able to transform the context of the problem into a program, but also the solution to the problem as well** (if you come up with one) from the language that your thoughts are written in."
   ]
  },
  {
   "cell_type": "markdown",
   "metadata": {
    "dotnet_interactive": {
     "language": "csharp"
    }
   },
   "source": [
    "This is what people refer to as the **\"programming mindset\"**. It's the process of breaking down a thought to the point where it is able to be written in a programming language of your choice."
   ]
  },
  {
   "cell_type": "markdown",
   "metadata": {
    "dotnet_interactive": {
     "language": "csharp"
    }
   },
   "source": [
    "<div style=\"page-break-after: always;\"></div>"
   ]
  },
  {
   "cell_type": "markdown",
   "metadata": {
    "dotnet_interactive": {
     "language": "csharp"
    }
   },
   "source": [
    "# Syntax"
   ]
  },
  {
   "cell_type": "markdown",
   "metadata": {
    "dotnet_interactive": {
     "language": "csharp"
    }
   },
   "source": [
    "## Fundamental Data Types"
   ]
  },
  {
   "cell_type": "markdown",
   "metadata": {
    "dotnet_interactive": {
     "language": "csharp"
    }
   },
   "source": [
    "Without further ado, let's dive into the syntax of the **C#** programming language."
   ]
  },
  {
   "cell_type": "markdown",
   "metadata": {
    "dotnet_interactive": {
     "language": "csharp"
    }
   },
   "source": [
    "First of all, to clarify, the **syntax** of a programming language is the \"vocabulary\" that we are able to use in order to represent a thought process.\n",
    "\n",
    "Some of the most fundamental pieces of syntax **C#** gives us are the **fundamental data types**. These include:"
   ]
  },
  {
   "cell_type": "markdown",
   "metadata": {
    "dotnet_interactive": {
     "language": "csharp"
    }
   },
   "source": [
    "### **Strings**\n",
    "\n",
    "Strings can be used to store an arbitrary amount of text. In the following snippet, `\"Hello World\"` is a string.\n",
    "\n",
    "```csharp\n",
    "Console.WriteLine(\"Hello World\");\n",
    "```\n",
    "\n",
    "To create a string, surround the text you would like to store in double quotes (\"\"). If there exists a double quote within the text you would like to store, simply put a back slash (\\\\) in front of it:\n",
    "\n",
    "```csharp\n",
    "Console.WriteLine(\"Hello\\\"World\");\n",
    "```\n",
    "\n",
    "A back slash is a special character which can be combined with certain characters to create special behavior. If instead you would like to place a literal backslash within your string, simply prefix it with another back slash:\n",
    "\n",
    "```csharp\n",
    "Console.WriteLine(\"Hello\\\\World\");\n",
    "```\n",
    "\n",
    "The above code outputs the text Hello\\\\World, with a single backslash."
   ]
  },
  {
   "cell_type": "markdown",
   "metadata": {
    "dotnet_interactive": {
     "language": "csharp"
    }
   },
   "source": [
    "### **Integers**\n",
    "\n",
    "Integers are numbers which can be negative, positive, or zero; and which do not contain a decimal value (i.e. 3 is an integer, 3.14 is not). To create them you can just write them out like so:\n",
    "\n",
    "```csharp\n",
    "Console.WriteLine(3);\n",
    "Console.WriteLine(-7);\n",
    "```\n",
    "\n",
    "There are other types of numbers which can contain decimals, but we will discuss them after we talk about **variables**."
   ]
  },
  {
   "cell_type": "markdown",
   "metadata": {
    "dotnet_interactive": {
     "language": "csharp"
    }
   },
   "source": [
    "### **Booleans**\n",
    "\n",
    "A boolean is a value that is either true or false. Like numbers, to create them you can just simply write out their values:\n",
    "\n",
    "```csharp\n",
    "Console.WriteLine(true);\n",
    "Console.WriteLine(false);\n",
    "```"
   ]
  },
  {
   "cell_type": "markdown",
   "metadata": {
    "dotnet_interactive": {
     "language": "csharp"
    }
   },
   "source": [
    "<div style=\"page-break-after: always;\"></div>"
   ]
  },
  {
   "cell_type": "markdown",
   "metadata": {
    "dotnet_interactive": {
     "language": "csharp"
    }
   },
   "source": [
    "## Variables"
   ]
  },
  {
   "cell_type": "markdown",
   "metadata": {
    "dotnet_interactive": {
     "language": "csharp"
    }
   },
   "source": [
    "Variables in a programming language are just like variables in mathematics. They are **named storage containers which can be used to store, modify, and reuse values**. A variable can be created using code like the following:"
   ]
  },
  {
   "cell_type": "code",
   "execution_count": null,
   "metadata": {
    "dotnet_interactive": {
     "language": "csharp"
    }
   },
   "outputs": [
    {
     "output_type": "unknown"
    }
   ],
   "source": [
    "var a = 2;\r\n",
    "a = 3;\r\n",
    "\r\n",
    "display(a);"
   ]
  },
  {
   "cell_type": "markdown",
   "metadata": {
    "dotnet_interactive": {
     "language": "csharp"
    }
   },
   "source": [
    "You can initialize a variable using the keyword `var`, followed by the name of the variable you want to create. Here I've used the name `a`, but you can use any alphanumeric string you want that doesn't begin with a number. From here you can append an equals sign followed by the value you would like to assign to the variable."
   ]
  },
  {
   "cell_type": "markdown",
   "metadata": {
    "dotnet_interactive": {
     "language": "csharp"
    }
   },
   "source": [
    "Once a variable has been assigned a value, a new value can be assigned to the variable using nearly the same syntax, except without the `var` keyword."
   ]
  },
  {
   "cell_type": "markdown",
   "metadata": {
    "dotnet_interactive": {
     "language": "csharp"
    }
   },
   "source": [
    "You can initialize a variable without assigning it to an initial value by placing the type of the variable in front of the variable name instead of the keyword `\"var\"`:"
   ]
  },
  {
   "cell_type": "code",
   "execution_count": null,
   "metadata": {
    "dotnet_interactive": {
     "language": "csharp"
    }
   },
   "outputs": [
    {
     "output_type": "unknown"
    }
   ],
   "source": [
    "string s;\r\n",
    "s = \"Any string\";\r\n",
    "\r\n",
    "display(s);"
   ]
  },
  {
   "cell_type": "markdown",
   "metadata": {
    "dotnet_interactive": {
     "language": "csharp"
    }
   },
   "source": [
    "And if you would like, you can also initialize and assign the variable using the type name instead of `\"var\"` to make the type of the variable more explicit:"
   ]
  },
  {
   "cell_type": "code",
   "execution_count": null,
   "metadata": {
    "dotnet_interactive": {
     "language": "csharp"
    }
   },
   "outputs": [
    {
     "output_type": "unknown"
    },
    {
     "output_type": "unknown"
    },
    {
     "output_type": "unknown"
    }
   ],
   "source": [
    "string s = \"Any string\";\r\n",
    "bool b = true;\r\n",
    "int v = 50;\r\n",
    "\r\n",
    "display(s);\r\n",
    "display(b);\r\n",
    "display(v);"
   ]
  },
  {
   "cell_type": "markdown",
   "metadata": {
    "dotnet_interactive": {
     "language": "csharp"
    }
   },
   "source": [
    "<div style=\"page-break-after: always;\"></div>"
   ]
  },
  {
   "cell_type": "markdown",
   "metadata": {
    "dotnet_interactive": {
     "language": "csharp"
    }
   },
   "source": [
    "## Value Comparison"
   ]
  },
  {
   "cell_type": "markdown",
   "metadata": {
    "dotnet_interactive": {
     "language": "csharp"
    }
   },
   "source": [
    "You can check the relationship between two values/variables in several different ways. This section covers some of the syntax used to form these comparisons."
   ]
  },
  {
   "cell_type": "markdown",
   "metadata": {
    "dotnet_interactive": {
     "language": "csharp"
    }
   },
   "source": [
    "Before we talk about varible comparisons, I'd like to first formally introduce the idea of comments."
   ]
  },
  {
   "cell_type": "code",
   "execution_count": null,
   "metadata": {
    "dotnet_interactive": {
     "language": "csharp"
    }
   },
   "outputs": [
    {
     "output_type": "unknown"
    }
   ],
   "source": [
    "// Comments contain text used to explain and clarify different portions of code.\r\n",
    "// To create a comment, add two forward slashes (//) followed by any text which\r\n",
    "// will not attempt to be parsed by the compiler.\r\n",
    "\r\n",
    "/**\r\n",
    " You can also create comments that span multiplie lines by adding a forward slash\r\n",
    " followed by two asterisks (/**) and end the multiline comment at any time by adding\r\n",
    " an asterisk followed by a forward slash:\r\n",
    " */\r\n",
    "\r\n",
    "string s = \"Any string\";    // A string variable created for demonstration purposes\r\n",
    "display(s);                 // Write the value of s to the console"
   ]
  },
  {
   "cell_type": "markdown",
   "metadata": {
    "dotnet_interactive": {
     "language": "csharp"
    }
   },
   "source": [
    "Now that we have an understanding of how to add comments to our code, we can proceed with learning some of the operators used to compare values:"
   ]
  },
  {
   "cell_type": "code",
   "execution_count": null,
   "metadata": {
    "dotnet_interactive": {
     "language": "csharp"
    }
   },
   "outputs": [
    {
     "output_type": "unknown"
    },
    {
     "output_type": "unknown"
    },
    {
     "output_type": "unknown"
    },
    {
     "output_type": "unknown"
    },
    {
     "output_type": "unknown"
    },
    {
     "output_type": "unknown"
    }
   ],
   "source": [
    "int a = 1;\n",
    "int b = 5;\n",
    "\n",
    "// The < operator can be used to see if one value is less than another\n",
    "display(a < b);\n",
    "\n",
    "// The <= operator can be used to see if one value is less than or equal to another\n",
    "display(a <= b);\n",
    "\n",
    "// The > operator can be used to see if one value is greater than another\n",
    "display(a > b);\n",
    "\n",
    "// The >= operator can be used to see if one value is greater than or equal to another\n",
    "display(a >= b);\n",
    "\n",
    "// The == operator can be used to see if two values are equal\n",
    "display(a == b);\n",
    "\n",
    "// The != operator can be used to see if two values are not equal\n",
    "display(a != b);"
   ]
  },
  {
   "cell_type": "markdown",
   "metadata": {
    "dotnet_interactive": {
     "language": "csharp"
    }
   },
   "source": [
    "<div style=\"page-break-after: always;\"></div>"
   ]
  },
  {
   "cell_type": "markdown",
   "metadata": {
    "dotnet_interactive": {
     "language": "csharp"
    }
   },
   "source": [
    "## Common Mathematical Unary and Binary Operators"
   ]
  },
  {
   "cell_type": "markdown",
   "metadata": {
    "dotnet_interactive": {
     "language": "csharp"
    }
   },
   "source": [
    "This section contains an explanation of some of the unary and binary mathematical operators. Unary operators take in a single value and binary operators take in two values."
   ]
  },
  {
   "cell_type": "code",
   "execution_count": null,
   "metadata": {
    "dotnet_interactive": {
     "language": "csharp"
    }
   },
   "outputs": [
    {
     "output_type": "unknown"
    },
    {
     "output_type": "unknown"
    },
    {
     "output_type": "unknown"
    },
    {
     "output_type": "unknown"
    },
    {
     "output_type": "unknown"
    },
    {
     "output_type": "unknown"
    },
    {
     "output_type": "unknown"
    },
    {
     "output_type": "unknown"
    }
   ],
   "source": [
    "float a = 1f;\r\n",
    "float b = 5f;\r\n",
    "\r\n",
    "/** Binary operators */\r\n",
    "\r\n",
    "// The + binary operator can be used to add two values\r\n",
    "display(a + b);\r\n",
    "\r\n",
    "// For strings, the + operator can be used to append a value to the end of the string\r\n",
    "display(\"a + b = \" + (a + b));\r\n",
    "\r\n",
    "// The - binary operator can be used to add two values\r\n",
    "display(\"a - b = \" + (a - b));\r\n",
    "\r\n",
    "// The * binary operator can be used to multiply two values\r\n",
    "display(\"a * b = \" + (a * b));\r\n",
    "\r\n",
    "// The / binary operator can be used to divide two values\r\n",
    "// You might be surprised by the value that gets returned here\r\n",
    "display(\"a / b = \" + (a / b));\r\n",
    "\r\n",
    "// The % binary operator can be used to find the remainder when\r\n",
    "// dividing the first value by the second. It is known as the\r\n",
    "// modulo operator.\r\n",
    "display(\"a % b = \" + (a % b));\r\n",
    "\r\n",
    "/** Unary operators */\r\n",
    "\r\n",
    "// The - unary operator can be used to negate a value\r\n",
    "display(\"-a = \" + -a);\r\n",
    "\r\n",
    "// The ! unary operator can be used to flip a boolean value\r\n",
    "display(\"!(a == b) = \" + !(a == b));   // We can use parentheses to change the order of expression evaluation\r\n",
    "\r\n",
    "// Note the difference between the above line and the following code:\r\n",
    "// display(!a == b);"
   ]
  },
  {
   "cell_type": "markdown",
   "metadata": {
    "dotnet_interactive": {
     "language": "csharp"
    }
   },
   "source": [
    "<div style=\"page-break-after: always;\"></div>"
   ]
  },
  {
   "cell_type": "markdown",
   "metadata": {
    "dotnet_interactive": {
     "language": "csharp"
    }
   },
   "source": [
    "## Other Number Data Types"
   ]
  },
  {
   "cell_type": "markdown",
   "metadata": {
    "dotnet_interactive": {
     "language": "csharp"
    }
   },
   "source": [
    "The integer is not the only number type in town. Here's a few others:"
   ]
  },
  {
   "cell_type": "code",
   "execution_count": null,
   "metadata": {
    "dotnet_interactive": {
     "language": "csharp"
    }
   },
   "outputs": [
    {
     "output_type": "unknown"
    },
    {
     "output_type": "unknown"
    },
    {
     "output_type": "unknown"
    },
    {
     "output_type": "unknown"
    },
    {
     "output_type": "unknown"
    }
   ],
   "source": [
    "// The default integer type only allows you to store values between -2147483648 and 2147483647.\r\n",
    "// A long can be used to store values between -9223372036854775808 and 9223372036854775807\r\n",
    "long currentTime = DateTime.Now.Ticks;  // Get the current time in ticks\r\n",
    "display(\"Current time (ticks) = \" + currentTime);\r\n",
    "\r\n",
    "// A float can be used to store decimal values with accuracy up to 8 digits after the decimal place\r\n",
    "// To create a float be sure to place an 'f' after the number:\r\n",
    "float PI = 3.14159265f;\r\n",
    "display(\"PI ~~ \" + PI);\r\n",
    "\r\n",
    "// A double can be used to store decimal values with double the accuracy of a float. That is, it can accurately maintain\r\n",
    "// up to 16 digits past the decimal point. Doubles are assumed by default in C# when a decimal value is created, but to\r\n",
    "// be explicit you can place a 'd' after the number:\r\n",
    "double PI_accurate = 3.1415926535897932d;\r\n",
    "display(\"PI ~= \" + PI_accurate);\r\n",
    "\r\n",
    "// A uint (unsigned integer) can be used to store values from 0 to 4294967295\r\n",
    "// This data type combines the normal range of positive/negative values for an integer into solely positive values.\r\n",
    "uint largerThanExpected = 3_000_000_000;\r\n",
    "display(\"largerThanExpected = \" + largerThanExpected);\r\n",
    "\r\n",
    "// A uint (unsigned integer) can be used to store values from 0 to 18446744073709551615\r\n",
    "ulong currentTime_unsigned = (ulong)DateTime.Now.Ticks;\r\n",
    "display(\"Current time (unsigned ticks) = \" + currentTime_unsigned);"
   ]
  },
  {
   "cell_type": "markdown",
   "metadata": {
    "dotnet_interactive": {
     "language": "csharp"
    }
   },
   "source": [
    "<div style=\"page-break-after: always;\"></div>"
   ]
  },
  {
   "cell_type": "markdown",
   "metadata": {
    "dotnet_interactive": {
     "language": "csharp"
    }
   },
   "source": [
    "# Problem: Determine if a Number is Divisible by Another Number"
   ]
  },
  {
   "cell_type": "code",
   "execution_count": null,
   "metadata": {
    "dotnet_interactive": {
     "language": "csharp"
    }
   },
   "outputs": [
    {
     "output_type": "unknown"
    }
   ],
   "source": [
    "/**\r\n",
    " * Implement a program that determines if a is divisible by b\r\n",
    " */\r\n",
    "\r\n",
    "int a = 119;\r\n",
    "int b = 17;\r\n",
    "\r\n",
    "if (a % b == 0) {\r\n",
    "    display(\"b divides a \" + (a / b) + \" times\");\r\n",
    "} else {\r\n",
    "    display(\"b doesn't divide a\");\r\n",
    "}"
   ]
  },
  {
   "cell_type": "markdown",
   "metadata": {
    "dotnet_interactive": {
     "language": "csharp"
    }
   },
   "source": [
    "<div style=\"page-break-after: always;\"></div>"
   ]
  },
  {
   "cell_type": "markdown",
   "metadata": {
    "dotnet_interactive": {
     "language": "csharp"
    }
   },
   "source": [
    "# Problem: Implement the Quadratic Formula"
   ]
  },
  {
   "cell_type": "markdown",
   "metadata": {
    "dotnet_interactive": {
     "language": "csharp"
    }
   },
   "source": [
    "Using the knowledge we've developed thus far, let's implement a program to solve the quadratic formula."
   ]
  },
  {
   "cell_type": "code",
   "execution_count": null,
   "metadata": {
    "dotnet_interactive": {
     "language": "csharp"
    }
   },
   "outputs": [
    {
     "output_type": "unknown"
    }
   ],
   "source": [
    "double a = 1;\r\n",
    "double b = 2;\r\n",
    "double c = 1;\r\n",
    "\r\n",
    "// Math Library => Math.Sqrt\r\n",
    "\r\n",
    "// Reminder: The quadratic formula is (-b plus or minus sqrt(b^2 - 4 * a * c)) / (2 * a)\r\n",
    "var discriminant = (b * b) - (4 * a * c);\r\n",
    "\r\n",
    "if (discriminant < 0) {\r\n",
    "    display(\"No real solutions\");\r\n",
    "} else if (discriminant == 0) {\r\n",
    "    var solution1 = (-b + Math.Sqrt(discriminant)) / (2 * a);\r\n",
    "    display(solution1);\r\n",
    "} else {\r\n",
    "    var solution1 = (-b + Math.Sqrt(discriminant)) / (2 * a);\r\n",
    "    var solution2 = (-b - Math.Sqrt(discriminant)) / (2 * a);\r\n",
    "\r\n",
    "    display(solution1 + \", \" + solution2);\r\n",
    "}"
   ]
  },
  {
   "cell_type": "markdown",
   "metadata": {
    "dotnet_interactive": {
     "language": "csharp"
    }
   },
   "source": [
    "<div style=\"page-break-after: always;\"></div>"
   ]
  },
  {
   "cell_type": "markdown",
   "metadata": {
    "dotnet_interactive": {
     "language": "csharp"
    }
   },
   "source": [
    "# Problem: Find All Primes Up To A Value N"
   ]
  },
  {
   "cell_type": "code",
   "execution_count": null,
   "metadata": {
    "dotnet_interactive": {
     "language": "csharp"
    }
   },
   "outputs": [],
   "source": [
    "/**\r\n",
    " * Implement a program to find all prime numbers up to a given value N\r\n",
    " */\r\n",
    "\r\n",
    "int N = 1000;\r\n",
    "\r\n",
    "// TODO: Implement program"
   ]
  }
 ],
 "metadata": {
  "kernelspec": {
   "display_name": ".NET (C#)",
   "language": "C#",
   "name": ".net-csharp"
  },
  "language_info": {
   "file_extension": ".cs",
   "mimetype": "text/x-csharp",
   "name": "csharp",
   "pygments_lexer": "csharp",
   "version": "8.0"
  }
 },
 "nbformat": 4,
 "nbformat_minor": 4
}