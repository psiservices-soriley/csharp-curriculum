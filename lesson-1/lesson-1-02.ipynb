{
 "cells": [
  {
   "cell_type": "markdown",
   "metadata": {
    "dotnet_interactive": {
     "language": "csharp"
    }
   },
   "source": [
    "A **program** is a sequence of instructions that specify how a set of data should be manipulated.\n",
    "\n",
    "Your program only has to be as complicated as the thoughts that go through your head when writing it.\n",
    "\n",
    "![Not Scary](https://raw.githubusercontent.com/stevengeeky/csharp-curriculum/master/lesson-1/images/not-scary.png?token=ANAEL2DEZ4ZCUESAVKDLGKLAMNPDI)\n",
    "\n",
    "This might seem obvious, but it is to say that if you can understand the problem you're trying to solve, and how to solve it, then you already know what the program to solve your problem will look like. It will just contain very verbose instructions."
   ]
  }
 ],
 "metadata": {
  "kernelspec": {
   "display_name": ".NET (C#)",
   "language": "C#",
   "name": ".net-csharp"
  },
  "language_info": {
   "file_extension": ".cs",
   "mimetype": "text/x-csharp",
   "name": "C#",
   "pygments_lexer": "csharp",
   "version": "8.0"
  }
 },
 "nbformat": 4,
 "nbformat_minor": 4
}
