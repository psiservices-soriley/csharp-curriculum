{
  "cells": [
    {
      "cell_type": "markdown",
      "metadata": {
        "dotnet_interactive": {
          "language": "csharp"
        }
      },
      "source": [
        "# Mathematical Unary and Binary Operators"
      ]
    },
    {
      "cell_type": "markdown",
      "metadata": {
        "dotnet_interactive": {
          "language": "csharp"
        }
      },
      "source": [
        "## This section contains an explanation of some of the unary and binary mathematical operators. Unary operators take in a single value and binary operators take in two values."
      ]
    },
    {
      "cell_type": "code",
      "execution_count": null,
      "metadata": {
        "dotnet_interactive": {
          "language": "csharp"
        }
      },
      "outputs": [
        {
          "data": {
            "application/x.notebook.error-traceback": {
              "ename": "Error",
              "evalue": "(36,20): error CS0023: Operator '!' cannot be applied to operand of type 'float'",
              "traceback": []
            }
          },
          "output_type": "unknown"
        }
      ],
      "source": [
        "float a = 1f;\r\n",
        "float b = 5f;\r\n",
        "\r\n",
        "/** Binary operators */\r\n",
        "\r\n",
        "// The + binary operator can be used to add two values\r\n",
        "Console.WriteLine(a + b);\r\n",
        "\r\n",
        "// For strings, the + operator can be used to append a value to the end of the string\r\n",
        "Console.WriteLine(\"a + b = \" + (a + b));\r\n",
        "\r\n",
        "// The - binary operator can be used to add two values\r\n",
        "Console.WriteLine(\"a - b = \" + (a - b));\r\n",
        "\r\n",
        "// The * binary operator can be used to multiply two values\r\n",
        "Console.WriteLine(\"a * b = \" + (a * b));\r\n",
        "\r\n",
        "// The / binary operator can be used to divide two values\r\n",
        "// You might be surprised by the value that gets returned here\r\n",
        "Console.WriteLine(\"a / b = \" + (a / b));\r\n",
        "\r\n",
        "// The % binary operator can be used to find the remainder when\r\n",
        "// dividing the first value by the second. It is known as the\r\n",
        "// modulo operator.\r\n",
        "Console.WriteLine(\"a % b = \" + (a % b));\r\n",
        "\r\n",
        "/** Unary operators */\r\n",
        "\r\n",
        "// The - unary operator can be used to negate a value\r\n",
        "Console.WriteLine(\"-a = \" + -a);\r\n",
        "\r\n",
        "// The ! unary operator can be used to flip a boolean value\r\n",
        "Console.WriteLine(\"!(a == b) = \" + !(a == b));   // We can use parentheses to change the order of expression evaluation\r\n",
        "\r\n",
        "// Note the difference between the above line and the following code:\r\n",
        "// Console.WriteLine((!a) == (b));"
      ]
    }
  ],
  "metadata": {
    "kernelspec": {
      "display_name": ".NET (C#)",
      "language": "C#",
      "name": ".net-csharp"
    },
    "language_info": {
      "name": "csharp",
      "version": ""
    }
  },
  "nbformat": 4,
  "nbformat_minor": 4
}