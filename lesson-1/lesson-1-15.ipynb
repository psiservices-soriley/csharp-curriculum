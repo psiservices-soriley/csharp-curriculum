{
  "cells": [
    {
      "cell_type": "markdown",
      "metadata": {
        "dotnet_interactive": {
          "language": "csharp"
        }
      },
      "source": [
        "# Problem: Determine if a Number is Divisible by Another Number"
      ]
    },
    {
      "cell_type": "code",
      "execution_count": null,
      "metadata": {
        "dotnet_interactive": {
          "language": "csharp"
        }
      },
      "outputs": [
        {
          "data": {
            "text/plain": "b divides a 7 number of times\r\n"
          },
          "output_type": "unknown"
        }
      ],
      "source": [
        "/**\r\n",
        " * Implement a program that determines if a is divisible by b\r\n",
        " */\r\n",
        "\r\n",
        "int a = 119;\r\n",
        "int b = 18;\r\n",
        "\r\n",
        "if (a % b == 0) {\r\n",
        "    Console.WriteLine(\"b divides a \" + (a / b) + \" times\");\r\n",
        "} else {\r\n",
        "    Console.WriteLine(\"b doesn't divide a\");\r\n",
        "}"
      ]
    }
  ],
  "metadata": {
    "kernelspec": {
      "display_name": ".NET (C#)",
      "language": "C#",
      "name": ".net-csharp"
    },
    "language_info": {
      "name": "csharp",
      "version": ""
    }
  },
  "nbformat": 4,
  "nbformat_minor": 4
}