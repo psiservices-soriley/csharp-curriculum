{
  "cells": [
    {
      "cell_type": "markdown",
      "metadata": {
        "dotnet_interactive": {
          "language": "csharp"
        }
      },
      "source": [
        "# Variables"
      ]
    },
    {
      "cell_type": "markdown",
      "metadata": {
        "dotnet_interactive": {
          "language": "csharp"
        }
      },
      "source": [
        "## You can initialize a variable without assigning it to an initial value by placing the type of the variable in front of the variable name instead of the keyword `\"var\"`:"
      ]
    },
    {
      "cell_type": "code",
      "execution_count": null,
      "metadata": {
        "dotnet_interactive": {
          "language": "csharp"
        }
      },
      "outputs": [
        {
          "output_type": "unknown"
        }
      ],
      "source": [
        "string s;\r\n",
        "s = \"Any string\";\r\n",
        "\r\n",
        "Console.WriteLine(s);"
      ]
    },
    {
      "cell_type": "markdown",
      "metadata": {
        "dotnet_interactive": {
          "language": "csharp"
        }
      },
      "source": [
        "## And if you would like, you can also initialize and assign the variable using the type name instead of `\"var\"` to make the type of the variable more explicit:"
      ]
    },
    {
      "cell_type": "code",
      "execution_count": null,
      "metadata": {
        "dotnet_interactive": {
          "language": "csharp"
        }
      },
      "outputs": [
        {
          "output_type": "unknown"
        }
      ],
      "source": [
        "string s = \"Any string\";\r\n",
        "bool b = true;\r\n",
        "int v = 50;\r\n",
        "\r\n",
        "Console.WriteLine(s);\r\n",
        "Console.WriteLine(b);\r\n",
        "Console.WriteLine(v);"
      ]
    }
  ],
  "metadata": {
    "kernelspec": {
      "display_name": ".NET (C#)",
      "language": "C#",
      "name": ".net-csharp"
    },
    "language_info": {
      "name": "csharp",
      "version": ""
    }
  },
  "nbformat": 4,
  "nbformat_minor": 4
}