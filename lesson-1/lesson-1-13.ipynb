{
  "cells": [
    {
      "cell_type": "markdown",
      "metadata": {
        "dotnet_interactive": {
          "language": "csharp"
        }
      },
      "source": [
        "# Other Number Types"
      ]
    },
    {
      "cell_type": "markdown",
      "metadata": {
        "dotnet_interactive": {
          "language": "csharp"
        }
      },
      "source": [
        "## The integer is not the only number type in town. Here's a few others:"
      ]
    },
    {
      "cell_type": "code",
      "execution_count": null,
      "metadata": {
        "dotnet_interactive": {
          "language": "csharp"
        }
      },
      "outputs": [
        {
          "data": {
            "text/plain": "Current time (ticks) = 637526842645272036\r\n"
          },
          "output_type": "unknown"
        },
        {
          "data": {
            "text/plain": "PI ~~ 3.1415927\r\n"
          },
          "output_type": "unknown"
        },
        {
          "data": {
            "text/plain": "PI ~= 3.141592653589793\r\n"
          },
          "output_type": "unknown"
        },
        {
          "data": {
            "text/plain": "largerThanExpected = 3000000000\r\n"
          },
          "output_type": "unknown"
        },
        {
          "data": {
            "text/plain": "Current time (unsigned ticks) = 637526842645290967\r\n"
          },
          "output_type": "unknown"
        }
      ],
      "source": [
        "// The default integer type only allows you to store values between -2147483648 and 2147483647.\r\n",
        "// A long can be used to store values between -9223372036854775808 and 9223372036854775807\r\n",
        "long currentTime = DateTime.Now.Ticks;  // Get the current time in ticks\r\n",
        "Console.WriteLine(\"Current time (ticks) = \" + currentTime);\r\n",
        "\r\n",
        "// A float can be used to store decimal values with accuracy up to 8 digits after the decimal place\r\n",
        "// To create a float be sure to place an 'f' after the number:\r\n",
        "float PI = 3.14159265f;\r\n",
        "Console.WriteLine(\"PI ~~ \" + PI);\r\n",
        "\r\n",
        "// A double can be used to store decimal values with double the accuracy of a float. That is, it can accurately maintain\r\n",
        "// up to 16 digits past the decimal point. Doubles are assumed by default in C# when a decimal value is created, but to\r\n",
        "// be explicit you can place a 'd' after the number:\r\n",
        "double PI_accurate = 3.1415926535897932d;\r\n",
        "Console.WriteLine(\"PI ~= \" + PI_accurate);\r\n",
        "\r\n",
        "// A uint (unsigned integer) can be used to store values from 0 to 4294967295\r\n",
        "// This data type combines the normal range of positive/negative values for an integer into solely positive values.\r\n",
        "uint largerThanExpected = 3_000_000_000;\r\n",
        "Console.WriteLine(\"largerThanExpected = \" + largerThanExpected);\r\n",
        "\r\n",
        "// A uint (unsigned integer) can be used to store values from 0 to 18446744073709551615\r\n",
        "ulong currentTime_unsigned = (ulong)DateTime.Now.Ticks;\r\n",
        "Console.WriteLine(\"Current time (unsigned ticks) = \" + currentTime_unsigned);"
      ]
    }
  ],
  "metadata": {
    "kernelspec": {
      "display_name": ".NET (C#)",
      "language": "C#",
      "name": ".net-csharp"
    },
    "language_info": {
      "name": "csharp",
      "version": ""
    }
  },
  "nbformat": 4,
  "nbformat_minor": 4
}