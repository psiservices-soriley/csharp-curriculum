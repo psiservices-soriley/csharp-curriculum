{
  "cells": [
    {
      "cell_type": "markdown",
      "metadata": {
        "dotnet_interactive": {
          "language": "csharp"
        }
      },
      "source": [
        "# Problem: Implement the Quadratic Formula"
      ]
    },
    {
      "cell_type": "markdown",
      "metadata": {
        "dotnet_interactive": {
          "language": "csharp"
        }
      },
      "source": [
        "## Using the knowledge we've developed thus far, let's implement a program to solve the quadratic formula."
      ]
    },
    {
      "cell_type": "code",
      "execution_count": null,
      "metadata": {
        "dotnet_interactive": {
          "language": "csharp"
        }
      },
      "outputs": [
        {
          "data": {
            "text/plain": "No real solutions\r\n"
          },
          "output_type": "unknown"
        }
      ],
      "source": [
        "double a = 1;\r\n",
        "double b = 2;\r\n",
        "double c = 1;\r\n",
        "\r\n",
        "// Math Library => Math.Sqrt\r\n",
        "\r\n",
        "// Reminder: The quadratic formula is (-b plus or minus sqrt(b^2 - 4 * a * c)) / (2 * a)\r\n",
        "var discriminant = (b * b) - (4 * a * c);\r\n",
        "\r\n",
        "if (discriminant < 0) {\r\n",
        "    Console.WriteLine(\"No real solutions\");\r\n",
        "} else if (discriminant == 0) {\r\n",
        "    var solution1 = (-b + Math.Sqrt(discriminant)) / (2 * a);\r\n",
        "    Console.WriteLine(solution1);\r\n",
        "} else {\r\n",
        "    var solution1 = (-b + Math.Sqrt(discriminant)) / (2 * a);\r\n",
        "    var solution2 = (-b - Math.Sqrt(discriminant)) / (2 * a);\r\n",
        "\r\n",
        "    Console.WriteLine(solution1 + \", \" + solution2);\r\n",
        "}\r\n"
      ]
    }
  ],
  "metadata": {
    "kernelspec": {
      "display_name": ".NET (C#)",
      "language": "C#",
      "name": ".net-csharp"
    },
    "language_info": {
      "name": "csharp",
      "version": ""
    }
  },
  "nbformat": 4,
  "nbformat_minor": 4
}