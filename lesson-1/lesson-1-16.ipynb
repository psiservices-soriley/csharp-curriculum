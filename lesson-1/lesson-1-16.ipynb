{
  "cells": [
    {
      "cell_type": "markdown",
      "metadata": {
        "dotnet_interactive": {
          "language": "csharp"
        }
      },
      "source": [
        "# Problem: Find All Primes Up To A Value N"
      ]
    },
    {
      "cell_type": "code",
      "execution_count": null,
      "metadata": {
        "dotnet_interactive": {
          "language": "csharp"
        }
      },
      "outputs": [],
      "source": [
        "/**\r\n",
        " * Implement a program to find all prime numbers up to a given value N\r\n",
        " */\r\n",
        "\r\n",
        "int N = 1000;\r\n",
        "\r\n",
        "// TODO: Implement program"
      ]
    }
  ],
  "metadata": {
    "kernelspec": {
      "display_name": ".NET (C#)",
      "language": "C#",
      "name": ".net-csharp"
    },
    "language_info": {
      "name": "csharp",
      "version": ""
    }
  },
  "nbformat": 4,
  "nbformat_minor": 4
}