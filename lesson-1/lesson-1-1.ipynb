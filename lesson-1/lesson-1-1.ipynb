{
 "cells": [
  {
   "cell_type": "markdown",
   "metadata": {
    "dotnet_interactive": {
     "language": "csharp"
    }
   },
   "source": [
    "# C# Programming! Lesson 1\n",
    "\n",
    "A C# Course By Steven O'Riley\n",
    "\n",
    "\"*No need to be scared, a program is a reflection of **you**!*\""
   ]
  },
  {
   "cell_type": "markdown",
   "metadata": {
    "dotnet_interactive": {
     "language": "csharp"
    }
   },
   "source": [
    "A **program** is a sequence of instructions that specify how a set of data should be manipulated.\n",
    "\n",
    "Your program only has to be as complicated as the thoughts that go through your head when writing it.\n",
    "\n",
    "![Not Scary](https://user-images.githubusercontent.com/54543848/113030028-2690b000-915b-11eb-9f63-252920ae5fd7.png)\n",
    "\n",
    "This might seem obvious, but it is to say that if you can understand the problem you're trying to solve, and how to solve it, then you already know what the program to solve your problem will look like. It will just contain very verbose instructions."
   ]
  },
  {
   "cell_type": "markdown",
   "metadata": {
    "dotnet_interactive": {
     "language": "csharp"
    }
   },
   "source": [
    "# Let's Try It Out Ourselves"
   ]
  },
  {
   "cell_type": "code",
   "execution_count": 1,
   "metadata": {
    "dotnet_interactive": {
     "language": "csharp"
    }
   },
   "outputs": [
    {
     "data": {
      "text/plain": [
       "Hello World!"
      ]
     },
     "metadata": {},
     "output_type": "display_data"
    }
   ],
   "source": [
    "display(\"Hello World!\");"
   ]
  }
 ],
 "metadata": {
  "kernelspec": {
   "display_name": ".NET (C#)",
   "language": "C#",
   "name": ".net-csharp"
  },
  "language_info": {
   "file_extension": ".cs",
   "mimetype": "text/x-csharp",
   "name": "C#",
   "pygments_lexer": "csharp",
   "version": "8.0"
  }
 },
 "nbformat": 4,
 "nbformat_minor": 4
}
