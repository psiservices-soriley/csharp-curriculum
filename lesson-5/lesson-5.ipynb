{
 "cells": [
  {
   "cell_type": "markdown",
   "metadata": {},
   "source": [
    "# C# Programming! Lesson 5\r\n",
    "\r\n",
    "A C# course by Steven O'Riley"
   ]
  },
  {
   "cell_type": "markdown",
   "metadata": {},
   "source": [
    "## Enums"
   ]
  },
  {
   "cell_type": "markdown",
   "metadata": {},
   "source": [
    "Enums are objects which can be used to distinguish between different categories of information. For example, say we want to implement a `CandyShop` class, which will sell different quantities of differently colored candies. To begin setting up this class we'll first need a way in which we can distinguish between types of candies, and for that we can use an **enum**:"
   ]
  },
  {
   "cell_type": "code",
   "execution_count": null,
   "metadata": {
    "dotnet_interactive": {
     "language": "csharp"
    }
   },
   "outputs": [
    {
     "data": {
      "text/html": "<span>Blue</span>"
     },
     "output_type": "unknown"
    },
    {
     "data": {
      "text/html": "<span>Red</span>"
     },
     "output_type": "unknown"
    }
   ],
   "source": [
    "enum CandyType {\r\n",
    "    Red,\r\n",
    "    Blue,\r\n",
    "    Purple,\r\n",
    "    Orange,\r\n",
    "    Yellow,\r\n",
    "    Green\r\n",
    "};\r\n",
    "\r\n",
    "var candyType1 = CandyType.Blue;\r\n",
    "display(candyType1);\r\n",
    "\r\n",
    "CandyType candyType2 = CandyType.Green;\r\n",
    "candyType2 = CandyType.Red;\r\n",
    "display(candyType2);"
   ]
  },
  {
   "cell_type": "markdown",
   "metadata": {},
   "source": [
    "When compiled to machine language, each element within an enum actually ends up corresponding to a number, which by default corresponds to the index of the element within the enum. We can obtain what this number is given an enum element by using a feature called **casting**. **casting** is a tool which enables one to convert from one datatype to another. Casting can be implemented as follows:"
   ]
  },
  {
   "cell_type": "code",
   "execution_count": null,
   "metadata": {
    "dotnet_interactive": {
     "language": "csharp"
    }
   },
   "outputs": [
    {
     "data": {
      "text/html": "<div class=\"dni-plaintext\">0</div>"
     },
     "output_type": "unknown"
    },
    {
     "data": {
      "text/html": "<div class=\"dni-plaintext\">1</div>"
     },
     "output_type": "unknown"
    },
    {
     "data": {
      "text/html": "<div class=\"dni-plaintext\">2</div>"
     },
     "output_type": "unknown"
    },
    {
     "data": {
      "text/html": "<div class=\"dni-plaintext\">5</div>"
     },
     "output_type": "unknown"
    }
   ],
   "source": [
    "enum CandyType {\r\n",
    "    Red,\r\n",
    "    Blue,\r\n",
    "    Purple,\r\n",
    "    Orange,\r\n",
    "    Yellow,\r\n",
    "    Green\r\n",
    "};\r\n",
    "\r\n",
    "// To cast a value from one datatype to another, put the desired datatype in parentheses,\r\n",
    "// followed by the value to convert.\r\n",
    "// Here to cast each enum member to an int, we can place (int) before each enum member:\r\n",
    "display((int)CandyType.Red);\r\n",
    "display((int)CandyType.Blue);\r\n",
    "display((int)CandyType.Purple);\r\n",
    "display((int)CandyType.Green);"
   ]
  },
  {
   "cell_type": "markdown",
   "metadata": {},
   "source": [
    "### Dictionaries"
   ]
  },
  {
   "cell_type": "markdown",
   "metadata": {},
   "source": [
    "To implement the `CandyShop` class, we need a way to keep track of correspondences between candy types and their quantities. For this purpose we can use a `Dictionary`, which can be viewed as a magical type of `Array`. \r\n",
    "The difference between a `Dictionary` and an `Array` is that the index used to reference a particular element within a `Dictionary` does not have to be a number. In fact, it can be just about any class you like! Including an `enum`. The object used to index into a dictionary is known as a **key**, and the corresponding result is known as a **value**.\r\n",
    "\r\n",
    "Here's an example of creating a `Dictionary` to maintain a relationship between candy types and a number representing the quantity of available candies:"
   ]
  },
  {
   "cell_type": "code",
   "execution_count": null,
   "metadata": {
    "dotnet_interactive": {
     "language": "csharp"
    }
   },
   "outputs": [
    {
     "data": {
      "text/plain": "Number of red candies: 1"
     },
     "output_type": "unknown"
    }
   ],
   "source": [
    "enum CandyType {\r\n",
    "    Red,\r\n",
    "    Blue,\r\n",
    "    Purple,\r\n",
    "    Orange,\r\n",
    "    Yellow,\r\n",
    "    Green\r\n",
    "};\r\n",
    "\r\n",
    "// Maintain a relationship between a CandyType and a quantity for that CandyType.\r\n",
    "var quantities = new Dictionary<CandyType, uint>();\r\n",
    "\r\n",
    "// We can index into a dictionary just like indexing into an array, but\r\n",
    "// instead of using a number we use a key of type CandyType.\r\n",
    "quantities[CandyType.Red] = 1;\r\n",
    "\r\n",
    "quantities[CandyType.Purple] = 3;\r\n",
    "\r\n",
    "// If you try to obtain the value for a given key in a dictionary when\r\n",
    "// the key does not exist, an error will be thrown. To avoid this we\r\n",
    "// can use the ContainsKey() method:\r\n",
    "if (quantities.ContainsKey(CandyType.Blue)) {\r\n",
    "    display(\"Number of blue candies: \" + quantities[CandyType.Blue]);\r\n",
    "}\r\n",
    "\r\n",
    "if (quantities.ContainsKey(CandyType.Red)) {\r\n",
    "    display(\"Number of red candies: \" + quantities[CandyType.Red]);\r\n",
    "}"
   ]
  },
  {
   "cell_type": "markdown",
   "metadata": {},
   "source": [
    "### Access Modifiers"
   ]
  },
  {
   "cell_type": "markdown",
   "metadata": {},
   "source": [
    "Often times classes require the use of utility methods which are specific to that class to accomplish a particular purpose, but these utility methods may not necessarily be useful to the code which creates and uses each class.\r\n",
    "\r\n",
    "In our desired `CandyShop` class, we're going to need a method called `SetQuantity()` which updates the number of candies which are available for a given type of candy. However, only the candy shop should be able to update the quantity of candies it has, so we do not want this method to be available outside of the internals of the class itself. In other words, when a new `CandyShop` gets created, the `SetQuantity()` method won't be an accessible instance method that can be called using the created instance of the candy shop.\r\n",
    "\r\n",
    "To add this type of behavior we can use the `private` access modifier, rather than the default `public` access modifier we have been using across all of the examples with classes thus far:"
   ]
  },
  {
   "cell_type": "code",
   "execution_count": null,
   "metadata": {
    "dotnet_interactive": {
     "language": "csharp"
    }
   },
   "outputs": [
    {
     "data": {
      "text/html": "<div class=\"dni-plaintext\">0</div>"
     },
     "output_type": "unknown"
    },
    {
     "data": {
      "text/html": "<div class=\"dni-plaintext\">3</div>"
     },
     "output_type": "unknown"
    }
   ],
   "source": [
    "enum CandyType {\r\n",
    "    Red,\r\n",
    "    Blue,\r\n",
    "    Purple,\r\n",
    "    Orange,\r\n",
    "    Yellow,\r\n",
    "    Green\r\n",
    "};\r\n",
    "\r\n",
    "class CandyShop {\r\n",
    "    // Make the Quantities dictionary private, meaning this variable\r\n",
    "    // will only be accessible within this class\r\n",
    "    private Dictionary<CandyType, uint> Quantities;\r\n",
    "\r\n",
    "    public CandyShop(Dictionary<CandyType, uint> quantities) {\r\n",
    "        this.Quantities = quantities;\r\n",
    "    }\r\n",
    "\r\n",
    "    // Create a private method called SetQuantity() which updates\r\n",
    "    // the number of candies of a given type that are available in the shop.\r\n",
    "    // The private keyword means this method will only be accessible from\r\n",
    "    // within other methods of this class\r\n",
    "    private void SetQuantity(CandyType candyType, uint quantity) {\r\n",
    "        this.Quantities[candyType] = quantity;\r\n",
    "    }\r\n",
    "\r\n",
    "    // Here we also create a GetQuantity() method, marked as public\r\n",
    "    // (so the method will be accessible from outside of the body of this class)\r\n",
    "    // This means if we create a new CandyShop called candyShop, we\r\n",
    "    // will be able to call candyShop.GetQuantity() without an error.\r\n",
    "    public uint GetQuantity(CandyType candyType) {\r\n",
    "        if (!this.Quantities.ContainsKey(candyType)) {\r\n",
    "            return 0;\r\n",
    "        }\r\n",
    "        return this.Quantities[candyType];\r\n",
    "    }\r\n",
    "}\r\n",
    "\r\n",
    "var quantities = new Dictionary<CandyType, uint>();\r\n",
    "quantities[CandyType.Red] = 1;\r\n",
    "quantities[CandyType.Purple] = 3;\r\n",
    "\r\n",
    "var shop = new CandyShop(quantities);\r\n",
    "display(shop.GetQuantity(CandyType.Blue));\r\n",
    "display(shop.GetQuantity(CandyType.Purple));\r\n",
    "\r\n",
    "// notice what happens if you try to make a call to shop.SetQuantity()"
   ]
  },
  {
   "cell_type": "markdown",
   "metadata": {},
   "source": [
    "There's one other access modifier we haven't covered, which is the `protected` access modifier. This modifier makes a method or variable accessible to the class it exists within, as well as any classes which inherit the class it exists within."
   ]
  },
  {
   "cell_type": "code",
   "execution_count": null,
   "metadata": {
    "dotnet_interactive": {
     "language": "csharp"
    }
   },
   "outputs": [
    {
     "data": {
      "text/plain": "BEEP BEEP"
     },
     "output_type": "unknown"
    }
   ],
   "source": [
    "// This example contains a large mixture of a lot of the things we've\r\n",
    "// learned about classes so far.\r\n",
    "\r\n",
    "class SuperSecureBuilding {\r\n",
    "    private bool OnLockdown;\r\n",
    "\r\n",
    "    public SuperSecureBuilding() {\r\n",
    "        this.OnLockdown = false;\r\n",
    "    }\r\n",
    "\r\n",
    "    protected void Lockdown() {\r\n",
    "        this.OnLockdown = true;\r\n",
    "    }\r\n",
    "\r\n",
    "    protected bool IsOnLockdown() {\r\n",
    "        return this.OnLockdown;\r\n",
    "    }\r\n",
    "}\r\n",
    "\r\n",
    "class CIAHeadquarters : SuperSecureBuilding {\r\n",
    "    public CIAHeadquarters() : base()\r\n",
    "    {\r\n",
    "    }\r\n",
    "\r\n",
    "    public void TriggerAlarm() {\r\n",
    "        if (!this.IsOnLockdown()) {\r\n",
    "            display(\"BEEP BEEP\");\r\n",
    "\r\n",
    "            // Make a call to the protected method Lockdown,\r\n",
    "            // which is also accessible to this class\r\n",
    "            this.Lockdown();\r\n",
    "        }\r\n",
    "    }\r\n",
    "}\r\n",
    "\r\n",
    "var headquarters = new CIAHeadquarters();\r\n",
    "headquarters.TriggerAlarm();\r\n",
    "headquarters.TriggerAlarm();"
   ]
  },
  {
   "cell_type": "markdown",
   "metadata": {},
   "source": [
    "### Static Methods"
   ]
  },
  {
   "cell_type": "markdown",
   "metadata": {},
   "source": [
    "In the real world, it is not always ideal to treat all of the objects involved in modeling a particular situation in a completely isolated way. Often times there exist methods which can provide utility across quite a few different classes, if not the entire project.\r\n",
    "\r\n",
    "For example, say we create an awesome method which is able to sort an array efficiently. This method has the potential to provide very useful functionality across a wide range of different classes, so we'd like to have it available to us at all times. But so far the only technique which has been introduced that allows a method to be reused like this is inheritance. For a method like one which sorts an array, it doesn't make sense to create a class that all other classes must inherit in order to utilize the sorting functionality. This would imply that for other utility methods that can be applied to other data structures, the classes which contain those methods would have to be inherited too.\r\n",
    "\r\n",
    "To avoid all of this work, we can instead create a **static** method inside of a new class which will be devoted to containing reusable code that can be applied across similar data structures. A **static** method within a class can be called without having to create an instance of the class.\r\n",
    "\r\n",
    "Here's an example of creating an `ArrayUtil` class which is devoted to containing different methods applicable to arrays which can be called from any other class in our project:"
   ]
  },
  {
   "cell_type": "code",
   "execution_count": null,
   "metadata": {
    "dotnet_interactive": {
     "language": "csharp"
    }
   },
   "outputs": [
    {
     "data": {
      "text/html": "<div class=\"dni-plaintext\">23</div>"
     },
     "output_type": "unknown"
    }
   ],
   "source": [
    "class ArrayUtil {\r\n",
    "    // Sorts the given array of integers in ascending order.\r\n",
    "    public static void Sort(int[] array) {\r\n",
    "        Array.Sort(array);\r\n",
    "    }\r\n",
    "\r\n",
    "    // Returns the largest number in an array.\r\n",
    "    public static int FindMax(int[] array) {\r\n",
    "        if (array.Length == 0) {\r\n",
    "            return 0;\r\n",
    "        }\r\n",
    "\r\n",
    "        // static methods can call other static methods,\r\n",
    "        // but cannot call methods which are not static.\r\n",
    "        Sort(array);\r\n",
    "        return array[array.Length - 1];\r\n",
    "    }\r\n",
    "}\r\n",
    "\r\n",
    "class Classroom {\r\n",
    "    public int[] StudentAges;\r\n",
    "\r\n",
    "    // Create a new instance of a classroom given an array of student ages\r\n",
    "    public Classroom(int[] studentAges) {\r\n",
    "        this.StudentAges = studentAges;\r\n",
    "    }\r\n",
    "}\r\n",
    "\r\n",
    "var classroom = new Classroom(new int[]{ 20, 23, 19, 22, 18, 21, 20, 18 });\r\n",
    "display(ArrayUtil.FindMax(classroom.StudentAges));"
   ]
  },
  {
   "cell_type": "markdown",
   "metadata": {},
   "source": [
    "You might notice the `public` access modifier which comes before the creation of our `static` method. This access modifier keyword works effectively the same as the access modifier keyword for variables and methods which are nonstatic. However, since nonstatic methods are not able to access static information by definition, this access modifier only affects the visibility of a method or variable in the scope of other static methods and variables."
   ]
  },
  {
   "cell_type": "markdown",
   "metadata": {},
   "source": [
    "## Lambda Functions"
   ]
  },
  {
   "cell_type": "markdown",
   "metadata": {},
   "source": [
    "In the past we've seen the use of **methods** to create code that can be executed more than once with ease. However, some situations still arise in which methods aren't quite as flexible as one would prefer.\r\n",
    "\r\n",
    "One example where this is the case can be seen when sorting an array using the C# `Array.Sort()` method."
   ]
  },
  {
   "cell_type": "code",
   "execution_count": null,
   "metadata": {
    "dotnet_interactive": {
     "language": "csharp"
    }
   },
   "outputs": [
    {
     "data": {
      "text/html": "<div class=\"dni-plaintext\">1</div>"
     },
     "output_type": "unknown"
    },
    {
     "data": {
      "text/html": "<div class=\"dni-plaintext\">2</div>"
     },
     "output_type": "unknown"
    },
    {
     "data": {
      "text/html": "<div class=\"dni-plaintext\">3</div>"
     },
     "output_type": "unknown"
    },
    {
     "data": {
      "text/html": "<div class=\"dni-plaintext\">4</div>"
     },
     "output_type": "unknown"
    }
   ],
   "source": [
    "var numbers = new int[] { 1, 2, 3, 4 };\r\n",
    "Array.Sort(numbers);\r\n",
    "\r\n",
    "foreach (var number in numbers) {\r\n",
    "    display(number);\r\n",
    "}"
   ]
  },
  {
   "cell_type": "markdown",
   "metadata": {},
   "source": [
    "The problem that one can identify in this situation is that there doesn't seem to be a clear way, given the code above, to sort the array using a different rule for ordering. For example, if we wanted to sort the array in descending order, there's no equivalent *Array.SortDescending()* method. Of course, we could sort the array in ascending order and then reverse the result, but this is a bit indirect and causes more computational work.\r\n",
    "\r\n",
    "What we can do instead is provide a **lambda function** as an argument to the `Array.Sort()` method. A **lambda function** is a standalone method which doesn't have a name. The syntax for creating a lambda function is as follows:"
   ]
  },
  {
   "cell_type": "markdown",
   "metadata": {},
   "source": [
    "```csharp\r\n",
    "// Here we are creating a lambda function (a method without a name)\r\n",
    "// which takes in two integers, adds them, and then returns the result\r\n",
    "\r\n",
    "// Within the parentheses goes the list of input parameters\r\n",
    "// following this is an arrow (`=>`), and curly brackets\r\n",
    "// containing the code to evaluate when the function is invoked.\r\n",
    "(int a, int b) => {\r\n",
    "    return a + b;\r\n",
    "};\r\n",
    "```"
   ]
  },
  {
   "cell_type": "markdown",
   "metadata": {},
   "source": [
    "There is just one problem with the above code, which is that if we try to naively assign the lambda function to a variable, we will encounter a compilation error:"
   ]
  },
  {
   "cell_type": "code",
   "execution_count": null,
   "metadata": {
    "dotnet_interactive": {
     "language": "csharp"
    }
   },
   "outputs": [
    {
     "data": {
      "application/x.notebook.error-traceback": {
       "ename": "Error",
       "evalue": "(1,5): error CS0815: Cannot assign lambda expression to an implicitly-typed variable",
       "traceback": []
      }
     },
     "output_type": "unknown"
    }
   ],
   "source": [
    "var add = (int a, int b) => {\r\n",
    "    return a + b;\r\n",
    "};"
   ]
  },
  {
   "cell_type": "markdown",
   "metadata": {},
   "source": [
    "Hm, cannot assign a lambda expression to an implicitly-typed variable. No problem right? We just need to come up with the type of the function. ...But, what exactly does that type look like?\r\n",
    "\r\n",
    "Turns out the answer to this question depends on whether or not the function returns a value. If the function returns a value, the type will look like this:"
   ]
  },
  {
   "cell_type": "code",
   "execution_count": null,
   "metadata": {
    "dotnet_interactive": {
     "language": "csharp"
    }
   },
   "outputs": [
    {
     "data": {
      "text/html": "<div class=\"dni-plaintext\">3</div>"
     },
     "output_type": "unknown"
    }
   ],
   "source": [
    "// The Func type is used to describe a lambda expression which returns a value.\r\n",
    "// Within the Func<> type goes the list of input parameter types, followed by the output parameter type.\r\n",
    "// Here the <int, int, int> can be divided into two parts:\r\n",
    "//    1.) The first two ints, which describe the types of parameters a and b,\r\n",
    "//    2.) The last int, which describes the type of the returned value\r\n",
    "Func<int, int, int> add = (int a, int b) => {\r\n",
    "    return a + b;\r\n",
    "};\r\n",
    "\r\n",
    "display(add(1, 2));"
   ]
  },
  {
   "cell_type": "markdown",
   "metadata": {},
   "source": [
    "If the lambda function does not return a value, the syntax for creating it will look like this:"
   ]
  },
  {
   "cell_type": "code",
   "execution_count": null,
   "metadata": {
    "dotnet_interactive": {
     "language": "csharp"
    }
   },
   "outputs": [
    {
     "data": {
      "text/html": "<div class=\"dni-plaintext\">11</div>"
     },
     "output_type": "unknown"
    }
   ],
   "source": [
    "// The Action type is used to describe a lambda expression which does not return a value.\r\n",
    "// Within the Action<> type goes the list of input parameter types\r\n",
    "// the two ints within <int, int> describe the types of parameters a and b respectively\r\n",
    "Action<int, int> displaySum = (int a, int b) => {\r\n",
    "    display(a + b);\r\n",
    "};\r\n",
    "\r\n",
    "displaySum(5, 6);"
   ]
  },
  {
   "cell_type": "markdown",
   "metadata": {},
   "source": [
    "A type that describes a lambda function is known as a **delegate**. `Func` and `Action` are both delegates which are builtin to C#."
   ]
  },
  {
   "cell_type": "markdown",
   "metadata": {},
   "source": [
    "If the delegate type of a lambda expression is already known, you do not have to respecify its input types within the parentheses containing the method's input parameters. In other words, we can rewrite the above two examples in the following ways:"
   ]
  },
  {
   "cell_type": "code",
   "execution_count": null,
   "metadata": {
    "dotnet_interactive": {
     "language": "csharp"
    }
   },
   "outputs": [
    {
     "data": {
      "text/html": "<div class=\"dni-plaintext\">3</div>"
     },
     "output_type": "unknown"
    },
    {
     "data": {
      "text/html": "<div class=\"dni-plaintext\">11</div>"
     },
     "output_type": "unknown"
    }
   ],
   "source": [
    "// Notice that no types are specified within the\r\n",
    "// list of input parameters.\r\n",
    "Func<int, int, int> add = (a, b) => {\r\n",
    "    return a + b;\r\n",
    "};\r\n",
    "\r\n",
    "Action<int, int> displaySum = (a, b) => {\r\n",
    "    display(a + b);\r\n",
    "};\r\n",
    "\r\n",
    "display(add(1, 2));\r\n",
    "displaySum(5, 6);"
   ]
  },
  {
   "cell_type": "markdown",
   "metadata": {},
   "source": [
    "We now have the knowledge required to sort an array of numbers in descending order using the `Array.Sort` method. As an optional second parameter to this method, we can provide a lambda expression which takes in two values and returns an integer indicating where the first value should be positioned in the sorted array relative to the second value:"
   ]
  },
  {
   "cell_type": "code",
   "execution_count": null,
   "metadata": {
    "dotnet_interactive": {
     "language": "csharp"
    }
   },
   "outputs": [
    {
     "data": {
      "text/html": "<div class=\"dni-plaintext\">4</div>"
     },
     "output_type": "unknown"
    },
    {
     "data": {
      "text/html": "<div class=\"dni-plaintext\">3</div>"
     },
     "output_type": "unknown"
    },
    {
     "data": {
      "text/html": "<div class=\"dni-plaintext\">2</div>"
     },
     "output_type": "unknown"
    },
    {
     "data": {
      "text/html": "<div class=\"dni-plaintext\">1</div>"
     },
     "output_type": "unknown"
    }
   ],
   "source": [
    "var numbers = new int[] { 1, 2, 3, 4 };\r\n",
    "Array.Sort(numbers, (a, b) => {\r\n",
    "    if (a < b) {\r\n",
    "        // Return a positive value, indicating that value 'a'\r\n",
    "        // should be placed to the right of value 'b' in the sorted array\r\n",
    "        return 1;\r\n",
    "    }\r\n",
    "\r\n",
    "    // Return a negative value, indicating that value 'a'\r\n",
    "    // should be placed to the left of value 'b' in the sorted array\r\n",
    "    return -1;\r\n",
    "});\r\n",
    "\r\n",
    "foreach (var number in numbers) {\r\n",
    "    display(number);\r\n",
    "}"
   ]
  },
  {
   "cell_type": "markdown",
   "metadata": {},
   "source": [
    "## Polymorphism"
   ]
  }
 ],
 "metadata": {
  "kernelspec": {
   "display_name": ".NET (C#)",
   "language": "C#",
   "name": ".net-csharp"
  },
  "language_info": {
   "name": "C#",
   "version": ""
  },
  "orig_nbformat": 2
 },
 "nbformat": 4,
 "nbformat_minor": 2
}