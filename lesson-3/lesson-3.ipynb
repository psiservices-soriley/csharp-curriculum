{
  "cells": [
    {
      "cell_type": "markdown",
      "metadata": {},
      "source": [
        "# C# Programming! Lesson 3\n",
        "\n",
        "A C# course by Steven O'Riley"
      ]
    },
    {
      "cell_type": "markdown",
      "metadata": {},
      "source": [
        "## Lists"
      ]
    },
    {
      "cell_type": "markdown",
      "metadata": {},
      "source": [
        "In a lot of problems that occur in the real world, it is useful to be able to keep track of multiple items at once. For example, say we want to keep track of a set of people who have checked into a hotel. We can create classes called `Guest` which contains instance variables for the name of a guest and `Hotel` which contains instance methods called `CheckInGuest` and `CheckOutGuest` but what next?"
      ]
    },
    {
      "cell_type": "code",
      "execution_count": null,
      "metadata": {
        "dotnet_interactive": {
          "language": "csharp"
        }
      },
      "outputs": [],
      "source": [
        "class Guest {\n",
        "    public string FirstName;\n",
        "    public string LastName;\n",
        "\n",
        "    public Guest(string firstName, string lastName) {\n",
        "        this.FirstName = firstName;\n",
        "        this.LastName = lastName;\n",
        "    }\n",
        "\n",
        "    public string GetFullName() {\n",
        "        return this.FirstName + \" \" + this.LastName;\n",
        "    }\n",
        "}\n",
        "\n",
        "class Hotel {\n",
        "    public void CheckInGuest(Guest guest) {\n",
        "        // ... what to do here? How do we keep track of multiple guests at once?\n",
        "    }\n",
        "\n",
        "    public void CheckOutGuest(Guest guest) {\n",
        "        // ... same problem\n",
        "    }\n",
        "}"
      ]
    },
    {
      "cell_type": "markdown",
      "metadata": {},
      "source": [
        "This is where a `List` can come into play. A `List` is a class which can keep track of multiple items, by having each item keep track of the next item of the list, if there is one:"
      ]
    },
    {
      "cell_type": "markdown",
      "metadata": {},
      "source": [
        "![List Example](https://user-images.githubusercontent.com/54543848/114891020-86cd5600-9dd9-11eb-8983-9da34516c559.png)"
      ]
    },
    {
      "cell_type": "markdown",
      "metadata": {},
      "source": [
        "A `List` is a class that is built in to C#, so we don't have to create our own. To create a list, we can use the same syntax we would use to create an instance of any other class:"
      ]
    },
    {
      "cell_type": "code",
      "execution_count": 1,
      "metadata": {
        "dotnet_interactive": {
          "language": "csharp"
        }
      },
      "outputs": [],
      "source": [
        "var list = new List<string>();"
      ]
    },
    {
      "cell_type": "markdown",
      "metadata": {},
      "source": [
        "But hold up. We've never seen this `<string>` syntax before. Where did that come from? Well, when we create a list, we have to signify what the type of the items are that we will be storing in the list. This is because under the hood, when translating lists to machine code, the size of each individual item in the list must be known, so that the amount of memory that must be obtained to store each item is known.\n",
        "\n",
        "Instead of `string` I could have used any other datatype, including another `List`:"
      ]
    },
    {
      "cell_type": "code",
      "execution_count": 1,
      "metadata": {
        "dotnet_interactive": {
          "language": "csharp"
        }
      },
      "outputs": [],
      "source": [
        "var list = new List<List<string>>();"
      ]
    },
    {
      "cell_type": "markdown",
      "metadata": {},
      "source": [
        "To add an item to the list, we can use the `Add` instance method:"
      ]
    },
    {
      "cell_type": "code",
      "execution_count": 1,
      "metadata": {
        "dotnet_interactive": {
          "language": "csharp"
        }
      },
      "outputs": [
        {
          "data": {
            "text/html": "<table><thead><tr><th><i>index</i></th><th>value</th></tr></thead><tbody><tr><td>0</td><td><div class=\"dni-plaintext\">Alice</div></td></tr><tr><td>1</td><td><div class=\"dni-plaintext\">Bob</div></td></tr></tbody></table>"
          },
          "execution_count": 1,
          "metadata": {},
          "output_type": "execute_result"
        }
      ],
      "source": [
        "var list = new List<string>();\n",
        "list.Add(\"Alice\");\n",
        "list.Add(\"Bob\");\n",
        "\n",
        "// The list now contains two items, \"Alice\" and \"Bob\"\n",
        "\n",
        "display(list);"
      ]
    },
    {
      "cell_type": "markdown",
      "metadata": {},
      "source": [
        "To remove an item from the list, we can use the `Remove` instance method:"
      ]
    },
    {
      "cell_type": "code",
      "execution_count": 1,
      "metadata": {
        "dotnet_interactive": {
          "language": "csharp"
        }
      },
      "outputs": [
        {
          "data": {
            "text/html": "<table><thead><tr><th><i>index</i></th><th>value</th></tr></thead><tbody><tr><td>0</td><td><div class=\"dni-plaintext\">Bob</div></td></tr></tbody></table>"
          },
          "execution_count": 1,
          "metadata": {},
          "output_type": "execute_result"
        }
      ],
      "source": [
        "var list = new List<string>();\n",
        "list.Add(\"Alice\");\n",
        "list.Add(\"Bob\");\n",
        "\n",
        "// The list now contains two items, \"Alice\" and \"Bob\"\n",
        "\n",
        "list.Remove(\"Alice\");\n",
        "\n",
        "// Since \"Alice\" has been removed, the list now contains one item, \"Bob\"\n",
        "\n",
        "display(list);"
      ]
    },
    {
      "cell_type": "markdown",
      "metadata": {},
      "source": [
        "We can use these two methods to complete our `Hotel` class from before:"
      ]
    },
    {
      "cell_type": "code",
      "execution_count": 1,
      "metadata": {
        "dotnet_interactive": {
          "language": "csharp"
        }
      },
      "outputs": [],
      "source": [
        "class Guest {\n",
        "    public string FirstName;\n",
        "    public string LastName;\n",
        "\n",
        "    public Guest(string firstName, string lastName) {\n",
        "        this.FirstName = firstName;\n",
        "        this.LastName = lastName;\n",
        "    }\n",
        "\n",
        "    public string GetFullName() {\n",
        "        return this.FirstName + \" \" + this.LastName;\n",
        "    }\n",
        "}\n",
        "\n",
        "class Hotel {\n",
        "    public List<Guest> GuestList;\n",
        "\n",
        "    public Hotel() {\n",
        "        // We can initialize our list whenever a new Hotel gets created\n",
        "        // If we don't do this we will get an error when trying to check\n",
        "        // a guest into the hotel, because our list will not have been\n",
        "        // created yet\n",
        "        this.GuestList = new List<Guest>();\n",
        "    }\n",
        "\n",
        "    public void CheckInGuest(Guest guest) {\n",
        "        this.GuestList.Add(guest);\n",
        "    }\n",
        "\n",
        "    public void CheckOutGuest(Guest guest) {\n",
        "        this.GuestList.Remove(guest);\n",
        "    }\n",
        "}"
      ]
    },
    {
      "cell_type": "markdown",
      "metadata": {},
      "source": [
        "Now we can play with checking in and out guests:"
      ]
    },
    {
      "cell_type": "code",
      "execution_count": 1,
      "metadata": {
        "dotnet_interactive": {
          "language": "csharp"
        }
      },
      "outputs": [
        {
          "data": {
            "text/plain": "The GuestList before any guests have checked in:"
          },
          "execution_count": 1,
          "metadata": {},
          "output_type": "execute_result"
        },
        {
          "data": {
            "text/html": "<i>(empty)</i>"
          },
          "execution_count": 1,
          "metadata": {},
          "output_type": "execute_result"
        },
        {
          "data": {
            "text/plain": "The GuestList after Alice has checked in:"
          },
          "execution_count": 1,
          "metadata": {},
          "output_type": "execute_result"
        },
        {
          "data": {
            "text/html": "<table><thead><tr><th><i>index</i></th><th>FirstName</th><th>LastName</th></tr></thead><tbody><tr><td>0</td><td><div class=\"dni-plaintext\">Alice</div></td><td><div class=\"dni-plaintext\">Marice</div></td></tr></tbody></table>"
          },
          "execution_count": 1,
          "metadata": {},
          "output_type": "execute_result"
        },
        {
          "data": {
            "text/plain": "The GuestList after Bob has checked in:"
          },
          "execution_count": 1,
          "metadata": {},
          "output_type": "execute_result"
        },
        {
          "data": {
            "text/html": "<table><thead><tr><th><i>index</i></th><th>FirstName</th><th>LastName</th></tr></thead><tbody><tr><td>0</td><td><div class=\"dni-plaintext\">Alice</div></td><td><div class=\"dni-plaintext\">Marice</div></td></tr><tr><td>1</td><td><div class=\"dni-plaintext\">Bob</div></td><td><div class=\"dni-plaintext\">Linton</div></td></tr></tbody></table>"
          },
          "execution_count": 1,
          "metadata": {},
          "output_type": "execute_result"
        },
        {
          "data": {
            "text/plain": "The GuestList after Alice has checked out:"
          },
          "execution_count": 1,
          "metadata": {},
          "output_type": "execute_result"
        },
        {
          "data": {
            "text/html": "<table><thead><tr><th><i>index</i></th><th>FirstName</th><th>LastName</th></tr></thead><tbody><tr><td>0</td><td><div class=\"dni-plaintext\">Bob</div></td><td><div class=\"dni-plaintext\">Linton</div></td></tr></tbody></table>"
          },
          "execution_count": 1,
          "metadata": {},
          "output_type": "execute_result"
        },
        {
          "data": {
            "text/plain": "The GuestList after Bob has checked out:"
          },
          "execution_count": 1,
          "metadata": {},
          "output_type": "execute_result"
        },
        {
          "data": {
            "text/html": "<i>(empty)</i>"
          },
          "execution_count": 1,
          "metadata": {},
          "output_type": "execute_result"
        }
      ],
      "source": [
        "var alice = new Guest(\"Alice\", \"Marice\");\n",
        "var bob = new Guest(\"Bob\", \"Linton\");\n",
        "\n",
        "var hotel = new Hotel();\n",
        "\n",
        "display(\"The GuestList before any guests have checked in:\");\n",
        "display(hotel.GuestList);\n",
        "\n",
        "hotel.CheckInGuest(alice);\n",
        "\n",
        "display(\"The GuestList after Alice has checked in:\");\n",
        "display(hotel.GuestList);\n",
        "\n",
        "hotel.CheckInGuest(bob);\n",
        "\n",
        "display(\"The GuestList after Bob has checked in:\");\n",
        "display(hotel.GuestList);\n",
        "\n",
        "hotel.CheckOutGuest(alice);\n",
        "\n",
        "display(\"The GuestList after Alice has checked out:\");\n",
        "display(hotel.GuestList);\n",
        "\n",
        "hotel.CheckOutGuest(bob);\n",
        "\n",
        "display(\"The GuestList after Bob has checked out:\");\n",
        "display(hotel.GuestList);"
      ]
    },
    {
      "cell_type": "markdown",
      "metadata": {},
      "source": [
        "We can also add a `GuestIsCheckedIn` method to our class, to check if a guest exists within the current `GuestList`. For this we can use the `list.Contains` instance method:"
      ]
    },
    {
      "cell_type": "code",
      "execution_count": 1,
      "metadata": {
        "dotnet_interactive": {
          "language": "csharp"
        }
      },
      "outputs": [],
      "source": [
        "class Hotel {\n",
        "    public List<Guest> GuestList;\n",
        "\n",
        "    public Hotel() {\n",
        "        this.GuestList = new List<Guest>();\n",
        "    }\n",
        "\n",
        "    public bool GuestIsCheckedIn(Guest guest) {\n",
        "        return this.GuestList.Contains(guest);\n",
        "    }\n",
        "\n",
        "    public void CheckInGuest(Guest guest) {\n",
        "        // Modification: If the guest has already checked in,\n",
        "        // don't check them in twice\n",
        "        if (this.GuestIsCheckedIn(guest)) {\n",
        "            return;\n",
        "        }\n",
        "        this.GuestList.Add(guest);\n",
        "    }\n",
        "\n",
        "    public void CheckOutGuest(Guest guest) {\n",
        "        this.GuestList.Remove(guest);\n",
        "    }\n",
        "}"
      ]
    },
    {
      "cell_type": "markdown",
      "metadata": {},
      "source": [
        "Now we can programmatically see if Alice or Bob has checked into our hotel at any given point throughout the code:"
      ]
    },
    {
      "cell_type": "code",
      "execution_count": 1,
      "metadata": {
        "dotnet_interactive": {
          "language": "csharp"
        }
      },
      "outputs": [
        {
          "data": {
            "text/plain": "Is Alice staying at the hotel?"
          },
          "execution_count": 1,
          "metadata": {},
          "output_type": "execute_result"
        },
        {
          "data": {
            "text/html": "<div class=\"dni-plaintext\">True</div>"
          },
          "execution_count": 1,
          "metadata": {},
          "output_type": "execute_result"
        },
        {
          "data": {
            "text/plain": "Is Bob staying at the hotel?"
          },
          "execution_count": 1,
          "metadata": {},
          "output_type": "execute_result"
        },
        {
          "data": {
            "text/html": "<div class=\"dni-plaintext\">False</div>"
          },
          "execution_count": 1,
          "metadata": {},
          "output_type": "execute_result"
        }
      ],
      "source": [
        "var alice = new Guest(\"Alice\", \"Marice\");\n",
        "var bob = new Guest(\"Bob\", \"Linton\");\n",
        "\n",
        "var hotel = new Hotel();\n",
        "\n",
        "hotel.CheckInGuest(alice);\n",
        "hotel.CheckInGuest(bob);\n",
        "\n",
        "display(\"Is Alice staying at the hotel?\");\n",
        "display(hotel.GuestIsCheckedIn(alice));\n",
        "\n",
        "hotel.CheckOutGuest(bob);\n",
        "\n",
        "display(\"Is Bob staying at the hotel?\");\n",
        "display(hotel.GuestIsCheckedIn(bob));"
      ]
    },
    {
      "cell_type": "markdown",
      "metadata": {},
      "source": [
        "But now let's do something interesting. Let's create another variable called `alice2`, which is a new `Guest` with the same first and last name as `alice`:"
      ]
    },
    {
      "cell_type": "code",
      "execution_count": 1,
      "metadata": {
        "dotnet_interactive": {
          "language": "csharp"
        }
      },
      "outputs": [],
      "source": [
        "var alice = new Guest(\"Alice\", \"Marice\");\n",
        "var alice2 = new Guest(\"Alice\", \"Marice\");"
      ]
    },
    {
      "cell_type": "markdown",
      "metadata": {},
      "source": [
        "What happens if we check both `alice` and `alice2` into the hotel? Well, let's see:"
      ]
    },
    {
      "cell_type": "code",
      "execution_count": 1,
      "metadata": {
        "dotnet_interactive": {
          "language": "csharp"
        }
      },
      "outputs": [
        {
          "data": {
            "text/plain": "'alice' has checked in."
          },
          "execution_count": 1,
          "metadata": {},
          "output_type": "execute_result"
        },
        {
          "data": {
            "text/plain": "Is 'alice' staying at the hotel?"
          },
          "execution_count": 1,
          "metadata": {},
          "output_type": "execute_result"
        },
        {
          "data": {
            "text/html": "<div class=\"dni-plaintext\">True</div>"
          },
          "execution_count": 1,
          "metadata": {},
          "output_type": "execute_result"
        },
        {
          "data": {
            "text/plain": "Is 'alice2' staying at the hotel?"
          },
          "execution_count": 1,
          "metadata": {},
          "output_type": "execute_result"
        },
        {
          "data": {
            "text/html": "<div class=\"dni-plaintext\">False</div>"
          },
          "execution_count": 1,
          "metadata": {},
          "output_type": "execute_result"
        },
        {
          "data": {
            "text/plain": "'alice2' has checked in."
          },
          "execution_count": 1,
          "metadata": {},
          "output_type": "execute_result"
        },
        {
          "data": {
            "text/plain": "Is 'alice' staying at the hotel?"
          },
          "execution_count": 1,
          "metadata": {},
          "output_type": "execute_result"
        },
        {
          "data": {
            "text/html": "<div class=\"dni-plaintext\">True</div>"
          },
          "execution_count": 1,
          "metadata": {},
          "output_type": "execute_result"
        },
        {
          "data": {
            "text/plain": "Is 'alice2' staying at the hotel?"
          },
          "execution_count": 1,
          "metadata": {},
          "output_type": "execute_result"
        },
        {
          "data": {
            "text/html": "<div class=\"dni-plaintext\">True</div>"
          },
          "execution_count": 1,
          "metadata": {},
          "output_type": "execute_result"
        },
        {
          "data": {
            "text/plain": "'alice2' has checked out."
          },
          "execution_count": 1,
          "metadata": {},
          "output_type": "execute_result"
        },
        {
          "data": {
            "text/plain": "Is 'alice' staying at the hotel?"
          },
          "execution_count": 1,
          "metadata": {},
          "output_type": "execute_result"
        },
        {
          "data": {
            "text/html": "<div class=\"dni-plaintext\">True</div>"
          },
          "execution_count": 1,
          "metadata": {},
          "output_type": "execute_result"
        },
        {
          "data": {
            "text/plain": "Is 'alice2' staying at the hotel?"
          },
          "execution_count": 1,
          "metadata": {},
          "output_type": "execute_result"
        },
        {
          "data": {
            "text/html": "<div class=\"dni-plaintext\">False</div>"
          },
          "execution_count": 1,
          "metadata": {},
          "output_type": "execute_result"
        }
      ],
      "source": [
        "var alice = new Guest(\"Alice\", \"Marice\");\n",
        "var alice2 = new Guest(\"Alice\", \"Marice\");\n",
        "var hotel = new Hotel();\n",
        "\n",
        "hotel.CheckInGuest(alice);\n",
        "\n",
        "display(\"'alice' has checked in.\");\n",
        "\n",
        "display(\"Is 'alice' staying at the hotel?\");\n",
        "display(hotel.GuestIsCheckedIn(alice));\n",
        "\n",
        "display(\"Is 'alice2' staying at the hotel?\");\n",
        "display(hotel.GuestIsCheckedIn(alice2));\n",
        "\n",
        "hotel.CheckInGuest(alice2);\n",
        "\n",
        "display(\"'alice2' has checked in.\");\n",
        "\n",
        "display(\"Is 'alice' staying at the hotel?\");\n",
        "display(hotel.GuestIsCheckedIn(alice));\n",
        "\n",
        "display(\"Is 'alice2' staying at the hotel?\");\n",
        "display(hotel.GuestIsCheckedIn(alice2));\n",
        "\n",
        "hotel.CheckOutGuest(alice2);\n",
        "\n",
        "display(\"'alice2' has checked out.\");\n",
        "\n",
        "display(\"Is 'alice' staying at the hotel?\");\n",
        "display(hotel.GuestIsCheckedIn(alice));\n",
        "\n",
        "display(\"Is 'alice2' staying at the hotel?\");\n",
        "display(hotel.GuestIsCheckedIn(alice2));"
      ]
    },
    {
      "cell_type": "markdown",
      "metadata": {},
      "source": [
        "Notice that our code in its current state distinguishes `alice` from `alice2`, even though they have the same first and last names. This is because by default, objects are compared **by reference**. This means that when comparing two objects with the `==` operator, the resulting question that gets asked when a boolean is about to be returned is **\"are these two objects stored at the same location in memory?\"**.\n",
        "\n",
        "Since we have created two different instances of a `Guest`, even though they have the same first and last names, they will be stored at different locations in memory. This means that the comparison of `alice == alice2` will return false. Therefore, our hotel will return `false` when trying to see if `alice2` has checked in, when only `alice1` has. And vice versa."
      ]
    },
    {
      "cell_type": "markdown",
      "metadata": {},
      "source": [
        "But what if we *want* to return true for any guest whose full name is `\"Alice Marice\"` if one guest whose full name is `\"Alice Marice\"` has checked in?\n",
        "\n",
        "For this we will have to go through each of the individual items in the `GuestList` and check if any of the current guests which have been checked in have the same full name as the provided input parameter called `guest`.\n",
        "\n",
        "This brings us to loops:"
      ]
    },
    {
      "cell_type": "markdown",
      "metadata": {},
      "source": [
        "## Loops"
      ]
    },
    {
      "cell_type": "markdown",
      "metadata": {},
      "source": [
        "### For"
      ]
    },
    {
      "cell_type": "markdown",
      "metadata": {},
      "source": [
        "A for loop allows us to repeat a given block of code across a range of different values of a provided variable. The syntax for creating a for loop looks like this:"
      ]
    },
    {
      "cell_type": "code",
      "execution_count": 1,
      "metadata": {
        "dotnet_interactive": {
          "language": "csharp"
        }
      },
      "outputs": [
        {
          "data": {
            "text/html": "<div class=\"dni-plaintext\">1</div>"
          },
          "execution_count": 1,
          "metadata": {},
          "output_type": "execute_result"
        },
        {
          "data": {
            "text/html": "<div class=\"dni-plaintext\">2</div>"
          },
          "execution_count": 1,
          "metadata": {},
          "output_type": "execute_result"
        },
        {
          "data": {
            "text/html": "<div class=\"dni-plaintext\">3</div>"
          },
          "execution_count": 1,
          "metadata": {},
          "output_type": "execute_result"
        },
        {
          "data": {
            "text/html": "<div class=\"dni-plaintext\">4</div>"
          },
          "execution_count": 1,
          "metadata": {},
          "output_type": "execute_result"
        },
        {
          "data": {
            "text/html": "<div class=\"dni-plaintext\">5</div>"
          },
          "execution_count": 1,
          "metadata": {},
          "output_type": "execute_result"
        },
        {
          "data": {
            "text/html": "<div class=\"dni-plaintext\">6</div>"
          },
          "execution_count": 1,
          "metadata": {},
          "output_type": "execute_result"
        },
        {
          "data": {
            "text/html": "<div class=\"dni-plaintext\">7</div>"
          },
          "execution_count": 1,
          "metadata": {},
          "output_type": "execute_result"
        },
        {
          "data": {
            "text/html": "<div class=\"dni-plaintext\">8</div>"
          },
          "execution_count": 1,
          "metadata": {},
          "output_type": "execute_result"
        },
        {
          "data": {
            "text/html": "<div class=\"dni-plaintext\">9</div>"
          },
          "execution_count": 1,
          "metadata": {},
          "output_type": "execute_result"
        },
        {
          "data": {
            "text/html": "<div class=\"dni-plaintext\">10</div>"
          },
          "execution_count": 1,
          "metadata": {},
          "output_type": "execute_result"
        }
      ],
      "source": [
        "\n",
        "for (\n",
        "    // create a variable called 'i' and set its value to 1\n",
        "    var i = 1;\n",
        "\n",
        "    // execute the code within the curly braces\n",
        "    // for as long as i is less than or equal to 10\n",
        "    i <= 10;\n",
        "\n",
        "    // upon the completion of the code within the curly braces,\n",
        "    // increment the value of i by 1.\n",
        "    //     i.e. if i = 1, i will become 2.\n",
        "    //          if i = 2, i will become 3.\n",
        "    //          etc.\n",
        "    i = i + 1) {\n",
        "    display(i);\n",
        "}"
      ]
    },
    {
      "cell_type": "markdown",
      "metadata": {},
      "source": [
        "You'll almost always see this syntax written a lot more compactly, like this:"
      ]
    },
    {
      "cell_type": "code",
      "execution_count": 1,
      "metadata": {
        "dotnet_interactive": {
          "language": "csharp"
        }
      },
      "outputs": [
        {
          "data": {
            "text/html": "<div class=\"dni-plaintext\">1</div>"
          },
          "execution_count": 1,
          "metadata": {},
          "output_type": "execute_result"
        },
        {
          "data": {
            "text/html": "<div class=\"dni-plaintext\">2</div>"
          },
          "execution_count": 1,
          "metadata": {},
          "output_type": "execute_result"
        },
        {
          "data": {
            "text/html": "<div class=\"dni-plaintext\">3</div>"
          },
          "execution_count": 1,
          "metadata": {},
          "output_type": "execute_result"
        },
        {
          "data": {
            "text/html": "<div class=\"dni-plaintext\">4</div>"
          },
          "execution_count": 1,
          "metadata": {},
          "output_type": "execute_result"
        },
        {
          "data": {
            "text/html": "<div class=\"dni-plaintext\">5</div>"
          },
          "execution_count": 1,
          "metadata": {},
          "output_type": "execute_result"
        },
        {
          "data": {
            "text/html": "<div class=\"dni-plaintext\">6</div>"
          },
          "execution_count": 1,
          "metadata": {},
          "output_type": "execute_result"
        },
        {
          "data": {
            "text/html": "<div class=\"dni-plaintext\">7</div>"
          },
          "execution_count": 1,
          "metadata": {},
          "output_type": "execute_result"
        },
        {
          "data": {
            "text/html": "<div class=\"dni-plaintext\">8</div>"
          },
          "execution_count": 1,
          "metadata": {},
          "output_type": "execute_result"
        },
        {
          "data": {
            "text/html": "<div class=\"dni-plaintext\">9</div>"
          },
          "execution_count": 1,
          "metadata": {},
          "output_type": "execute_result"
        },
        {
          "data": {
            "text/html": "<div class=\"dni-plaintext\">10</div>"
          },
          "execution_count": 1,
          "metadata": {},
          "output_type": "execute_result"
        }
      ],
      "source": [
        "// This code does the same thing as the above example\n",
        "for (var i = 1; i <= 10; i = i + 1) {\n",
        "    display(i);\n",
        "}"
      ]
    },
    {
      "cell_type": "markdown",
      "metadata": {},
      "source": [
        "Even this is not as compact as the syntax can get, because we can use an operator we haven't talked about yet, called `+=` to shorten the `i = i + 1` statement. We can instead use `i += 1`, which will increment i by 1:"
      ]
    },
    {
      "cell_type": "code",
      "execution_count": 1,
      "metadata": {
        "dotnet_interactive": {
          "language": "csharp"
        }
      },
      "outputs": [
        {
          "data": {
            "text/html": "<div class=\"dni-plaintext\">1</div>"
          },
          "execution_count": 1,
          "metadata": {},
          "output_type": "execute_result"
        },
        {
          "data": {
            "text/html": "<div class=\"dni-plaintext\">2</div>"
          },
          "execution_count": 1,
          "metadata": {},
          "output_type": "execute_result"
        },
        {
          "data": {
            "text/html": "<div class=\"dni-plaintext\">3</div>"
          },
          "execution_count": 1,
          "metadata": {},
          "output_type": "execute_result"
        },
        {
          "data": {
            "text/html": "<div class=\"dni-plaintext\">4</div>"
          },
          "execution_count": 1,
          "metadata": {},
          "output_type": "execute_result"
        },
        {
          "data": {
            "text/html": "<div class=\"dni-plaintext\">5</div>"
          },
          "execution_count": 1,
          "metadata": {},
          "output_type": "execute_result"
        },
        {
          "data": {
            "text/html": "<div class=\"dni-plaintext\">6</div>"
          },
          "execution_count": 1,
          "metadata": {},
          "output_type": "execute_result"
        },
        {
          "data": {
            "text/html": "<div class=\"dni-plaintext\">7</div>"
          },
          "execution_count": 1,
          "metadata": {},
          "output_type": "execute_result"
        },
        {
          "data": {
            "text/html": "<div class=\"dni-plaintext\">8</div>"
          },
          "execution_count": 1,
          "metadata": {},
          "output_type": "execute_result"
        },
        {
          "data": {
            "text/html": "<div class=\"dni-plaintext\">9</div>"
          },
          "execution_count": 1,
          "metadata": {},
          "output_type": "execute_result"
        },
        {
          "data": {
            "text/html": "<div class=\"dni-plaintext\">10</div>"
          },
          "execution_count": 1,
          "metadata": {},
          "output_type": "execute_result"
        }
      ],
      "source": [
        "// This code does the same thing as the above example\n",
        "for (var i = 1; i <= 10; i += 1) {\n",
        "    display(i);\n",
        "}"
      ]
    },
    {
      "cell_type": "markdown",
      "metadata": {},
      "source": [
        "Even more compactly, we can use `i++` as shorthand for `i += 1`, which itself is shorthand for `i = i + 1`:"
      ]
    },
    {
      "cell_type": "code",
      "execution_count": 1,
      "metadata": {
        "dotnet_interactive": {
          "language": "csharp"
        }
      },
      "outputs": [
        {
          "data": {
            "text/html": "<div class=\"dni-plaintext\">1</div>"
          },
          "execution_count": 1,
          "metadata": {},
          "output_type": "execute_result"
        },
        {
          "data": {
            "text/html": "<div class=\"dni-plaintext\">2</div>"
          },
          "execution_count": 1,
          "metadata": {},
          "output_type": "execute_result"
        },
        {
          "data": {
            "text/html": "<div class=\"dni-plaintext\">3</div>"
          },
          "execution_count": 1,
          "metadata": {},
          "output_type": "execute_result"
        },
        {
          "data": {
            "text/html": "<div class=\"dni-plaintext\">4</div>"
          },
          "execution_count": 1,
          "metadata": {},
          "output_type": "execute_result"
        },
        {
          "data": {
            "text/html": "<div class=\"dni-plaintext\">5</div>"
          },
          "execution_count": 1,
          "metadata": {},
          "output_type": "execute_result"
        },
        {
          "data": {
            "text/html": "<div class=\"dni-plaintext\">6</div>"
          },
          "execution_count": 1,
          "metadata": {},
          "output_type": "execute_result"
        },
        {
          "data": {
            "text/html": "<div class=\"dni-plaintext\">7</div>"
          },
          "execution_count": 1,
          "metadata": {},
          "output_type": "execute_result"
        },
        {
          "data": {
            "text/html": "<div class=\"dni-plaintext\">8</div>"
          },
          "execution_count": 1,
          "metadata": {},
          "output_type": "execute_result"
        },
        {
          "data": {
            "text/html": "<div class=\"dni-plaintext\">9</div>"
          },
          "execution_count": 1,
          "metadata": {},
          "output_type": "execute_result"
        },
        {
          "data": {
            "text/html": "<div class=\"dni-plaintext\">10</div>"
          },
          "execution_count": 1,
          "metadata": {},
          "output_type": "execute_result"
        }
      ],
      "source": [
        "// This code does the same thing as the above example\n",
        "for (var i = 1; i <= 10; i++) {\n",
        "    display(i);\n",
        "}"
      ]
    },
    {
      "cell_type": "markdown",
      "metadata": {},
      "source": [
        "Here's an example of using a `for` loop to add 10 guests with unique names to the hotel:"
      ]
    },
    {
      "cell_type": "code",
      "execution_count": 1,
      "metadata": {
        "dotnet_interactive": {
          "language": "csharp"
        }
      },
      "outputs": [
        {
          "data": {
            "text/html": "<table><thead><tr><th><i>index</i></th><th>FirstName</th><th>LastName</th></tr></thead><tbody><tr><td>0</td><td><div class=\"dni-plaintext\">Guest</div></td><td><div class=\"dni-plaintext\">1</div></td></tr><tr><td>1</td><td><div class=\"dni-plaintext\">Guest</div></td><td><div class=\"dni-plaintext\">2</div></td></tr><tr><td>2</td><td><div class=\"dni-plaintext\">Guest</div></td><td><div class=\"dni-plaintext\">3</div></td></tr><tr><td>3</td><td><div class=\"dni-plaintext\">Guest</div></td><td><div class=\"dni-plaintext\">4</div></td></tr><tr><td>4</td><td><div class=\"dni-plaintext\">Guest</div></td><td><div class=\"dni-plaintext\">5</div></td></tr><tr><td>5</td><td><div class=\"dni-plaintext\">Guest</div></td><td><div class=\"dni-plaintext\">6</div></td></tr><tr><td>6</td><td><div class=\"dni-plaintext\">Guest</div></td><td><div class=\"dni-plaintext\">7</div></td></tr><tr><td>7</td><td><div class=\"dni-plaintext\">Guest</div></td><td><div class=\"dni-plaintext\">8</div></td></tr><tr><td>8</td><td><div class=\"dni-plaintext\">Guest</div></td><td><div class=\"dni-plaintext\">9</div></td></tr><tr><td>9</td><td><div class=\"dni-plaintext\">Guest</div></td><td><div class=\"dni-plaintext\">10</div></td></tr></tbody></table>"
          },
          "execution_count": 1,
          "metadata": {},
          "output_type": "execute_result"
        }
      ],
      "source": [
        "var hotel = new Hotel();\n",
        "\n",
        "for (var i = 1; i <= 10; i++) {\n",
        "    hotel.CheckInGuest(new Guest(\"Guest\", i.ToString()));\n",
        "}\n",
        "\n",
        "display(hotel.GuestList);"
      ]
    },
    {
      "cell_type": "markdown",
      "metadata": {},
      "source": [
        "### While"
      ]
    },
    {
      "cell_type": "markdown",
      "metadata": {},
      "source": [
        "A while loop provides a more generic way of creating a loop. It evaluates a block of code for as long as a given expression returns `true`:"
      ]
    },
    {
      "cell_type": "code",
      "execution_count": 1,
      "metadata": {
        "dotnet_interactive": {
          "language": "csharp"
        }
      },
      "outputs": [
        {
          "data": {
            "text/html": "<div class=\"dni-plaintext\">1</div>"
          },
          "execution_count": 1,
          "metadata": {},
          "output_type": "execute_result"
        },
        {
          "data": {
            "text/html": "<div class=\"dni-plaintext\">2</div>"
          },
          "execution_count": 1,
          "metadata": {},
          "output_type": "execute_result"
        },
        {
          "data": {
            "text/html": "<div class=\"dni-plaintext\">3</div>"
          },
          "execution_count": 1,
          "metadata": {},
          "output_type": "execute_result"
        },
        {
          "data": {
            "text/html": "<div class=\"dni-plaintext\">4</div>"
          },
          "execution_count": 1,
          "metadata": {},
          "output_type": "execute_result"
        },
        {
          "data": {
            "text/html": "<div class=\"dni-plaintext\">5</div>"
          },
          "execution_count": 1,
          "metadata": {},
          "output_type": "execute_result"
        },
        {
          "data": {
            "text/html": "<div class=\"dni-plaintext\">6</div>"
          },
          "execution_count": 1,
          "metadata": {},
          "output_type": "execute_result"
        },
        {
          "data": {
            "text/html": "<div class=\"dni-plaintext\">7</div>"
          },
          "execution_count": 1,
          "metadata": {},
          "output_type": "execute_result"
        },
        {
          "data": {
            "text/html": "<div class=\"dni-plaintext\">8</div>"
          },
          "execution_count": 1,
          "metadata": {},
          "output_type": "execute_result"
        },
        {
          "data": {
            "text/html": "<div class=\"dni-plaintext\">9</div>"
          },
          "execution_count": 1,
          "metadata": {},
          "output_type": "execute_result"
        },
        {
          "data": {
            "text/html": "<div class=\"dni-plaintext\">10</div>"
          },
          "execution_count": 1,
          "metadata": {},
          "output_type": "execute_result"
        }
      ],
      "source": [
        "// The while loop equivalent of the initial for loop example:\n",
        "// Initialize a variable called 'i' and set its value to 1\n",
        "var i = 1;\n",
        "\n",
        "// evaluate the code within the curly braces while the variable 'i' is less than or equal to 10\n",
        "while (i <= 10) {\n",
        "    display(i);\n",
        "    \n",
        "    // increment i by 1\n",
        "    i++;\n",
        "}"
      ]
    },
    {
      "cell_type": "markdown",
      "metadata": {},
      "source": [
        "### Foreach"
      ]
    },
    {
      "cell_type": "markdown",
      "metadata": {},
      "source": [
        "We can iterate through a list of items quickly using the `foreach` loop:"
      ]
    },
    {
      "cell_type": "code",
      "execution_count": 1,
      "metadata": {
        "dotnet_interactive": {
          "language": "csharp"
        }
      },
      "outputs": [
        {
          "data": {
            "text/html": "<div class=\"dni-plaintext\">1</div>"
          },
          "execution_count": 1,
          "metadata": {},
          "output_type": "execute_result"
        },
        {
          "data": {
            "text/html": "<div class=\"dni-plaintext\">2</div>"
          },
          "execution_count": 1,
          "metadata": {},
          "output_type": "execute_result"
        },
        {
          "data": {
            "text/html": "<div class=\"dni-plaintext\">3</div>"
          },
          "execution_count": 1,
          "metadata": {},
          "output_type": "execute_result"
        },
        {
          "data": {
            "text/html": "<div class=\"dni-plaintext\">4</div>"
          },
          "execution_count": 1,
          "metadata": {},
          "output_type": "execute_result"
        },
        {
          "data": {
            "text/html": "<div class=\"dni-plaintext\">5</div>"
          },
          "execution_count": 1,
          "metadata": {},
          "output_type": "execute_result"
        },
        {
          "data": {
            "text/html": "<div class=\"dni-plaintext\">6</div>"
          },
          "execution_count": 1,
          "metadata": {},
          "output_type": "execute_result"
        },
        {
          "data": {
            "text/html": "<div class=\"dni-plaintext\">7</div>"
          },
          "execution_count": 1,
          "metadata": {},
          "output_type": "execute_result"
        },
        {
          "data": {
            "text/html": "<div class=\"dni-plaintext\">8</div>"
          },
          "execution_count": 1,
          "metadata": {},
          "output_type": "execute_result"
        },
        {
          "data": {
            "text/html": "<div class=\"dni-plaintext\">9</div>"
          },
          "execution_count": 1,
          "metadata": {},
          "output_type": "execute_result"
        },
        {
          "data": {
            "text/html": "<div class=\"dni-plaintext\">10</div>"
          },
          "execution_count": 1,
          "metadata": {},
          "output_type": "execute_result"
        }
      ],
      "source": [
        "var numberList = new List<int>();\n",
        "numberList.Add(1);\n",
        "numberList.Add(2);\n",
        "numberList.Add(3);\n",
        "numberList.Add(4);\n",
        "numberList.Add(5);\n",
        "numberList.Add(6);\n",
        "numberList.Add(7);\n",
        "numberList.Add(8);\n",
        "numberList.Add(9);\n",
        "numberList.Add(10);\n",
        "\n",
        "// execute the code within the curly braces for each number\n",
        "// in the list of numbers, where the variable `number` will\n",
        "// contain the value of each number in the list each time\n",
        "// the code within the curly braces is executed:\n",
        "foreach (var number in numberList) {\n",
        "    display(number);\n",
        "}"
      ]
    },
    {
      "cell_type": "markdown",
      "metadata": {},
      "source": [
        "### Keywords Which Can Be Used In Loops"
      ]
    },
    {
      "cell_type": "markdown",
      "metadata": {},
      "source": [
        "It is possible to **immediately stop the execution of a loop** using the `break` keyword:"
      ]
    },
    {
      "cell_type": "code",
      "execution_count": 1,
      "metadata": {
        "dotnet_interactive": {
          "language": "csharp"
        }
      },
      "outputs": [
        {
          "data": {
            "text/html": "<div class=\"dni-plaintext\">1</div>"
          },
          "execution_count": 1,
          "metadata": {},
          "output_type": "execute_result"
        },
        {
          "data": {
            "text/html": "<div class=\"dni-plaintext\">2</div>"
          },
          "execution_count": 1,
          "metadata": {},
          "output_type": "execute_result"
        },
        {
          "data": {
            "text/html": "<div class=\"dni-plaintext\">3</div>"
          },
          "execution_count": 1,
          "metadata": {},
          "output_type": "execute_result"
        },
        {
          "data": {
            "text/html": "<div class=\"dni-plaintext\">4</div>"
          },
          "execution_count": 1,
          "metadata": {},
          "output_type": "execute_result"
        },
        {
          "data": {
            "text/html": "<div class=\"dni-plaintext\">5</div>"
          },
          "execution_count": 1,
          "metadata": {},
          "output_type": "execute_result"
        },
        {
          "data": {
            "text/html": "<div class=\"dni-plaintext\">6</div>"
          },
          "execution_count": 1,
          "metadata": {},
          "output_type": "execute_result"
        }
      ],
      "source": [
        "/**\n",
        "1 % 7 = 1\n",
        "2 % 7 = 2\n",
        "7 % 7 = 0\n",
        "8 % 7 = 1\n",
        "9 % 7 = 2\n",
        "...\n",
        "*/\n",
        "\n",
        "for (var i = 1; i <= 10; i++) {\n",
        "    // Stop running the loop as soon as i becomes a multiple of 7:\n",
        "    if (i % 7 == 0) {\n",
        "        break;\n",
        "    }\n",
        "\n",
        "    display(i);\n",
        "}\n",
        "\n",
        "// ..."
      ]
    },
    {
      "cell_type": "markdown",
      "metadata": {},
      "source": [
        "We can also **skip the current iteration of the loop** using the `continue` keyword:"
      ]
    },
    {
      "cell_type": "code",
      "execution_count": 1,
      "metadata": {
        "dotnet_interactive": {
          "language": "csharp"
        }
      },
      "outputs": [
        {
          "data": {
            "text/html": "<div class=\"dni-plaintext\">1</div>"
          },
          "execution_count": 1,
          "metadata": {},
          "output_type": "execute_result"
        },
        {
          "data": {
            "text/html": "<div class=\"dni-plaintext\">2</div>"
          },
          "execution_count": 1,
          "metadata": {},
          "output_type": "execute_result"
        },
        {
          "data": {
            "text/html": "<div class=\"dni-plaintext\">3</div>"
          },
          "execution_count": 1,
          "metadata": {},
          "output_type": "execute_result"
        },
        {
          "data": {
            "text/html": "<div class=\"dni-plaintext\">4</div>"
          },
          "execution_count": 1,
          "metadata": {},
          "output_type": "execute_result"
        },
        {
          "data": {
            "text/html": "<div class=\"dni-plaintext\">5</div>"
          },
          "execution_count": 1,
          "metadata": {},
          "output_type": "execute_result"
        },
        {
          "data": {
            "text/html": "<div class=\"dni-plaintext\">6</div>"
          },
          "execution_count": 1,
          "metadata": {},
          "output_type": "execute_result"
        },
        {
          "data": {
            "text/html": "<div class=\"dni-plaintext\">8</div>"
          },
          "execution_count": 1,
          "metadata": {},
          "output_type": "execute_result"
        },
        {
          "data": {
            "text/html": "<div class=\"dni-plaintext\">9</div>"
          },
          "execution_count": 1,
          "metadata": {},
          "output_type": "execute_result"
        },
        {
          "data": {
            "text/html": "<div class=\"dni-plaintext\">10</div>"
          },
          "execution_count": 1,
          "metadata": {},
          "output_type": "execute_result"
        },
        {
          "data": {
            "text/html": "<div class=\"dni-plaintext\">11</div>"
          },
          "execution_count": 1,
          "metadata": {},
          "output_type": "execute_result"
        },
        {
          "data": {
            "text/html": "<div class=\"dni-plaintext\">12</div>"
          },
          "execution_count": 1,
          "metadata": {},
          "output_type": "execute_result"
        },
        {
          "data": {
            "text/html": "<div class=\"dni-plaintext\">13</div>"
          },
          "execution_count": 1,
          "metadata": {},
          "output_type": "execute_result"
        },
        {
          "data": {
            "text/html": "<div class=\"dni-plaintext\">15</div>"
          },
          "execution_count": 1,
          "metadata": {},
          "output_type": "execute_result"
        },
        {
          "data": {
            "text/html": "<div class=\"dni-plaintext\">16</div>"
          },
          "execution_count": 1,
          "metadata": {},
          "output_type": "execute_result"
        },
        {
          "data": {
            "text/html": "<div class=\"dni-plaintext\">17</div>"
          },
          "execution_count": 1,
          "metadata": {},
          "output_type": "execute_result"
        },
        {
          "data": {
            "text/html": "<div class=\"dni-plaintext\">18</div>"
          },
          "execution_count": 1,
          "metadata": {},
          "output_type": "execute_result"
        },
        {
          "data": {
            "text/html": "<div class=\"dni-plaintext\">19</div>"
          },
          "execution_count": 1,
          "metadata": {},
          "output_type": "execute_result"
        },
        {
          "data": {
            "text/html": "<div class=\"dni-plaintext\">20</div>"
          },
          "execution_count": 1,
          "metadata": {},
          "output_type": "execute_result"
        }
      ],
      "source": [
        "for (var i = 1; i <= 20; i++) {\n",
        "    // If i is a multiple of 7, continue on to the next iteration of the loop:\n",
        "    if (i % 7 == 0) {\n",
        "        continue;\n",
        "    }\n",
        "\n",
        "    display(i);\n",
        "}"
      ]
    },
    {
      "cell_type": "markdown",
      "metadata": {},
      "source": [
        "## Lists Continued - Checking If A Guest Is Checked Into The Hotel By Full Name"
      ]
    },
    {
      "cell_type": "markdown",
      "metadata": {},
      "source": [
        "We can use what we've learned about loops to modify our `GuestIsCheckedIn` instance method so that it will return true if a guest with the same full name as the provided instance exists in the `GuestList`:"
      ]
    },
    {
      "cell_type": "code",
      "execution_count": 1,
      "metadata": {
        "dotnet_interactive": {
          "language": "csharp"
        }
      },
      "outputs": [],
      "source": [
        "class Hotel {\n",
        "    public List<Guest> GuestList;\n",
        "\n",
        "    public Hotel() {\n",
        "        this.GuestList = new List<Guest>();\n",
        "    }\n",
        "\n",
        "    public bool GuestIsCheckedIn(Guest guest) {\n",
        "        // Loop through each guest in the GuestList\n",
        "        foreach (var checkedInGuest in GuestList) {\n",
        "            if (checkedInGuest.GetFullName() == guest.GetFullName()) {\n",
        "                // return true as soon as we see a guest with the same full name\n",
        "                return true;\n",
        "            }\n",
        "        }\n",
        "\n",
        "        // The loop has completed and no checked in guests were found with the same\n",
        "        // full name as the provided guest, so return false\n",
        "        return false;\n",
        "    }\n",
        "\n",
        "    public void CheckInGuest(Guest guest) {\n",
        "        if (this.GuestIsCheckedIn(guest)) {\n",
        "            return;\n",
        "        }\n",
        "        this.GuestList.Add(guest);\n",
        "    }\n",
        "\n",
        "    public void CheckOutGuest(Guest guest) {\n",
        "        this.GuestList.Remove(guest);\n",
        "    }\n",
        "}"
      ]
    },
    {
      "cell_type": "markdown",
      "metadata": {},
      "source": [
        "Now we can see how this will change the output of our `alice` and `alice2` example:"
      ]
    },
    {
      "cell_type": "code",
      "execution_count": 1,
      "metadata": {
        "dotnet_interactive": {
          "language": "csharp"
        }
      },
      "outputs": [
        {
          "data": {
            "text/plain": "'alice' has checked in."
          },
          "execution_count": 1,
          "metadata": {},
          "output_type": "execute_result"
        },
        {
          "data": {
            "text/plain": "Is 'alice' staying at the hotel?"
          },
          "execution_count": 1,
          "metadata": {},
          "output_type": "execute_result"
        },
        {
          "data": {
            "text/html": "<div class=\"dni-plaintext\">True</div>"
          },
          "execution_count": 1,
          "metadata": {},
          "output_type": "execute_result"
        },
        {
          "data": {
            "text/plain": "Is 'alice2' staying at the hotel?"
          },
          "execution_count": 1,
          "metadata": {},
          "output_type": "execute_result"
        },
        {
          "data": {
            "text/html": "<div class=\"dni-plaintext\">True</div>"
          },
          "execution_count": 1,
          "metadata": {},
          "output_type": "execute_result"
        },
        {
          "data": {
            "text/plain": "'alice2' has checked in."
          },
          "execution_count": 1,
          "metadata": {},
          "output_type": "execute_result"
        },
        {
          "data": {
            "text/plain": "Is 'alice' staying at the hotel?"
          },
          "execution_count": 1,
          "metadata": {},
          "output_type": "execute_result"
        },
        {
          "data": {
            "text/html": "<div class=\"dni-plaintext\">True</div>"
          },
          "execution_count": 1,
          "metadata": {},
          "output_type": "execute_result"
        },
        {
          "data": {
            "text/plain": "Is 'alice2' staying at the hotel?"
          },
          "execution_count": 1,
          "metadata": {},
          "output_type": "execute_result"
        },
        {
          "data": {
            "text/html": "<div class=\"dni-plaintext\">True</div>"
          },
          "execution_count": 1,
          "metadata": {},
          "output_type": "execute_result"
        },
        {
          "data": {
            "text/plain": "'alice2' has checked out."
          },
          "execution_count": 1,
          "metadata": {},
          "output_type": "execute_result"
        },
        {
          "data": {
            "text/plain": "Is 'alice' staying at the hotel?"
          },
          "execution_count": 1,
          "metadata": {},
          "output_type": "execute_result"
        },
        {
          "data": {
            "text/html": "<div class=\"dni-plaintext\">True</div>"
          },
          "execution_count": 1,
          "metadata": {},
          "output_type": "execute_result"
        },
        {
          "data": {
            "text/plain": "Is 'alice2' staying at the hotel?"
          },
          "execution_count": 1,
          "metadata": {},
          "output_type": "execute_result"
        },
        {
          "data": {
            "text/html": "<div class=\"dni-plaintext\">True</div>"
          },
          "execution_count": 1,
          "metadata": {},
          "output_type": "execute_result"
        },
        {
          "data": {
            "text/plain": "'alice' has checked out."
          },
          "execution_count": 1,
          "metadata": {},
          "output_type": "execute_result"
        },
        {
          "data": {
            "text/plain": "Is 'alice' staying at the hotel?"
          },
          "execution_count": 1,
          "metadata": {},
          "output_type": "execute_result"
        },
        {
          "data": {
            "text/html": "<div class=\"dni-plaintext\">False</div>"
          },
          "execution_count": 1,
          "metadata": {},
          "output_type": "execute_result"
        },
        {
          "data": {
            "text/plain": "Is 'alice2' staying at the hotel?"
          },
          "execution_count": 1,
          "metadata": {},
          "output_type": "execute_result"
        },
        {
          "data": {
            "text/html": "<div class=\"dni-plaintext\">False</div>"
          },
          "execution_count": 1,
          "metadata": {},
          "output_type": "execute_result"
        }
      ],
      "source": [
        "var alice = new Guest(\"Alice\", \"Marice\");\n",
        "var alice2 = new Guest(\"Alice\", \"Marice\");\n",
        "var hotel = new Hotel();\n",
        "\n",
        "hotel.CheckInGuest(alice);\n",
        "\n",
        "display(\"'alice' has checked in.\");\n",
        "\n",
        "display(\"Is 'alice' staying at the hotel?\");\n",
        "display(hotel.GuestIsCheckedIn(alice));\n",
        "\n",
        "display(\"Is 'alice2' staying at the hotel?\");\n",
        "display(hotel.GuestIsCheckedIn(alice2));\n",
        "\n",
        "hotel.CheckInGuest(alice2);\n",
        "\n",
        "display(\"'alice2' has checked in.\");\n",
        "\n",
        "display(\"Is 'alice' staying at the hotel?\");\n",
        "display(hotel.GuestIsCheckedIn(alice));\n",
        "\n",
        "display(\"Is 'alice2' staying at the hotel?\");\n",
        "display(hotel.GuestIsCheckedIn(alice2));\n",
        "\n",
        "hotel.CheckOutGuest(alice2);\n",
        "\n",
        "display(\"'alice2' has checked out.\");\n",
        "\n",
        "display(\"Is 'alice' staying at the hotel?\");\n",
        "display(hotel.GuestIsCheckedIn(alice));\n",
        "\n",
        "display(\"Is 'alice2' staying at the hotel?\");\n",
        "display(hotel.GuestIsCheckedIn(alice2));\n",
        "\n",
        "hotel.CheckOutGuest(alice);\n",
        "\n",
        "display(\"'alice' has checked out.\");\n",
        "\n",
        "display(\"Is 'alice' staying at the hotel?\");\n",
        "display(hotel.GuestIsCheckedIn(alice));\n",
        "\n",
        "display(\"Is 'alice2' staying at the hotel?\");\n",
        "display(hotel.GuestIsCheckedIn(alice2));"
      ]
    },
    {
      "cell_type": "markdown",
      "metadata": {},
      "source": [
        "## Big O Notation - Introduction"
      ]
    },
    {
      "cell_type": "markdown",
      "metadata": {},
      "source": [
        "One shortcoming of a `List` is the fact that retrieving an item whose value is known requires looping through all of the items before it. This behavior is caused by the fundamental definition of a list, which is that retrieving a given value within it requires looking at every value that comes before. We can describe this behavior using a type of mathematical notation called **Big O notation**. This notation illustrates the largest amount of time it will take to execute a method given the number of values which are provided as input parameters.\n",
        "\n",
        "If we let a variable called `n` be the length of a given `List`, the amount of time it takes to find a specific value (for example, `\"Alice\"`) within the list is `O(n)`. This means that in the worst case, we have to look at every single value within the list to find `\"Alice\"`, because that value could be located at the very end of the list.\n",
        "\n",
        "If a certain expression takes a constant amount of time to run, we would say it takes `O(1)` time. This means that regardless of the number of values, the code always takes the same amount of time to run."
      ]
    },
    {
      "cell_type": "markdown",
      "metadata": {},
      "source": [
        "We can notice the shortcoming of the `List` implementation of our `GuestList` by observing the amount of time it takes to run some code that adds a lot of guests, and then checks to see if each guest is checked into the hotel:"
      ]
    },
    {
      "cell_type": "code",
      "execution_count": 1,
      "metadata": {
        "dotnet_interactive": {
          "language": "csharp"
        }
      },
      "outputs": [],
      "source": [
        "class Hotel {\n",
        "    public List<Guest> GuestList;\n",
        "\n",
        "    public Hotel() {\n",
        "        this.GuestList = new List<Guest>();\n",
        "    }\n",
        "\n",
        "    public bool GuestIsCheckedIn(Guest guest) {\n",
        "        foreach (var checkedInGuest in GuestList) {\n",
        "            if (checkedInGuest.GetFullName() == guest.GetFullName()) {\n",
        "                return true;\n",
        "            }\n",
        "        }\n",
        "\n",
        "        return false;\n",
        "    }\n",
        "\n",
        "    public void CheckInGuest(Guest guest) {\n",
        "        if (this.GuestIsCheckedIn(guest)) {\n",
        "            return;\n",
        "        }\n",
        "        this.GuestList.Add(guest);\n",
        "    }\n",
        "\n",
        "    public void CheckOutGuest(Guest guest) {\n",
        "        this.GuestList.Remove(guest);\n",
        "    }\n",
        "}\n",
        "\n",
        "var hotel = new Hotel();\n",
        "\n",
        "// Try increasing the number 100 to 1000, 10000, and 100000\n",
        "for (var i = 0; i < 100; i++) {\n",
        "    hotel.CheckInGuest(new Guest(\"Guest\", i.ToString()));\n",
        "}\n",
        "\n",
        "foreach (var guest in hotel.GuestList) {\n",
        "    hotel.GuestIsCheckedIn(guest);\n",
        "}"
      ]
    },
    {
      "cell_type": "markdown",
      "metadata": {},
      "source": [
        "## HashSets"
      ]
    },
    {
      "cell_type": "markdown",
      "metadata": {},
      "source": [
        "We can overcome the shortcoming of our `List` implementation of the hotel's `GuestList` by instead using a `HashSet`. Similarly to a `List`, a `HashSet` is a class used to store an arbitrary number of objects. However, a `HashSet` is designed to be able to very quickly determine whether or not a provided value exists within the stored list of objects."
      ]
    },
    {
      "cell_type": "code",
      "execution_count": 1,
      "metadata": {
        "dotnet_interactive": {
          "language": "csharp"
        }
      },
      "outputs": [
        {
          "data": {
            "text/plain": "Does the set contain value 2?"
          },
          "execution_count": 1,
          "metadata": {},
          "output_type": "execute_result"
        },
        {
          "data": {
            "text/html": "<div class=\"dni-plaintext\">True</div>"
          },
          "execution_count": 1,
          "metadata": {},
          "output_type": "execute_result"
        },
        {
          "data": {
            "text/plain": "Does the set contain value 4?"
          },
          "execution_count": 1,
          "metadata": {},
          "output_type": "execute_result"
        },
        {
          "data": {
            "text/html": "<div class=\"dni-plaintext\">False</div>"
          },
          "execution_count": 1,
          "metadata": {},
          "output_type": "execute_result"
        }
      ],
      "source": [
        "// Create a new set of integers\n",
        "var set = new HashSet<int>();\n",
        "\n",
        "// Add 1, 2, and 3 to the list of items\n",
        "set.Add(1);\n",
        "set.Add(2);\n",
        "set.Add(3);\n",
        "\n",
        "display(\"Does the set contain value 2?\");\n",
        "display(set.Contains(2));\n",
        "\n",
        "display(\"Does the set contain value 4?\");\n",
        "display(set.Contains(4));"
      ]
    },
    {
      "cell_type": "markdown",
      "metadata": {},
      "source": [
        "In Big O notation, we can say that the amount of time it takes to store an item and retrieve whether or not it exists is `O(1)`. A.k.a., regardless of the number of items stored within the set, it takes the same amount of time to both add a new item and see if a given item exists within the current set."
      ]
    },
    {
      "cell_type": "markdown",
      "metadata": {},
      "source": [
        "We can use a `Set` to update our hotel so that regardless of the number of guests which are checked in, it takes the same amount of time to see if a provided guest is checked in:"
      ]
    },
    {
      "cell_type": "code",
      "execution_count": 1,
      "metadata": {
        "dotnet_interactive": {
          "language": "csharp"
        }
      },
      "outputs": [],
      "source": [
        "class Hotel {\n",
        "    // Here we are changing the datatype of data within our GuestList\n",
        "    // to a 'string', because if we use 'Guest' we will encounter the\n",
        "    // same problem we had with 'alice' and 'alice2'.\n",
        "    public HashSet<string> GuestList;\n",
        "\n",
        "    public Hotel() {\n",
        "        // Initialize the GuestList as a new HashSet\n",
        "        this.GuestList = new HashSet<string>();\n",
        "    }\n",
        "\n",
        "    public bool GuestIsCheckedIn(Guest guest) {\n",
        "        return this.GuestList.Contains(guest.GetFullName());\n",
        "    }\n",
        "\n",
        "    public void CheckInGuest(Guest guest) {\n",
        "        if (this.GuestIsCheckedIn(guest)) {\n",
        "            return;\n",
        "        }\n",
        "        this.GuestList.Add(guest.GetFullName());\n",
        "    }\n",
        "\n",
        "    public void CheckOutGuest(Guest guest) {\n",
        "        this.GuestList.Remove(guest.GetFullName());\n",
        "    }\n",
        "}"
      ]
    },
    {
      "cell_type": "markdown",
      "metadata": {},
      "source": [
        "Now we can take advantage of our new implementation by observing how much time it now takes to see if each of our generated guests are checked in"
      ]
    },
    {
      "cell_type": "code",
      "execution_count": 1,
      "metadata": {
        "dotnet_interactive": {
          "language": "csharp"
        }
      },
      "outputs": [],
      "source": [
        "class Hotel {\n",
        "    // Here we are changing the datatype of data within our GuestList\n",
        "    // to a 'string', because if we use 'Guest' we will encounter the\n",
        "    // same problem we had with 'alice' and 'alice2'.\n",
        "    public HashSet<string> GuestList;\n",
        "\n",
        "    public Hotel() {\n",
        "        // Initialize the GuestList as a new HashSet\n",
        "        this.GuestList = new HashSet<string>();\n",
        "    }\n",
        "\n",
        "    public bool GuestIsCheckedIn(Guest guest) {\n",
        "        return this.GuestList.Contains(guest.GetFullName());\n",
        "    }\n",
        "\n",
        "    public void CheckInGuest(Guest guest) {\n",
        "        if (this.GuestIsCheckedIn(guest)) {\n",
        "            return;\n",
        "        }\n",
        "        this.GuestList.Add(guest.GetFullName());\n",
        "    }\n",
        "\n",
        "    public void CheckOutGuest(Guest guest) {\n",
        "        this.GuestList.Remove(guest.GetFullName());\n",
        "    }\n",
        "}\n",
        "\n",
        "var hotel = new Hotel();\n",
        "\n",
        "// A list used to keep track of our generated guests,\n",
        "// since hotel.GuestList now contains a list of strings\n",
        "var guests = new List<Guest>();\n",
        "\n",
        "// Try increasing the number 100 to 1000, 10000, and 100000\n",
        "for (var i = 0; i < 100; i++) {\n",
        "    var guest = new Guest(\"Guest\", i.ToString());\n",
        "    guests.Add(guest);\n",
        "    hotel.CheckInGuest(guest);\n",
        "}\n",
        "\n",
        "foreach (var guest in guests) {\n",
        "    hotel.GuestIsCheckedIn(guest);\n",
        "}"
      ]
    },
    {
      "cell_type": "markdown",
      "metadata": {},
      "source": [
        "Not only are `HashSet` and `List` classes, they are also known as **data structures**. A **data structure** refers to the combination of data organization, access, and management.\n",
        "\n",
        "There's quite a few other important data structures which are used to manage different types of data. We will cover those in subsequent lessons."
      ]
    },
    {
      "cell_type": "markdown",
      "metadata": {},
      "source": [
        "## Examples"
      ]
    },
    {
      "cell_type": "code",
      "execution_count": 1,
      "metadata": {
        "dotnet_interactive": {
          "language": "csharp"
        }
      },
      "outputs": [
        {
          "data": {
            "text/html": "<table><thead><tr><th><i>index</i></th><th>value</th></tr></thead><tbody><tr><td>0</td><td><div class=\"dni-plaintext\">9</div></td></tr><tr><td>1</td><td><div class=\"dni-plaintext\">4</div></td></tr><tr><td>2</td><td><div class=\"dni-plaintext\">1</div></td></tr><tr><td>3</td><td><div class=\"dni-plaintext\">0</div></td></tr><tr><td>4</td><td><div class=\"dni-plaintext\">1</div></td></tr><tr><td>5</td><td><div class=\"dni-plaintext\">4</div></td></tr><tr><td>6</td><td><div class=\"dni-plaintext\">9</div></td></tr></tbody></table>"
          },
          "execution_count": 1,
          "metadata": {},
          "output_type": "execute_result"
        }
      ],
      "source": [
        "// Implement a method called squareList which takes in a list of integers and updates each member\n",
        "// of the list with its square (a square of a number n simply refers to n multiplied by itself)\n",
        "// \n",
        "// You will need the instance variable list.Count and the instance methods list.RemoveAt()\n",
        "// and list.Insert()\n",
        "\n",
        "var list = new List<int>();\n",
        "list.Add(-3);\n",
        "list.Add(-2);\n",
        "list.Add(-1);\n",
        "list.Add(0);\n",
        "list.Add(1);\n",
        "list.Add(2);\n",
        "list.Add(3);\n",
        "\n",
        "void squareList(List<int> list) {\n",
        "    for (var i = 0; i < list.Count; i++) {\n",
        "        var number = list[i];\n",
        "        var square = number * number;\n",
        "        list.RemoveAt(i);\n",
        "        list.Insert(i, square);\n",
        "    }\n",
        "}\n",
        "\n",
        "squareList(list);\n",
        "display(list);"
      ]
    },
    {
      "cell_type": "code",
      "execution_count": 1,
      "metadata": {
        "dotnet_interactive": {
          "language": "csharp"
        }
      },
      "outputs": [
        {
          "data": {
            "text/html": "<div class=\"dni-plaintext\">True</div>"
          },
          "execution_count": 1,
          "metadata": {},
          "output_type": "execute_result"
        },
        {
          "data": {
            "text/html": "<div class=\"dni-plaintext\">False</div>"
          },
          "execution_count": 1,
          "metadata": {},
          "output_type": "execute_result"
        }
      ],
      "source": [
        "// Update the hotel class so that GuestIsCheckedIn(Guest guest) returns whether or not a guest with\n",
        "// the same last name is checked in\n",
        "// \n",
        "// You do not have to worry about duplicate last names (that will be a later exercise!)\n",
        "\n",
        "class Hotel {\n",
        "    public HashSet<string> GuestList;\n",
        "\n",
        "    public Hotel() {\n",
        "        this.GuestList = new HashSet<string>();\n",
        "    }\n",
        "\n",
        "    public bool GuestIsCheckedIn(Guest guest) {\n",
        "        return this.GuestList.Contains(guest.GetFullName());\n",
        "    }\n",
        "\n",
        "    public void CheckInGuest(Guest guest) {\n",
        "        if (this.GuestIsCheckedIn(guest)) {\n",
        "            return;\n",
        "        }\n",
        "        this.GuestList.Add(guest.GetFullName());\n",
        "    }\n",
        "\n",
        "    public void CheckOutGuest(Guest guest) {\n",
        "        this.GuestList.Remove(guest.GetFullName());\n",
        "    }\n",
        "}\n",
        "\n",
        "var alice = new Guest(\"Alice\", \"Marice\");\n",
        "var bob = new Guest(\"Bob\", \"Marice\");\n",
        "\n",
        "hotel.CheckInGuest(alice);\n",
        "\n",
        "display(hotel.GuestIsCheckedIn(alice));\n",
        "display(hotel.GuestIsCheckedIn(bob));"
      ]
    }
  ],
  "metadata": {
    "kernelspec": {
      "display_name": ".NET (C#)",
      "language": "C#",
      "name": ".net-csharp"
    },
    "language_info": {
      "name": "C#",
      "version": ""
    }
  },
  "nbformat": 4,
  "nbformat_minor": 4
}