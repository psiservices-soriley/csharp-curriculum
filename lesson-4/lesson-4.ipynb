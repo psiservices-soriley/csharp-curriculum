{
 "cells": [
  {
   "cell_type": "markdown",
   "metadata": {},
   "source": [
    "# C# Programming! Lesson 4\r\n",
    "\r\n",
    "A C# course by Steven O'Riley\r\n",
    "\r\n",
    "> Just a small warning: This lesson is significantly more advanced than previous lessons but is geared towards preparation for more realistic problems you might come across in the real world. For the purposes of QA C# training, all topics following the **Introduction to Sorting** section can be skipped."
   ]
  },
  {
   "cell_type": "markdown",
   "metadata": {},
   "source": [
    "## Arrays"
   ]
  },
  {
   "cell_type": "markdown",
   "metadata": {},
   "source": [
    "In the previous lesson we talked about Lists and HashSets, which are both used to keep track of multiple objects at once. Both of these data structures have their tradeoffs in terms of the amount of time it takes to perform different operations.\r\n",
    "\r\n",
    "In analyzing what these data structures can allow us to do, we can see that there are still some situations in which neither of them appear to be ideal. One example in which this is the case is when we want to change the ordering of a group of objects. Notice that in this situation we cannot use a HashSet, because HashSets are unable to keep track of the order of the objects within them. But if we were to use a List, rearranging an object first requires finding where it is located, which can potentially require looking at every item within the list."
   ]
  },
  {
   "cell_type": "markdown",
   "metadata": {},
   "source": [
    "This use case sets the stage for `Arrays`, which is a data structure that contains a fixed number of objects (a.k.a. new objects cannot be added, and existing objects cannot be removed), but which in turn allows any existing object to be retrieved and updated using its location in constant time (in Big O Notation, `O(1)`). a.k.a., the time it takes to retrieve and update an object is independent of the number of objects contained within the Array."
   ]
  },
  {
   "cell_type": "markdown",
   "metadata": {},
   "source": [
    "Here's a bit of the syntax for creating and interacting with arrays:"
   ]
  },
  {
   "cell_type": "code",
   "execution_count": null,
   "metadata": {
    "dotnet_interactive": {
     "language": "csharp"
    }
   },
   "outputs": [
    {
     "data": {
      "text/plain": "Alice"
     },
     "output_type": "unknown"
    },
    {
     "data": {
      "text/plain": "Bob"
     },
     "output_type": "unknown"
    }
   ],
   "source": [
    "string[] names = new string[] { \"Alice\", \"Bob\", \"Charlette\", \"Dillon\" };\r\n",
    "\r\n",
    "// Existing elements can be referenced by their index in the array,\r\n",
    "// starting from 0\r\n",
    "display(names[0]);\r\n",
    "display(names[1]);"
   ]
  },
  {
   "cell_type": "code",
   "execution_count": null,
   "metadata": {
    "dotnet_interactive": {
     "language": "csharp"
    }
   },
   "outputs": [
    {
     "data": {
      "text/plain": "Eric"
     },
     "output_type": "unknown"
    },
    {
     "data": {
      "text/plain": "Bob"
     },
     "output_type": "unknown"
    }
   ],
   "source": [
    "string[] names = new string[] { \"Alice\", \"Bob\", \"Charlette\", \"Dillon\" };\r\n",
    "\r\n",
    "// Updating existing elements can be achieved using syntax similar\r\n",
    "// to updating the value stored within a variable:\r\n",
    "names[0] = \"Eric\";\r\n",
    "\r\n",
    "display(names[0]);\r\n",
    "display(names[1]);"
   ]
  },
  {
   "cell_type": "code",
   "execution_count": null,
   "metadata": {
    "dotnet_interactive": {
     "language": "csharp"
    }
   },
   "outputs": [],
   "source": [
    "// Arrays can also be created without explicitly providing the elements within it\r\n",
    "// this method of creating arrays typically assumes you will assign a value to each element later\r\n",
    "\r\n",
    "// Creates an array containing 3 empty values\r\n",
    "var names = new string[3];"
   ]
  },
  {
   "cell_type": "markdown",
   "metadata": {},
   "source": [
    "We can combine our knowledge of loops with the `array.Length` instance variable (which returns the length of the array) to print out every object within the array:"
   ]
  },
  {
   "cell_type": "code",
   "execution_count": null,
   "metadata": {
    "dotnet_interactive": {
     "language": "csharp"
    }
   },
   "outputs": [
    {
     "data": {
      "text/plain": "Alice"
     },
     "output_type": "unknown"
    },
    {
     "data": {
      "text/plain": "Bob"
     },
     "output_type": "unknown"
    },
    {
     "data": {
      "text/plain": "Charlette"
     },
     "output_type": "unknown"
    },
    {
     "data": {
      "text/plain": "Dillon"
     },
     "output_type": "unknown"
    }
   ],
   "source": [
    "string[] names = new string[] { \"Alice\", \"Bob\", \"Charlette\", \"Dillon\" };\r\n",
    "\r\n",
    "for (int i = 0; i < names.Length; i++) {\r\n",
    "    // print out the ith string in the array\r\n",
    "    display(names[i]);\r\n",
    "}"
   ]
  },
  {
   "cell_type": "markdown",
   "metadata": {},
   "source": [
    "Or we could just use a foreach loop as well:"
   ]
  },
  {
   "cell_type": "code",
   "execution_count": null,
   "metadata": {
    "dotnet_interactive": {
     "language": "csharp"
    }
   },
   "outputs": [
    {
     "data": {
      "text/plain": "Alice"
     },
     "output_type": "unknown"
    },
    {
     "data": {
      "text/plain": "Bob"
     },
     "output_type": "unknown"
    },
    {
     "data": {
      "text/plain": "Charlette"
     },
     "output_type": "unknown"
    },
    {
     "data": {
      "text/plain": "Dillon"
     },
     "output_type": "unknown"
    }
   ],
   "source": [
    "string[] names = new string[] { \"Alice\", \"Bob\", \"Charlette\", \"Dillon\" };\r\n",
    "\r\n",
    "foreach (var name in names) {\r\n",
    "    display(name);\r\n",
    "}"
   ]
  },
  {
   "cell_type": "markdown",
   "metadata": {},
   "source": [
    "### Brief Exercise"
   ]
  },
  {
   "cell_type": "code",
   "execution_count": null,
   "metadata": {
    "dotnet_interactive": {
     "language": "csharp"
    }
   },
   "outputs": [
    {
     "data": {
      "text/plain": "Bob"
     },
     "output_type": "unknown"
    },
    {
     "data": {
      "text/plain": "Alice"
     },
     "output_type": "unknown"
    },
    {
     "data": {
      "text/plain": "Charlette"
     },
     "output_type": "unknown"
    },
    {
     "data": {
      "text/plain": "Dillon"
     },
     "output_type": "unknown"
    }
   ],
   "source": [
    "// Implement the 'swap' method, which will swap two elements in an array given their indices\r\n",
    "public void swap(string[] array, int i, int j) {\r\n",
    "    var temp = array[i];\r\n",
    "    array[i] = array[j];\r\n",
    "    array[j] = temp;\r\n",
    "}\r\n",
    "\r\n",
    "string[] names = new string[] { \"Alice\", \"Bob\", \"Charlette\", \"Dillon\" };\r\n",
    "\r\n",
    "swap(names, 0, 1);\r\n",
    "\r\n",
    "foreach (var name in names) {\r\n",
    "    display(name);\r\n",
    "}"
   ]
  },
  {
   "cell_type": "markdown",
   "metadata": {},
   "source": [
    "## Introduction to Sorting"
   ]
  },
  {
   "cell_type": "markdown",
   "metadata": {},
   "source": [
    "The primary problem we're going to dive into for this lesson using our newfounded knowledge of arrays is that of sorting.\r\n",
    "\r\n",
    "Sorting a group of items is a very common problem that shows up in the real world and will introduce us to more advanced problem solving techniques which can be applied to more complex problems than the ones we have seen across previous lessons."
   ]
  },
  {
   "cell_type": "markdown",
   "metadata": {},
   "source": [
    "Say we are given an array of numbers and are tasked with implementing a method called `sort`, which will sort the numbers within the array from least to greatest:"
   ]
  },
  {
   "cell_type": "code",
   "execution_count": null,
   "metadata": {
    "dotnet_interactive": {
     "language": "csharp"
    }
   },
   "outputs": [],
   "source": [
    "void sort(int[] numbers) {\r\n",
    "    // some sort of code magic\r\n",
    "}"
   ]
  },
  {
   "cell_type": "markdown",
   "metadata": {},
   "source": [
    "How do we approach this problem?\r\n",
    "\r\n",
    "This is where we can plug in some of the knowledge we obtained from lesson 1, and ask ourselves what we would do to sort a list of items in the real world. Say we are given a stack of cards which each have a number written on them, and are tasked with the goal of sorting them from least to greatest. Picturing this scenario might give you a bit more insight into how to approach the problem."
   ]
  },
  {
   "cell_type": "markdown",
   "metadata": {},
   "source": [
    "![Number Cards](https://user-images.githubusercontent.com/54543848/116589994-3da5f780-a8eb-11eb-9886-4c9e60e5d66b.png)"
   ]
  },
  {
   "cell_type": "markdown",
   "metadata": {},
   "source": [
    "Since there are many solutions which might come to mind, I'd like to specifically highlight one which very easily translates into a program.\r\n",
    "\r\n",
    "A simple approach is simply asking, **\"what card should go on the far left?\"**. In other words, \"which number is the smallest?\""
   ]
  },
  {
   "cell_type": "markdown",
   "metadata": {},
   "source": [
    "![Number Cards](https://user-images.githubusercontent.com/54543848/116590078-59a99900-a8eb-11eb-82f0-d906f1a4127f.png)"
   ]
  },
  {
   "cell_type": "markdown",
   "metadata": {},
   "source": [
    "Hopefully it's clear that the answer to this question is **1**. We can conclude this by looking through all the cards, and determining that **1** is the smallest number."
   ]
  },
  {
   "cell_type": "markdown",
   "metadata": {},
   "source": [
    "![Number Cards](images/sorting-numbers-3.png)"
   ]
  },
  {
   "cell_type": "markdown",
   "metadata": {},
   "source": [
    "Then we can repeat this process for the remaining numbers, forgetting about the numbers we have already sorted:"
   ]
  },
  {
   "cell_type": "markdown",
   "metadata": {},
   "source": [
    "![Number Cards](https://user-images.githubusercontent.com/54543848/116590153-6cbc6900-a8eb-11eb-9338-e5f9dd07963f.png)"
   ]
  },
  {
   "cell_type": "markdown",
   "metadata": {},
   "source": [
    "![Number Cards](https://user-images.githubusercontent.com/54543848/116590217-7d6cdf00-a8eb-11eb-841b-24ab8afb936a.png)"
   ]
  },
  {
   "cell_type": "markdown",
   "metadata": {},
   "source": [
    "and continuing on up until the end..."
   ]
  },
  {
   "cell_type": "markdown",
   "metadata": {},
   "source": [
    "![Number Cards](https://user-images.githubusercontent.com/54543848/116590254-85c51a00-a8eb-11eb-8b6b-ca7cf55f2be6.png)"
   ]
  },
  {
   "cell_type": "markdown",
   "metadata": {},
   "source": [
    "We can describe this algorithm as follows: **\"For each index in the list of cards, find the smallest element among all elements which have not yet been sorted. Then swap that element with the element at the current index.\"**"
   ]
  },
  {
   "cell_type": "markdown",
   "metadata": {},
   "source": [
    "### Sorting Exercise"
   ]
  },
  {
   "cell_type": "code",
   "execution_count": null,
   "metadata": {
    "dotnet_interactive": {
     "language": "csharp"
    }
   },
   "outputs": [
    {
     "data": {
      "text/html": "<table><thead><tr><th><i>index</i></th><th>value</th></tr></thead><tbody><tr><td>0</td><td><div class=\"dni-plaintext\">1</div></td></tr><tr><td>1</td><td><div class=\"dni-plaintext\">2</div></td></tr><tr><td>2</td><td><div class=\"dni-plaintext\">3</div></td></tr><tr><td>3</td><td><div class=\"dni-plaintext\">4</div></td></tr><tr><td>4</td><td><div class=\"dni-plaintext\">5</div></td></tr></tbody></table>"
     },
     "output_type": "unknown"
    }
   ],
   "source": [
    "// Implement the algorithm we just talked about\r\n",
    "public void swap(int[] array, int i, int j) {\r\n",
    "    var temp = array[i];\r\n",
    "    array[i] = array[j];\r\n",
    "    array[j] = temp;\r\n",
    "}\r\n",
    "\r\n",
    "void sort(int[] numbers) {\r\n",
    "    for (var i = 0; i < numbers.Length; i++) {\r\n",
    "        var minIndex = i;\r\n",
    "        for (var j = i; j < numbers.Length; j++) {\r\n",
    "            if (numbers[j] < numbers[minIndex]) {\r\n",
    "                minIndex = j;\r\n",
    "            }\r\n",
    "        }\r\n",
    "        swap(numbers, i, minIndex);\r\n",
    "    }\r\n",
    "}\r\n",
    "\r\n",
    "int[] numbers = new int[] { 2, 1, 3, 5, 4 };\r\n",
    "sort(numbers);\r\n",
    "display(numbers);"
   ]
  },
  {
   "cell_type": "markdown",
   "metadata": {},
   "source": [
    "There is a name for this sorting algorithm, and it is called **Selection Sort**."
   ]
  },
  {
   "cell_type": "markdown",
   "metadata": {},
   "source": [
    "But how efficient is this code? Well, if there are `n` iterations of the outermost loop, where `n` is the length of the array of numbers, then the number of operations performed in the innermost loop will be `n`, then `n - 1`, then `n - 2`, etc. This is because each iteration of the innermost loop finds the smallest number from a pile of unsorted numbers of decreasing size.\r\n",
    "\r\n",
    "This sum can be written out as\r\n",
    "\r\n",
    "`n + (n - 1) + (n - 2) + [...] + 2 + 1`\r\n",
    "\r\n",
    "There's a mathematical equivalence which essentially states that the above sum is equivalent to the following formula:\r\n",
    "\r\n",
    "`n * (n + 1) / 2`\r\n",
    "\r\n",
    "Which is equal to\r\n",
    "\r\n",
    "`n^2 + [something less than or equal to k * n^2, where k is a positive real number]`\r\n",
    "\r\n",
    "Meaning that in terms of Big O Notation, this algorithm takes `O(n^2)` time."
   ]
  },
  {
   "cell_type": "markdown",
   "metadata": {},
   "source": [
    "It turns out that sorting algorithms which have a runtime of `O(n^2)` are very slow, but in order to do better we first need to cover a new concept called **recursion**."
   ]
  },
  {
   "cell_type": "markdown",
   "metadata": {},
   "source": [
    "## Recursion"
   ]
  },
  {
   "cell_type": "markdown",
   "metadata": {},
   "source": [
    "Recursion is a tool that can be used to solve problems which have the property that the existence of a solution to a smaller version of the problem can be used to solve the problem itself.\r\n",
    "\r\n",
    "To clarify what this means, I'd like to first introduce you to a way of thinking about algorithms in general. There is a way you can describe any algorithm that could exist perfectly without using any of the details involved in actually implementing it. The way you can do this is by listing out a connection between every set of input parameters which can be provided to the algorithm, and every corresponding output that will result from running the algorithm."
   ]
  },
  {
   "cell_type": "markdown",
   "metadata": {},
   "source": [
    "For example, say we did this for some algorithm called `sum(uint n)`, which takes in a positive integer, and returns the sum of all numbers up to the provided integer. We would end up with a table that looks like the following:\r\n",
    "\r\n",
    "| n | sum(n) |\r\n",
    "| --- | --- |\r\n",
    "| 0 | 0 |\r\n",
    "| 1 | 1 |\r\n",
    "| 2 | 3 |\r\n",
    "| 3 | 6 |\r\n",
    "| 4 | 10 |\r\n",
    "| 5 | 15 |\r\n",
    "| 6 | 21 |\r\n",
    "| ... | ... |"
   ]
  },
  {
   "cell_type": "markdown",
   "metadata": {},
   "source": [
    "Now, if we can come up with an algorithm that is able to perfectly recreate this table, then we will have the equivalent of a solution to the `sum(uint n)` method.\r\n",
    "\r\n",
    "However, there's something we can notice about this table which can lead us to figure out the mysterious magic of this algorithm's guts, and it comes with the following observations:\r\n",
    "\r\n",
    "```\r\n",
    "sum(0) = 0\r\n",
    "sum(1) = 1 + sum(0)\r\n",
    "sum(2) = 2 + sum(1)\r\n",
    "sum(3) = 3 + sum(2)\r\n",
    "...\r\n",
    "```"
   ]
  },
  {
   "cell_type": "markdown",
   "metadata": {},
   "source": [
    "In general, we can write:\r\n",
    "\r\n",
    "```\r\n",
    "sum(0) = 0\r\n",
    "sum(n) = n + sum(n - 1)\r\n",
    "```"
   ]
  },
  {
   "cell_type": "markdown",
   "metadata": {},
   "source": [
    "These two rules describe a way of perfectly generating the table where we tied every input to every output, and therefore perfectly describes our `sum` method."
   ]
  },
  {
   "cell_type": "markdown",
   "metadata": {},
   "source": [
    "As it turns out, methods are able to call themselves in the C# programming language. This allows us to implement our `sum` method using the exact rules we have just written out:"
   ]
  },
  {
   "cell_type": "code",
   "execution_count": null,
   "metadata": {
    "dotnet_interactive": {
     "language": "csharp"
    }
   },
   "outputs": [
    {
     "data": {
      "text/html": "<table><thead><tr><th><i>index</i></th><th>value</th></tr></thead><tbody><tr><td>0</td><td><div class=\"dni-plaintext\">0</div></td></tr><tr><td>1</td><td><div class=\"dni-plaintext\">1</div></td></tr><tr><td>2</td><td><div class=\"dni-plaintext\">3</div></td></tr><tr><td>3</td><td><div class=\"dni-plaintext\">6</div></td></tr><tr><td>4</td><td><div class=\"dni-plaintext\">10</div></td></tr><tr><td>5</td><td><div class=\"dni-plaintext\">15</div></td></tr><tr><td>6</td><td><div class=\"dni-plaintext\">21</div></td></tr></tbody></table>"
     },
     "output_type": "unknown"
    }
   ],
   "source": [
    "uint sum(uint n) {\r\n",
    "    if (n == 0) {\r\n",
    "        return 0;\r\n",
    "    }\r\n",
    "    return n + sum(n - 1);\r\n",
    "}\r\n",
    "\r\n",
    "var solutions = new List<uint>();\r\n",
    "for (uint i = 0; i < 7; i++) {\r\n",
    "    solutions.Add(sum(i));\r\n",
    "}\r\n",
    "\r\n",
    "display(solutions);"
   ]
  },
  {
   "cell_type": "markdown",
   "metadata": {},
   "source": [
    "What exactly is happening here? Well, let's walk through the chain of calls for `sum(6)`:\r\n",
    "\r\n",
    "We call `sum(6)`, which computes `6 + sum(5)`. This requires `sum(5)` to first be computed.\r\n",
    "\r\n",
    "`sum(5)` is computed as `5 + sum(4)`. This requires `sum(4)` to first be computed.\r\n",
    "\r\n",
    "`sum(4)` is computed as `4 + sum(3)`. This requires `sum(3)` to first be computed.\r\n",
    "\r\n",
    "`sum(3)` is computed as `3 + sum(2)`. This requires `sum(2)` to first be computed.\r\n",
    "\r\n",
    "`sum(2)` is computed as `2 + sum(1)`. This requires `sum(1)` to first be computed.\r\n",
    "\r\n",
    "`sum(1)` is computed as `1 + sum(0)`. This requires `sum(0)` to first be computed.\r\n",
    "\r\n",
    "`sum(0)` is computed as `0` (since we are explicitly checking to see if `n == 0`, and just returning `0` if so).\r\n",
    "\r\n",
    "`sum(1)` is then computed as `1 + 0`, which is `1`.\r\n",
    "\r\n",
    "`sum(2)` is then computed as `2 + 1`, which is `3`.\r\n",
    "\r\n",
    "`sum(3)` is then computed as `3 + 3`, which is `6`.\r\n",
    "\r\n",
    "`sum(4)` is then computed as `4 + 6`, which is `10`.\r\n",
    "\r\n",
    "`sum(5)` is then computed as `5 + 10`, which is `15`.\r\n",
    "\r\n",
    "`sum(6)` is then computed as `6 + 15`, which is `21`."
   ]
  },
  {
   "cell_type": "markdown",
   "metadata": {},
   "source": [
    "The technique of calling a method within itself is called **recursion**. This tool must be used carefully because it can easily trigger an infinite loop. In the above case, if we didn't provide an explicit solution when `n` is `0`, our code would run forever (and eventually fail due to too many subcalls being made)."
   ]
  },
  {
   "cell_type": "markdown",
   "metadata": {},
   "source": [
    "## Back to Sorting"
   ]
  },
  {
   "cell_type": "markdown",
   "metadata": {},
   "source": [
    "We can use some of the tools involved in our knowledge of **recursion** to solve our sorting problem.\r\n",
    "\r\n",
    "A great way to come up with a recursive solution to a problem is ask, **\"if I was able to solve a smaller version of the problem, how could I use that solution to solve a larger version?\"**"
   ]
  },
  {
   "cell_type": "markdown",
   "metadata": {},
   "source": [
    "Imagine we have a magic sort function, which sorts an array with `n` elements. How can we use this method to sort an array with more than `n` elements?"
   ]
  },
  {
   "cell_type": "markdown",
   "metadata": {},
   "source": [
    "One approach we can take is break the larger array into two parts, call our magic sort function on both parts, and then come up with a way to merge the sorted subarrays."
   ]
  },
  {
   "cell_type": "markdown",
   "metadata": {},
   "source": [
    "![Number Cards](https://user-images.githubusercontent.com/54543848/116590284-91184580-a8eb-11eb-930f-8c766342c52b.png)"
   ]
  },
  {
   "cell_type": "markdown",
   "metadata": {},
   "source": [
    "The table equivalent to this looks like the following:\r\n",
    "\r\n",
    "| array | sort(array) |\r\n",
    "| --- | --- |\r\n",
    "| {} | {} |\r\n",
    "| {a} | {a} |\r\n",
    "| {a, b} | merge(sort({a}), sort({b})) |\r\n",
    "| {a, b, c} | merge(sort({a, b}), sort({c})) |\r\n",
    "| {a, b, c, d} | merge(sort({a, b}), sort({c, d})) |\r\n",
    "| {a, b, c, d, e} | merge(sort({a, b}), sort({c, d, e})) |\r\n",
    "| ... | ... |"
   ]
  },
  {
   "cell_type": "markdown",
   "metadata": {},
   "source": [
    "Now our problem is reduced to coming up with a way to merge the two subarrays. How can we do that? Well, think about it this way: in the original sorting algorithm we came up with, the big question we needed an answer to was **\"what number comes next?\"**. Notice that since both of the subarrays are sorted, we know that the number which will come at the very beginning will be one of the two numbers at the start of both subarrays. Then, the next number will be one of the two next smallest numbers. We continue this on up until we have looked at all the numbers in both subarrays."
   ]
  },
  {
   "cell_type": "markdown",
   "metadata": {},
   "source": [
    "In assuming that there exists a magic sorting algorithm that works for a smaller array, we have come up with one potential implementation for what the magic sorting algorithm could be. And it has a name: **Merge Sort**."
   ]
  },
  {
   "cell_type": "markdown",
   "metadata": {},
   "source": [
    "### Exercise"
   ]
  },
  {
   "cell_type": "code",
   "execution_count": null,
   "metadata": {
    "dotnet_interactive": {
     "language": "csharp"
    }
   },
   "outputs": [
    {
     "data": {
      "text/html": "<table><thead><tr><th><i>index</i></th><th>value</th></tr></thead><tbody><tr><td>0</td><td><div class=\"dni-plaintext\">1</div></td></tr><tr><td>1</td><td><div class=\"dni-plaintext\">2</div></td></tr><tr><td>2</td><td><div class=\"dni-plaintext\">3</div></td></tr><tr><td>3</td><td><div class=\"dni-plaintext\">4</div></td></tr><tr><td>4</td><td><div class=\"dni-plaintext\">5</div></td></tr></tbody></table>"
     },
     "output_type": "unknown"
    },
    {
     "data": {
      "text/html": "<table><thead><tr><th><i>index</i></th><th>value</th></tr></thead><tbody><tr><td>0</td><td><div class=\"dni-plaintext\">1</div></td></tr><tr><td>1</td><td><div class=\"dni-plaintext\">2</div></td></tr><tr><td>2</td><td><div class=\"dni-plaintext\">3</div></td></tr><tr><td>3</td><td><div class=\"dni-plaintext\">4</div></td></tr><tr><td>4</td><td><div class=\"dni-plaintext\">5</div></td></tr></tbody></table>"
     },
     "output_type": "unknown"
    },
    {
     "data": {
      "text/html": "<table><thead><tr><th><i>index</i></th><th>value</th></tr></thead><tbody><tr><td>0</td><td><div class=\"dni-plaintext\">1</div></td></tr><tr><td>1</td><td><div class=\"dni-plaintext\">2</div></td></tr><tr><td>2</td><td><div class=\"dni-plaintext\">3</div></td></tr><tr><td>3</td><td><div class=\"dni-plaintext\">4</div></td></tr><tr><td>4</td><td><div class=\"dni-plaintext\">5</div></td></tr></tbody></table>"
     },
     "output_type": "unknown"
    },
    {
     "data": {
      "text/html": "<table><thead><tr><th><i>index</i></th><th>value</th></tr></thead><tbody><tr><td>0</td><td><div class=\"dni-plaintext\">1</div></td></tr></tbody></table>"
     },
     "output_type": "unknown"
    },
    {
     "data": {
      "text/html": "<i>(empty)</i>"
     },
     "output_type": "unknown"
    }
   ],
   "source": [
    "// Implement the methods merge() and mergesort_helper()\r\n",
    "\r\n",
    "// merge() takes in two sorted arrays, and merges them into a larger\r\n",
    "// sorted array containing all of the elements from the two provided arrays\r\n",
    "int[] merge(int[] a, int[] b) {\r\n",
    "    var result = new int[a.Length + b.Length];\r\n",
    "\r\n",
    "    return result;\r\n",
    "}\r\n",
    "\r\n",
    "// mergesort_helper() takes in an array and returns the result of sorting \r\n",
    "// the elements between the left index and the right indices\r\n",
    "void mergesort_helper(int[] array, int left, int right) {\r\n",
    "    if (right - left <= 1) {\r\n",
    "        return;\r\n",
    "    }\r\n",
    "    var mid = (left + right) / 2;\r\n",
    "    mergesort_helper(array, left, mid);\r\n",
    "    mergesort_helper(array, mid, right);\r\n",
    "\r\n",
    "    int i = left;\r\n",
    "    int j = mid;\r\n",
    "    int count = 0;\r\n",
    "\r\n",
    "    var result = new int[right - left];\r\n",
    "    while (i < mid || j < right) {\r\n",
    "        if (i == mid) {\r\n",
    "            result[count] = array[j];\r\n",
    "            j++;\r\n",
    "        } else if (j == right) {\r\n",
    "            result[count] = array[i];\r\n",
    "            i++;\r\n",
    "        } else {\r\n",
    "            if (array[i] < array[j]) {\r\n",
    "                result[count] = array[i];\r\n",
    "                i++;\r\n",
    "            } else {\r\n",
    "                result[count] = array[j];\r\n",
    "                j++;\r\n",
    "            }\r\n",
    "        }\r\n",
    "\r\n",
    "        count++;\r\n",
    "    }\r\n",
    "\r\n",
    "    for (i = left; i < right; i++) {\r\n",
    "        array[i] = result[i - left];\r\n",
    "    }\r\n",
    "}\r\n",
    "\r\n",
    "void mergesort(int[] array) {\r\n",
    "    mergesort_helper(array, 0, array.Length);\r\n",
    "}\r\n",
    "\r\n",
    "var v = new[]{ 2, 1, 3, 5, 4 };\r\n",
    "mergesort(v);\r\n",
    "display(v);\r\n",
    "\r\n",
    "v = new[]{ 5, 4, 3, 2, 1 };\r\n",
    "mergesort(v);\r\n",
    "display(v);\r\n",
    "\r\n",
    "v = new[]{ 1, 2, 3, 4, 5 };\r\n",
    "mergesort(v);\r\n",
    "display(v);\r\n",
    "\r\n",
    "v = new[]{ 1 };\r\n",
    "mergesort(v);\r\n",
    "display(v);\r\n",
    "\r\n",
    "v = new int[]{  };\r\n",
    "mergesort(v);\r\n",
    "display(v);"
   ]
  },
  {
   "cell_type": "markdown",
   "metadata": {},
   "source": [
    "### Bonus: Runtime of MergeSort"
   ]
  },
  {
   "cell_type": "markdown",
   "metadata": {},
   "source": [
    "As a bonus to the lesson, we can check out what the runtime of this algorithm is.\r\n",
    "\r\n",
    "Computing the runtime in terms of `n` requires adding up the number of operations that happen in terms of `n`. To do this, we can simply run the algorithm for an arbitrarily large array of size `n`, and count the operations as we go:\r\n",
    "\r\n",
    "Beginning with the array of size `n`, we know we will definitely have to look over `n` items during the merging process. So we can add `n` to our total, and compute the runtime of the subcalls. The subcalls will divide the array into two subarrays of half the size, and the same operation can be applied here. We look over a maximum of `n/2` items for both from merging. This contributes `2 * n/2 = n` operations to the runtime.\r\n",
    "\r\n",
    "Now we just need to add in the runtime of the four subsequent subcalls which will get made to sort the subarrays of size `n/4`. Here we will get `4 * n/4 = n` plus the runtime from the eight subcalls from those subcalls, and so on. We will have to keep repeating this until the subcalls at depth `k`, where `n/(2^k) = 1`. Solving for `k` in terms of `n`, we get `k = log(n)`. This means that once the subcalls at depth `k` have been made, we will have totaled `n + n + ... + n` operations, where the number of `n`s is equal to the depth of subcalls, which we have just computed as `log(n)`. So the total runtime of the merge sort algorithm is `O(n * log(n))`.\r\n",
    "\r\n",
    "Notice that `log(n)` is much smaller than `n`, and therefore `O(n * log(n))` is much more efficient than `O(n^2)`, which was the runtime of our original sorting method.\r\n",
    "\r\n",
    "In fact, `O(n * log(n))` is provably the fastest possible achievable runtime to sort objects using comparison. There still exist additional techniques which can be used to sort items in `O(n)` in special cases where comparison isn't required to order the objects, but these techniques will not be discussed in this curriculum."
   ]
  }
 ],
 "metadata": {
  "kernelspec": {
   "display_name": ".NET (C#)",
   "language": "C#",
   "name": ".net-csharp"
  },
  "language_info": {
   "name": "C#",
   "version": ""
  },
  "orig_nbformat": 2
 },
 "nbformat": 4,
 "nbformat_minor": 2
}